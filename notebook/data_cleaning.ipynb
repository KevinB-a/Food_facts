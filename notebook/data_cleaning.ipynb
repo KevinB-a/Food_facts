{
 "cells": [
  {
   "cell_type": "markdown",
   "metadata": {},
   "source": [
    "# Nettoyage des données"
   ]
  },
  {
   "cell_type": "markdown",
   "metadata": {},
   "source": [
    "## 0. Set-up"
   ]
  },
  {
   "cell_type": "markdown",
   "metadata": {},
   "source": [
    "### Mise en place de l'environnement"
   ]
  },
  {
   "cell_type": "code",
   "execution_count": 1,
   "metadata": {},
   "outputs": [],
   "source": [
    "import pandas as pd\n",
    "import numpy as np\n",
    "\n",
    "import sqlalchemy\n",
    "import mysql.connector\n",
    "\n",
    "import sys\n",
    "sys.path.insert(0, \"/home/apprenant/simplon_project/food_facts\")\n",
    "\n",
    "\n",
    "#On peut ensuite importer le dossier comme un module\n",
    "\n",
    "from src.d00_utils.mysql_utils import mysql_connect, save_to_mysql\n",
    "connect = mysql_connect()"
   ]
  },
  {
   "cell_type": "code",
   "execution_count": 2,
   "metadata": {},
   "outputs": [],
   "source": [
    "food_info = pd.read_csv(\"/home/apprenant/simplon_project/food_facts/data/foodfacts.tsv\", sep= '\\t' , low_memory= False)"
   ]
  },
  {
   "cell_type": "code",
   "execution_count": 31,
   "metadata": {},
   "outputs": [],
   "source": [
    "# on limite les données à 10000 lignes elle sont choisit aléatoirement \n",
    "df = food_info.sample(10000) \n"
   ]
  },
  {
   "cell_type": "code",
   "execution_count": 32,
   "metadata": {},
   "outputs": [
    {
     "output_type": "execute_result",
     "data": {
      "text/plain": [
       "array(['code', 'url', 'creator', 'created_t', 'created_datetime',\n",
       "       'last_modified_t', 'last_modified_datetime', 'product_name',\n",
       "       'generic_name', 'quantity', 'packaging', 'packaging_tags',\n",
       "       'brands', 'brands_tags', 'categories', 'categories_tags',\n",
       "       'categories_en', 'origins', 'origins_tags', 'manufacturing_places',\n",
       "       'manufacturing_places_tags', 'labels', 'labels_tags', 'labels_en',\n",
       "       'emb_codes', 'emb_codes_tags', 'first_packaging_code_geo',\n",
       "       'cities', 'cities_tags', 'purchase_places', 'stores', 'countries',\n",
       "       'countries_tags', 'countries_en', 'ingredients_text', 'allergens',\n",
       "       'allergens_en', 'traces', 'traces_tags', 'traces_en',\n",
       "       'serving_size', 'no_nutriments', 'additives_n', 'additives',\n",
       "       'additives_tags', 'additives_en', 'ingredients_from_palm_oil_n',\n",
       "       'ingredients_from_palm_oil', 'ingredients_from_palm_oil_tags',\n",
       "       'ingredients_that_may_be_from_palm_oil_n',\n",
       "       'ingredients_that_may_be_from_palm_oil',\n",
       "       'ingredients_that_may_be_from_palm_oil_tags', 'nutrition_grade_uk',\n",
       "       'nutrition_grade_fr', 'pnns_groups_1', 'pnns_groups_2', 'states',\n",
       "       'states_tags', 'states_en', 'main_category', 'main_category_en',\n",
       "       'image_url', 'image_small_url', 'energy_100g',\n",
       "       'energy-from-fat_100g', 'fat_100g', 'saturated-fat_100g',\n",
       "       '-butyric-acid_100g', '-caproic-acid_100g', '-caprylic-acid_100g',\n",
       "       '-capric-acid_100g', '-lauric-acid_100g', '-myristic-acid_100g',\n",
       "       '-palmitic-acid_100g', '-stearic-acid_100g',\n",
       "       '-arachidic-acid_100g', '-behenic-acid_100g',\n",
       "       '-lignoceric-acid_100g', '-cerotic-acid_100g',\n",
       "       '-montanic-acid_100g', '-melissic-acid_100g',\n",
       "       'monounsaturated-fat_100g', 'polyunsaturated-fat_100g',\n",
       "       'omega-3-fat_100g', '-alpha-linolenic-acid_100g',\n",
       "       '-eicosapentaenoic-acid_100g', '-docosahexaenoic-acid_100g',\n",
       "       'omega-6-fat_100g', '-linoleic-acid_100g',\n",
       "       '-arachidonic-acid_100g', '-gamma-linolenic-acid_100g',\n",
       "       '-dihomo-gamma-linolenic-acid_100g', 'omega-9-fat_100g',\n",
       "       '-oleic-acid_100g', '-elaidic-acid_100g', '-gondoic-acid_100g',\n",
       "       '-mead-acid_100g', '-erucic-acid_100g', '-nervonic-acid_100g',\n",
       "       'trans-fat_100g', 'cholesterol_100g', 'carbohydrates_100g',\n",
       "       'sugars_100g', '-sucrose_100g', '-glucose_100g', '-fructose_100g',\n",
       "       '-lactose_100g', '-maltose_100g', '-maltodextrins_100g',\n",
       "       'starch_100g', 'polyols_100g', 'fiber_100g', 'proteins_100g',\n",
       "       'casein_100g', 'serum-proteins_100g', 'nucleotides_100g',\n",
       "       'salt_100g', 'sodium_100g', 'alcohol_100g', 'vitamin-a_100g',\n",
       "       'beta-carotene_100g', 'vitamin-d_100g', 'vitamin-e_100g',\n",
       "       'vitamin-k_100g', 'vitamin-c_100g', 'vitamin-b1_100g',\n",
       "       'vitamin-b2_100g', 'vitamin-pp_100g', 'vitamin-b6_100g',\n",
       "       'vitamin-b9_100g', 'folates_100g', 'vitamin-b12_100g',\n",
       "       'biotin_100g', 'pantothenic-acid_100g', 'silica_100g',\n",
       "       'bicarbonate_100g', 'potassium_100g', 'chloride_100g',\n",
       "       'calcium_100g', 'phosphorus_100g', 'iron_100g', 'magnesium_100g',\n",
       "       'zinc_100g', 'copper_100g', 'manganese_100g', 'fluoride_100g',\n",
       "       'selenium_100g', 'chromium_100g', 'molybdenum_100g', 'iodine_100g',\n",
       "       'caffeine_100g', 'taurine_100g', 'ph_100g',\n",
       "       'fruits-vegetables-nuts_100g',\n",
       "       'fruits-vegetables-nuts-estimate_100g',\n",
       "       'collagen-meat-protein-ratio_100g', 'cocoa_100g',\n",
       "       'chlorophyl_100g', 'carbon-footprint_100g',\n",
       "       'nutrition-score-fr_100g', 'nutrition-score-uk_100g',\n",
       "       'glycemic-index_100g', 'water-hardness_100g'], dtype=object)"
      ]
     },
     "metadata": {},
     "execution_count": 32
    }
   ],
   "source": [
    "df.columns.values"
   ]
  },
  {
   "cell_type": "markdown",
   "metadata": {},
   "source": [
    "## 1. Sélection des colonnes"
   ]
  },
  {
   "cell_type": "markdown",
   "metadata": {},
   "source": [
    "J'affiche un échantillon de mes données pour analyser la pertinence des différentes colonnes"
   ]
  },
  {
   "cell_type": "code",
   "execution_count": 33,
   "metadata": {
    "tags": []
   },
   "outputs": [
    {
     "output_type": "stream",
     "name": "stdout",
     "text": [
      "                 code                                                url  \\\n153064  0815369010740  http://world-en.openfoodfacts.org/product/0815...   \n161898  0852793005218  http://world-en.openfoodfacts.org/product/0852...   \n308848  5600317476335  http://world-en.openfoodfacts.org/product/5600...   \n5717    0011150165716  http://world-en.openfoodfacts.org/product/0011...   \n5923    0011150270274  http://world-en.openfoodfacts.org/product/0011...   \n\n                creator   created_t      created_datetime last_modified_t  \\\n153064  usda-ndb-import  1489144126  2017-03-10T11:08:46Z      1489144126   \n161898  usda-ndb-import  1489073062  2017-03-09T15:24:22Z      1489073063   \n308848          kiliweb  1496003362  2017-05-28T20:29:22Z      1496004012   \n5717    usda-ndb-import  1489096598  2017-03-09T21:56:38Z      1489096598   \n5923    usda-ndb-import  1489053816  2017-03-09T10:03:36Z      1489053816   \n\n       last_modified_datetime                                 product_name  \\\n153064   2017-03-10T11:08:46Z  Organic Sparkling Italian Soda, Pomegranate   \n161898   2017-03-09T15:24:23Z                           Sparkling Beverage   \n308848   2017-05-28T20:40:12Z                          Graines de Chia Bio   \n5717     2017-03-09T21:56:38Z        Sparkling Water, Strawberry, Lemonade   \n5923     2017-03-09T10:03:36Z                                   Peanut Oil   \n\n               generic_name quantity  ... fruits-vegetables-nuts_100g  \\\n153064                  NaN      NaN  ...                         NaN   \n161898                  NaN      NaN  ...                         NaN   \n308848  Graines de Chia Bio    250 g  ...                         NaN   \n5717                    NaN      NaN  ...                         NaN   \n5923                    NaN      NaN  ...                         NaN   \n\n       fruits-vegetables-nuts-estimate_100g collagen-meat-protein-ratio_100g  \\\n153064                                  NaN                              NaN   \n161898                                  NaN                              NaN   \n308848                                  NaN                              NaN   \n5717                                    NaN                              NaN   \n5923                                    NaN                              NaN   \n\n       cocoa_100g chlorophyl_100g carbon-footprint_100g  \\\n153064        NaN             NaN                   NaN   \n161898        NaN             NaN                   NaN   \n308848        NaN             NaN                   NaN   \n5717          NaN             NaN                   NaN   \n5923          NaN             NaN                   NaN   \n\n       nutrition-score-fr_100g nutrition-score-uk_100g glycemic-index_100g  \\\n153064                     2.0                     2.0                 NaN   \n161898                     NaN                     NaN                 NaN   \n308848                    -2.0                    -2.0                 NaN   \n5717                       NaN                     NaN                 NaN   \n5923                       NaN                     NaN                 NaN   \n\n       water-hardness_100g  \n153064                 NaN  \n161898                 NaN  \n308848                 NaN  \n5717                   NaN  \n5923                   NaN  \n\n[5 rows x 163 columns]\nIndex(['code', 'url', 'creator', 'created_t', 'created_datetime',\n       'last_modified_t', 'last_modified_datetime', 'product_name',\n       'generic_name', 'quantity',\n       ...\n       'fruits-vegetables-nuts_100g', 'fruits-vegetables-nuts-estimate_100g',\n       'collagen-meat-protein-ratio_100g', 'cocoa_100g', 'chlorophyl_100g',\n       'carbon-footprint_100g', 'nutrition-score-fr_100g',\n       'nutrition-score-uk_100g', 'glycemic-index_100g',\n       'water-hardness_100g'],\n      dtype='object', length=163)\n"
     ]
    }
   ],
   "source": [
    "print(df.head())\n",
    "print(df.columns)"
   ]
  },
  {
   "cell_type": "markdown",
   "metadata": {},
   "source": [
    "Je choisis uniquement les colonnes qui pourraient m'être utiles pour mon étude\n"
   ]
  },
  {
   "cell_type": "markdown",
   "metadata": {},
   "source": [
    "## 2. Valeurs manquantes"
   ]
  },
  {
   "cell_type": "code",
   "execution_count": 35,
   "metadata": {},
   "outputs": [],
   "source": [
    "df = df[['product_name','countries','ingredients_text','ingredients_from_palm_oil_n','nutrition_grade_fr','energy_100g','fat_100g','sugars_100g','fiber_100g','proteins_100g','salt_100g','nutrition-score-fr_100g', 'sodium_100g', 'carbohydrates_100g','saturated-fat_100g']]"
   ]
  },
  {
   "cell_type": "code",
   "execution_count": 36,
   "metadata": {},
   "outputs": [
    {
     "output_type": "stream",
     "name": "stdout",
     "text": [
      "product_name                    509\ncountries                        10\ningredients_text               2014\ningredients_from_palm_oil_n    2014\nnutrition_grade_fr             2817\nenergy_100g                    1700\nfat_100g                       2121\nsugars_100g                    2174\nfiber_100g                     3835\nproteins_100g                  1738\nsalt_100g                      1867\nnutrition-score-fr_100g        2817\nsodium_100g                    1869\ncarbohydrates_100g             2134\nsaturated-fat_100g             2588\ndtype: int64\n(10000, 15)\n"
     ]
    }
   ],
   "source": [
    "print(df.isnull().sum()) \n",
    "print(df.shape)"
   ]
  },
  {
   "cell_type": "markdown",
   "metadata": {},
   "source": [
    "il me manque entre 1700 et 3900 données dans chaque colonnes sauf pour les colonnes contries , states et product_name ou il y a peu ou tres peu de valeurs manquantes"
   ]
  },
  {
   "cell_type": "markdown",
   "metadata": {},
   "source": [
    "### Traitement de product_name"
   ]
  },
  {
   "source": [
    "on supprime les lignes ou la valeur de la colonne product_name est nulle car le but de ses données nettoyer est de les utiliser pour une application donc il faut que le nom du produit apparait"
   ],
   "cell_type": "markdown",
   "metadata": {}
  },
  {
   "cell_type": "code",
   "execution_count": 37,
   "metadata": {},
   "outputs": [],
   "source": [
    "df.dropna(subset = ['product_name'], inplace = True)"
   ]
  },
  {
   "source": [
    "### Traitement de ingredients_text"
   ],
   "cell_type": "markdown",
   "metadata": {}
  },
  {
   "cell_type": "code",
   "execution_count": 38,
   "metadata": {
    "scrolled": true
   },
   "outputs": [
    {
     "output_type": "stream",
     "name": "stdout",
     "text": [
      "['Carbonated water, organic sugar, organic apple and organic pomegranate juice from concentrate, citric acid, natural flavor, organic black carrot juice from concentrate.'\n 'Carbonated water, sugar (cane), natural flavors, apple juice concentrate, citric acid, ascorbic acid, reb a (stevia extract), beta carotene (color).'\n nan ...\n 'Sucre, beurre de cacao, poudre de _lait_ écrémé, pâte de cacao, lactosérum en poudre (de _lait_), _beurre_ concentré, pâte de _noisettes_, émulsifiant (lécithine de _soja_), arôme.'\n \"Farine de blé, beurre pâtissier 26,7% (bêta-carotène), sucre, oeufs et jaunes d'oeufs frais, lait écrémé en poudre, carbonate acide de sodium, carbonate acide d'ammonium, acide tartrique, sel.\"\n \"Farine de blé - beurre 30% - sucre - oeufs - sel - poudre à lever : carbonates d'ammonium - colorant : caroténoïdes. Traces de soja et de graines de sésame. Les informations en gras sont destinées intolérantes ou personnes aux allergiques.\"]\nCarbonated water, natural flavor.                                                                                                                                                                                                                                                                                                                                                                                                                                                                                                            11\nAlmonds.                                                                                                                                                                                                                                                                                                                                                                                                                                                                                                                                      9\nSemolina (wheat), durum flour (wheat), niacin, ferrous sulfate (iron), thiamin mononitrate, riboflavin, folic acid.                                                                                                                                                                                                                                                                                                                                                                                                                           9\nExtra virgin olive oil                                                                                                                                                                                                                                                                                                                                                                                                                                                                                                                        8\nPecans.                                                                                                                                                                                                                                                                                                                                                                                                                                                                                                                                       7\n                                                                                                                                                                                                                                                                                                                                                                                                                                                                                                                                             ..\nZucker, _Pistazien_ 30%, pflanzliche Öle (Palm, Raps), _Magermilchpulver_, _Süßmolkenpulver_, _Laktose_, Emulgator Rapslecithine, Speisesalz, Vanilleextrakt, Farbstoff Kupferkomplexe der Chlorophylle und Chlorophylline, Antioxidationsmittel Stark-tocopherolhaltige Extrakte.                                                                                                                                                                                                                                                            1\nEnriched durum semolina [semolina, niacin, ferrous sulfate (iron), thiamin mononitrate, riboflavin, folic acid], corn flour, egg white.                                                                                                                                                                                                                                                                                                                                                                                                       1\nPopcorn, vegetable oil (contains one or more of the following: canola oil, corn oil, cottonseed oil), dairy whey, maltodextrin, salt, reduced lactose dairy whey, dextrose, cheddar cheese (cultured milk, salt, enzymes), natural flavors, buttermilk, disodium phosphate, citric acid, disodium inosinate, disodium guanylate, lactic acid.                                                                                                                                                                                                 1\nZucker, _Weizenmehl_, 14% Milchschokoladeplättchen (Zucker, _Vollmilchpulver_, Kakaomasse, Kakaobutter, Emulgator _Sojalecithin_ [E322]), 7% dunkle Schokoladetropfen (Zucker, Kakaomasse, Kakaobutter, fettarmes Kakaopulver, Emulgatore _Sojalecithin_ [E322]), 7% fettarmes Kakaopulver, Fettpulver (Palmöl, Glukosesirup, _Milcheiweiß_, Trennmittel E551), _Volleipulver_ (_Hühner-Vollei_, Maltodextrin), Reisstärke, Emulgator (E475, E471), Backtriebmittel (E450, E500), _Weizenstärke_, jodirtes Speisesalz, natürliches Aroma.     1\nEau, sucre, vinaigre concentré de tomates, sel amidon modifié de maïs, colorant : E150a, arôme et arôme de fumée, ail, épices, épaississant : gomme de xanthane, conservateur : sorbate de potassium                                                                                                                                                                                                                                                                                                                                          1\nName: ingredients_text, Length: 7715, dtype: int64\n"
     ]
    }
   ],
   "source": [
    "print(df.ingredients_text.unique())\n",
    "print(df.ingredients_text.value_counts())"
   ]
  },
  {
   "source": [
    "on ne remplacera pas les valeurs manquantes , on ne peut pas donner la liste des elements du produit"
   ],
   "cell_type": "markdown",
   "metadata": {}
  },
  {
   "cell_type": "code",
   "execution_count": 39,
   "metadata": {},
   "outputs": [
    {
     "output_type": "stream",
     "name": "stdout",
     "text": [
      "[0.000e+00 1.640e+01 3.000e-01 1.200e+00 1.500e+00 1.667e+01 8.400e+00\n 9.900e+00       nan 3.330e+00 5.650e+00 4.000e+00 3.200e+00 7.140e+00\n 7.410e+00 6.000e-01 6.429e+01 6.200e+00 3.000e+01 8.700e+00 2.357e+01\n 5.900e+00 3.570e+00 4.000e-01 2.100e+01 6.670e+00 8.110e+00 2.700e+00\n 4.100e+00 4.200e+00 1.935e+01 1.000e+01 5.800e+00 1.250e+01 9.500e+00\n 3.500e+00 3.850e+00 2.143e+01 6.700e+00 1.400e+01 7.500e+00 1.180e+00\n 1.090e+01 1.600e+01 2.470e+00 2.080e+00 7.070e+00 4.400e+00 9.000e-01\n 4.620e+00 1.300e+01 8.000e+00 5.000e-01 1.800e+00 8.300e-01 5.500e+00\n 1.000e-01 9.550e+00 2.100e+00 9.000e+00 1.304e+01 1.120e+00 3.700e+00\n 4.230e+00 1.000e+00 2.350e+00 6.780e+00 6.000e+00 1.333e+01 1.176e+01\n 2.400e+00 7.300e+00 3.880e+00 4.700e+00 2.321e+01 1.429e+01 9.300e+00\n 4.880e+00 7.000e-01 1.600e+00 1.400e+00 2.500e+01 6.300e+00 8.300e+00\n 2.300e+01 2.000e+01 8.800e+00 8.970e+00 4.300e+00 4.500e+00 6.400e+00\n 1.786e+01 7.700e+00 8.240e+00 8.500e+00 5.000e+00 1.857e+01 4.600e+00\n 4.170e+00 5.380e+00 5.560e+00 2.667e+01 1.300e+00 2.050e+01 4.200e-01\n 8.570e+00 2.000e+00 1.404e+01 6.100e+00 2.600e+00 2.198e+01 7.800e+00\n 2.400e+01 5.260e+00 2.900e+01 1.458e+01 1.100e+00 1.030e+00 7.080e+00\n 1.607e+01 1.064e+01 1.630e+00 3.080e+00 1.062e+01 6.980e+00 2.222e+01\n 3.400e-01 1.294e+01 6.060e+00 2.500e-01 4.640e+00 4.800e+00 6.500e+00\n 2.000e-01 7.230e+00 2.800e+01 2.121e+01 1.500e+01 1.800e+01 1.900e+01\n 2.940e+00 2.310e+00 3.000e+00 2.040e+00 5.200e+00 1.700e+01 5.060e+00\n 3.120e+00 1.964e+01 7.200e+00 3.400e+00 7.900e+00 3.030e+00 3.510e+00\n 3.300e+00 1.900e+00 1.200e+01 5.300e+00 2.857e+01 4.900e+00 1.410e+00\n 2.381e+01 5.100e+00 2.188e+01 2.920e+00 1.670e+00 1.593e+01 2.330e+01\n 2.500e+00 3.320e+01 8.000e-01 2.650e+00 8.200e+00 3.214e+01 1.071e+01\n 3.100e+00 2.710e+01 7.000e+00 1.705e+01 8.100e+00 6.320e+00 1.110e+01\n 8.820e+00 3.450e+00 1.630e+01 7.750e+00 6.800e+00 5.400e+00 2.600e+01\n 7.500e-01 2.220e+01 9.620e+00 6.900e+00 2.800e+00 9.640e+00 3.530e+00\n 2.200e+00 1.316e+01 9.380e+00 5.710e+00 4.000e+01 1.640e+00 4.650e+00\n 2.900e+00 2.124e+01 2.700e+01 1.100e+01 1.750e+00 2.235e+01 5.900e-01\n 1.317e+01 7.690e+00 1.057e+01 2.105e+01 4.260e+00 8.930e+00 3.500e+01\n 1.132e+01 1.890e+01 7.650e+00 1.190e+01 4.760e+00 9.100e+00 7.400e+00\n 8.330e+00 5.290e+00 3.190e+00 9.230e+00 2.330e+00 9.520e+00 8.100e-01\n 1.576e+01 8.060e+00 2.270e+00 1.540e+01 6.600e+00 9.200e+00 1.058e+01\n 8.600e+00 2.230e+01 1.790e+01 1.980e+01 6.070e+00 7.100e+00 9.600e+00\n 2.820e+00 1.000e-02 3.000e-02 1.790e+00 9.090e+00 1.270e+01 9.300e-01\n 1.887e+01 1.690e+01 1.820e+00 8.800e+01 2.780e+00 2.860e+00 3.270e+00\n 1.220e+01 8.020e+00 1.111e+01 2.250e+00 9.410e+00 3.600e+00 1.960e+00\n 3.478e+01 3.640e+00 2.200e+01 1.313e+01 5.770e+00 7.100e-01 4.080e+00\n 2.380e+00 1.390e+00 1.053e+01 6.250e+00 5.700e+00 2.680e+01 2.333e+01\n 1.579e+01 1.026e+01 7.700e-01 2.540e+01 8.400e-01 3.170e+00 1.070e+00\n 2.420e+00 6.610e+00 8.190e+00 1.020e+01 9.730e+00 1.923e+01 4.290e+00\n 1.080e+01 3.640e+01 1.210e+01 2.990e+00 7.330e+00 3.929e+01 1.120e+01\n 5.330e+00 2.051e+01 3.571e+01 2.471e+01 1.660e+00 5.080e+00 8.900e-01\n 7.900e-01 5.690e+00 3.760e+00 6.450e+00 2.183e+01 2.410e+01 5.880e+00\n 2.610e+01 1.059e+01 6.600e-01 1.087e+01 5.600e+00 2.450e+01 3.800e+00\n 1.850e+00 6.150e+00 5.170e+00 4.810e+00 8.510e+00 9.840e+00 4.920e+00\n 1.540e+00 1.515e+01 3.200e-01 1.010e+00 4.550e+00 2.980e+00 1.452e+01\n 4.710e+00 2.440e+00 7.510e+00 4.350e+00 2.300e+00 1.875e+01 1.034e+01\n 8.850e+00 1.845e+01 1.330e+01 5.450e+00 1.408e+01 1.905e+01 6.360e+00\n 8.800e-01 5.740e+00 5.360e+00 1.696e+01 6.550e+00 5.410e+00 2.030e+00\n 4.540e+00 5.430e+00 1.700e+00 4.490e+00 2.460e+00 2.890e+00 8.840e+00\n 1.688e+01 2.353e+01 4.120e+00 1.310e+01 1.890e+00 1.504e+01 2.281e+01\n 8.500e-01 1.050e+01 6.100e-01 2.520e+01 2.060e+01 5.130e+00 1.081e+01\n 1.090e+00 3.030e+01 5.490e+00 2.609e+01 8.470e+00 1.168e+01 7.600e+00\n 3.380e+00 2.340e+00 4.690e+00 9.800e+00 1.290e+01 5.600e-01 1.163e+01\n 1.947e+01 5.240e+00 1.471e+01 4.100e-01 1.150e+01 4.250e+00 3.390e+00\n 3.800e+01 2.220e+00 3.750e+00 7.060e+00 1.240e+01 4.820e+00 8.860e+00\n 1.960e+01 1.420e+01 9.680e+00 1.400e-01 2.110e+01 1.091e+01 2.031e+01\n 2.630e+00 2.540e+00 7.270e+00 3.770e+00 1.228e+01 5.310e+00 1.060e+01\n 6.200e-01 1.010e+01 2.364e+01 1.430e+00 7.890e+00 4.280e+00 1.680e+01\n 1.230e+01 3.250e+01 1.160e+01 2.083e+01 1.650e+01 9.400e+00 7.350e+00\n 5.570e+00 1.740e+00 1.610e+00 6.700e-01 9.700e+00 4.400e-01 1.273e+01\n 6.410e+00 9.400e-01 1.967e+01 4.540e+01 4.900e+01 1.180e+01 3.810e+00\n 6.500e-01 8.210e+00 1.870e+01 3.150e+00 4.040e+00 2.300e-01 1.613e+01\n 3.660e+00 8.670e+00 1.450e+01 7.020e+00 1.782e+01 1.385e+01 2.670e+00\n 8.610e+00 8.900e+00 3.900e+00 1.930e+01 1.770e+00 1.390e+01 1.562e+01\n 1.130e+01 1.549e+01 8.450e+00 9.100e-01 1.765e+01 2.273e+01 1.970e+01\n 1.518e+01 4.211e+01 4.440e+00 2.180e+01 3.100e+01 1.256e+01 3.093e+01\n 4.390e+00 8.160e+00 2.308e+01 1.858e+01 1.070e+01 1.714e+01 9.500e-01\n 4.980e+00 1.530e+00 2.280e+01 8.200e-01 6.820e+00 6.540e+00 7.490e+00\n 1.818e+01 1.357e+01 1.750e+01 1.159e+01 1.780e+01 8.080e+00 4.762e+01\n 8.960e+00 1.580e+01 1.820e+01 8.890e+00 8.770e+00 1.154e+01 3.889e+01\n 4.286e+01 6.090e+00 7.040e+00 1.570e+01 2.310e-01 7.800e-01 1.339e+01\n 4.930e+00 2.424e+01 1.463e+01 6.730e+00 1.080e+00 1.548e+01 2.182e+01\n 1.800e-01 2.497e+01 1.455e+01 2.358e+01 1.860e+01 1.140e+00 1.231e+01\n 6.750e+00 1.439e+01 9.570e+00 6.500e+01 1.636e+01 3.230e+00 5.730e+00\n 2.070e+00 3.300e+01 2.550e+01 2.632e+01 3.540e+00 1.040e+01 1.350e+01\n 2.174e+01 2.034e+01 2.740e+00 1.690e+00 2.727e+01 4.420e+00 5.070e+00\n 4.240e+00 1.710e+01 2.070e+01 8.100e+01 2.054e+01 2.292e+01 1.129e+01\n 5.940e+00 4.850e+00 5.480e+00 1.618e+01 8.220e+00 7.660e+00 2.680e+00\n 4.545e+01 1.470e+00 1.698e+01 2.050e+00 1.410e+01 4.643e+01 5.420e+00\n 5.970e+00 1.412e+01 9.650e+00 1.350e+00 1.864e+01 2.410e+00 1.030e+01\n 1.560e+01 1.280e+01 8.270e+00 1.739e+01 6.380e+00 1.139e+01 3.670e+00\n 1.720e+01 3.520e+00 1.260e+01 1.041e+01 1.324e+01 4.300e-01 1.296e+01\n 1.216e+01 1.778e+01 6.560e+00 3.333e+01 2.580e+01 2.640e+00 2.478e+01\n 1.258e+01 7.320e+00 2.270e+01 1.395e+01 2.250e+01 1.764e+01 4.840e+00\n 7.700e+01 1.445e+01 1.170e+01 8.750e+00 1.990e+01 1.510e+01 9.760e+00\n 1.470e+01 7.030e+00 4.030e+01 7.050e+00 2.460e+01 8.430e+00 6.920e+00\n 1.900e-01 2.917e+01 1.127e+01 6.110e+00 3.800e-01 2.545e+01 2.560e+00\n 3.470e+00 4.830e+00 2.290e+01 1.098e+01 1.933e+01 3.610e+00 1.161e+01\n 2.020e+01 3.200e+01 9.860e+00 2.140e+00 2.450e+00 4.400e+01 2.780e-01\n 3.420e+00 2.340e+01 1.039e+01 1.660e+01 1.340e+01 6.280e+00 2.170e+01\n 1.590e+01 1.331e+01 6.270e+00 1.239e+01 4.410e+00 1.970e+00 1.850e+01\n 1.287e+01 4.150e+00 1.250e+00 2.800e-01 1.136e+01 1.327e+01 6.190e+00\n 2.310e+01 3.750e+01 2.850e+00 4.700e+01 2.880e+00 1.702e+01 2.118e+01\n 2.320e+01 1.320e+00 9.290e+00 2.020e+00 2.042e+01 8.000e-02 1.143e+01\n 1.056e+01 2.941e+01 1.951e+01 8.030e+01 2.963e+01 3.920e+00 1.416e+01\n 6.330e+00 1.520e+00 3.040e+00 2.130e+00 9.070e+00 5.000e-02 1.118e+01\n 1.450e+00 1.550e+01 2.440e+01 7.580e+00 2.144e+01 6.120e+00 5.670e+00\n 2.035e+01 1.380e+01 2.360e+01 1.647e+01 8.050e+00 8.600e+01 8.400e+01\n 1.229e+01 4.250e+01 1.569e+01 1.444e+01 1.522e+01 4.048e+01 1.840e+01\n 1.418e+01 2.059e+01 3.960e+00 7.550e+00 8.370e+00 2.069e+01 1.494e+01\n 2.130e+01 3.210e+01 2.589e+01 1.770e+01 1.280e+00 1.490e+01 6.400e-01\n 1.330e+00 2.558e+01 6.000e-02 1.038e+01 3.990e+00 6.300e-01 5.090e+00\n 7.200e-01 2.778e+01 1.207e+01 1.760e+00 7.400e-01 7.840e+00 5.238e+01\n 2.571e+01 1.061e+01 4.210e+00 1.351e+01 2.037e+01 5.190e+00 1.842e+01\n 3.280e+00 2.824e+01 1.830e+01 2.075e+01 1.691e+01 5.200e-01 1.570e+00\n 4.480e+00 1.520e+01 1.730e+01 1.831e+01 1.560e+00 5.470e+00 1.475e+01\n 2.520e+00 1.140e+01 1.480e+01 1.758e+01 7.670e+00 1.190e+00 5.160e+00\n 3.910e+00 6.710e+00 6.010e+00 1.731e+01 2.260e+01 3.900e+01 1.277e+01\n 8.000e+01 7.000e+01 2.910e+01 1.110e+00 1.373e+01 2.630e+01 2.737e+01\n 1.491e+01 2.432e+01 1.379e+01 7.960e+00 1.577e+01 1.148e+01 2.480e+00\n 2.730e+00 2.593e+01 1.889e+01 1.878e+01 1.288e+01 9.470e+00 1.810e+01\n 3.950e+00 4.363e+00 1.360e+01 1.286e+01 1.880e+00 1.000e-04 3.700e+01\n 1.321e+01 1.235e+01 1.017e+01 2.380e+01 3.425e+01 1.868e+01 3.125e+01\n 1.024e+01 1.680e+00 5.000e+01 2.047e+01 3.056e+01 1.013e+01 2.210e+00\n 2.570e+00 3.420e+01 4.580e+00 6.470e+00 3.290e+00 9.430e+00 1.343e+01\n 2.155e+01 1.364e+01 3.210e+00 6.960e+00 2.430e+01 6.350e+00 4.610e+00\n 7.870e+00 2.350e+01 1.571e+01 1.760e+01 4.470e+00 2.372e+01 3.095e+01\n 2.674e+01 8.830e+00 1.681e+01 1.880e+01 1.628e+01 2.250e-01 1.920e+00\n 2.078e+01 9.900e-01 3.370e+00 1.171e+01 1.074e+01 1.610e+01 8.810e+00\n 2.030e+01 1.236e+01 4.300e+01 1.724e+01 1.754e+01 2.200e-01 1.449e+01\n 2.480e+01 6.670e-01 6.270e+01 1.460e+00 4.500e-01 4.444e+01 2.301e+01\n 2.760e+01 6.180e+00 7.620e+00 5.520e+00 1.045e+01 1.117e+01 3.410e+00\n 2.125e+01 1.320e+01 1.440e+01 2.730e+01 5.910e+00 2.370e+01 9.330e+00\n 1.099e+01 1.358e+01 7.407e+01 1.122e+01 1.370e+01 2.530e+01]\n0.00     1535\n7.14      180\n25.00     136\n0.50      117\n10.00     114\n         ... \n5.94        1\n13.13       1\n18.87       1\n12.16       1\n47.62       1\nName: proteins_100g, Length: 887, dtype: int64\n"
     ]
    }
   ],
   "source": [
    "print(df.proteins_100g.unique())\n",
    "print(df.proteins_100g.value_counts())"
   ]
  },
  {
   "source": [
    "on remplace les valeurs 'nan' par zéro dans les colonnes séléctionnées "
   ],
   "cell_type": "markdown",
   "metadata": {}
  },
  {
   "cell_type": "code",
   "execution_count": 40,
   "metadata": {},
   "outputs": [
    {
     "output_type": "execute_result",
     "data": {
      "text/plain": [
       "                                       product_name countries  \\\n",
       "153064  Organic Sparkling Italian Soda, Pomegranate        US   \n",
       "161898                           Sparkling Beverage        US   \n",
       "308848                          Graines de Chia Bio    France   \n",
       "5717          Sparkling Water, Strawberry, Lemonade        US   \n",
       "5923                                     Peanut Oil        US   \n",
       "...                                             ...       ...   \n",
       "170763                       Dark Chocolate, Orange        US   \n",
       "81885             Go Lite!, Popcorn, Himalayan Salt        US   \n",
       "328856                        Vache Joyeuses Pâques    France   \n",
       "213431                     Palets breton pur beurre    France   \n",
       "207301                     Palets Bretons Au Beurre    France   \n",
       "\n",
       "                                         ingredients_text  \\\n",
       "153064  Carbonated water, organic sugar, organic apple...   \n",
       "161898  Carbonated water, sugar (cane), natural flavor...   \n",
       "308848                                                NaN   \n",
       "5717    Carbonated water, citric acid, natural flavor,...   \n",
       "5923                                          Peanut oil.   \n",
       "...                                                   ...   \n",
       "170763  Cocoa beans*+, cane sugar*+, cocoa butter*+, g...   \n",
       "81885        Select popcorn, coconut oil, himalayan salt.   \n",
       "328856  Sucre, beurre de cacao, poudre de _lait_ écrém...   \n",
       "213431  Farine de blé, beurre pâtissier 26,7% (bêta-ca...   \n",
       "207301  Farine de blé - beurre 30% - sucre - oeufs - s...   \n",
       "\n",
       "        ingredients_from_palm_oil_n nutrition_grade_fr  energy_100g  fat_100g  \\\n",
       "153064                          0.0                  b        209.0      0.00   \n",
       "161898                          0.0                NaN         71.0      0.00   \n",
       "308848                          0.0                  a       1734.0     30.10   \n",
       "5717                            0.0                NaN          0.0      0.00   \n",
       "5923                            0.0                NaN       3586.0    100.00   \n",
       "...                             ...                ...          ...       ...   \n",
       "170763                          0.0                  d       2092.0     38.10   \n",
       "81885                           0.0                  d       1891.0     19.77   \n",
       "328856                          0.0                  e       2220.0     29.50   \n",
       "213431                          0.0                  e       2160.0     27.00   \n",
       "207301                          0.0                  e       2117.0     26.00   \n",
       "\n",
       "        sugars_100g  fiber_100g  proteins_100g  salt_100g  \\\n",
       "153064        12.08         0.0           0.00    0.02540   \n",
       "161898         4.06         0.0           0.00    0.00000   \n",
       "308848         0.50        41.0          16.40    0.01000   \n",
       "5717           0.00         0.0           0.00    0.00508   \n",
       "5923           0.00         0.0           0.00    0.00000   \n",
       "...             ...         ...            ...        ...   \n",
       "170763        30.95         9.5           7.14    0.00000   \n",
       "81885          0.00        11.3          11.30    1.43510   \n",
       "328856        58.00         1.8           6.30    0.43000   \n",
       "213431        23.00         0.0           5.20    0.34000   \n",
       "207301        25.00         0.0           5.90    1.00000   \n",
       "\n",
       "        nutrition-score-fr_100g  sodium_100g  carbohydrates_100g  \\\n",
       "153064                      2.0     0.010000               12.08   \n",
       "161898                      NaN     0.000000                4.23   \n",
       "308848                     -2.0     0.003937                0.90   \n",
       "5717                        NaN     0.002000                0.00   \n",
       "5923                        NaN     0.000000                0.00   \n",
       "...                         ...          ...                 ...   \n",
       "170763                     17.0     0.000000               47.62   \n",
       "81885                      16.0     0.565000               67.80   \n",
       "328856                     25.0     0.169291               59.00   \n",
       "213431                     22.0     0.133858               64.00   \n",
       "207301                     25.0     0.393701               62.00   \n",
       "\n",
       "        saturated-fat_100g  \n",
       "153064                0.00  \n",
       "161898                0.00  \n",
       "308848                3.70  \n",
       "5717                  0.00  \n",
       "5923                 17.86  \n",
       "...                    ...  \n",
       "170763               23.81  \n",
       "81885                14.12  \n",
       "328856               17.50  \n",
       "213431               18.00  \n",
       "207301               18.00  \n",
       "\n",
       "[9491 rows x 15 columns]"
      ],
      "text/html": "<div>\n<style scoped>\n    .dataframe tbody tr th:only-of-type {\n        vertical-align: middle;\n    }\n\n    .dataframe tbody tr th {\n        vertical-align: top;\n    }\n\n    .dataframe thead th {\n        text-align: right;\n    }\n</style>\n<table border=\"1\" class=\"dataframe\">\n  <thead>\n    <tr style=\"text-align: right;\">\n      <th></th>\n      <th>product_name</th>\n      <th>countries</th>\n      <th>ingredients_text</th>\n      <th>ingredients_from_palm_oil_n</th>\n      <th>nutrition_grade_fr</th>\n      <th>energy_100g</th>\n      <th>fat_100g</th>\n      <th>sugars_100g</th>\n      <th>fiber_100g</th>\n      <th>proteins_100g</th>\n      <th>salt_100g</th>\n      <th>nutrition-score-fr_100g</th>\n      <th>sodium_100g</th>\n      <th>carbohydrates_100g</th>\n      <th>saturated-fat_100g</th>\n    </tr>\n  </thead>\n  <tbody>\n    <tr>\n      <th>153064</th>\n      <td>Organic Sparkling Italian Soda, Pomegranate</td>\n      <td>US</td>\n      <td>Carbonated water, organic sugar, organic apple...</td>\n      <td>0.0</td>\n      <td>b</td>\n      <td>209.0</td>\n      <td>0.00</td>\n      <td>12.08</td>\n      <td>0.0</td>\n      <td>0.00</td>\n      <td>0.02540</td>\n      <td>2.0</td>\n      <td>0.010000</td>\n      <td>12.08</td>\n      <td>0.00</td>\n    </tr>\n    <tr>\n      <th>161898</th>\n      <td>Sparkling Beverage</td>\n      <td>US</td>\n      <td>Carbonated water, sugar (cane), natural flavor...</td>\n      <td>0.0</td>\n      <td>NaN</td>\n      <td>71.0</td>\n      <td>0.00</td>\n      <td>4.06</td>\n      <td>0.0</td>\n      <td>0.00</td>\n      <td>0.00000</td>\n      <td>NaN</td>\n      <td>0.000000</td>\n      <td>4.23</td>\n      <td>0.00</td>\n    </tr>\n    <tr>\n      <th>308848</th>\n      <td>Graines de Chia Bio</td>\n      <td>France</td>\n      <td>NaN</td>\n      <td>0.0</td>\n      <td>a</td>\n      <td>1734.0</td>\n      <td>30.10</td>\n      <td>0.50</td>\n      <td>41.0</td>\n      <td>16.40</td>\n      <td>0.01000</td>\n      <td>-2.0</td>\n      <td>0.003937</td>\n      <td>0.90</td>\n      <td>3.70</td>\n    </tr>\n    <tr>\n      <th>5717</th>\n      <td>Sparkling Water, Strawberry, Lemonade</td>\n      <td>US</td>\n      <td>Carbonated water, citric acid, natural flavor,...</td>\n      <td>0.0</td>\n      <td>NaN</td>\n      <td>0.0</td>\n      <td>0.00</td>\n      <td>0.00</td>\n      <td>0.0</td>\n      <td>0.00</td>\n      <td>0.00508</td>\n      <td>NaN</td>\n      <td>0.002000</td>\n      <td>0.00</td>\n      <td>0.00</td>\n    </tr>\n    <tr>\n      <th>5923</th>\n      <td>Peanut Oil</td>\n      <td>US</td>\n      <td>Peanut oil.</td>\n      <td>0.0</td>\n      <td>NaN</td>\n      <td>3586.0</td>\n      <td>100.00</td>\n      <td>0.00</td>\n      <td>0.0</td>\n      <td>0.00</td>\n      <td>0.00000</td>\n      <td>NaN</td>\n      <td>0.000000</td>\n      <td>0.00</td>\n      <td>17.86</td>\n    </tr>\n    <tr>\n      <th>...</th>\n      <td>...</td>\n      <td>...</td>\n      <td>...</td>\n      <td>...</td>\n      <td>...</td>\n      <td>...</td>\n      <td>...</td>\n      <td>...</td>\n      <td>...</td>\n      <td>...</td>\n      <td>...</td>\n      <td>...</td>\n      <td>...</td>\n      <td>...</td>\n      <td>...</td>\n    </tr>\n    <tr>\n      <th>170763</th>\n      <td>Dark Chocolate, Orange</td>\n      <td>US</td>\n      <td>Cocoa beans*+, cane sugar*+, cocoa butter*+, g...</td>\n      <td>0.0</td>\n      <td>d</td>\n      <td>2092.0</td>\n      <td>38.10</td>\n      <td>30.95</td>\n      <td>9.5</td>\n      <td>7.14</td>\n      <td>0.00000</td>\n      <td>17.0</td>\n      <td>0.000000</td>\n      <td>47.62</td>\n      <td>23.81</td>\n    </tr>\n    <tr>\n      <th>81885</th>\n      <td>Go Lite!, Popcorn, Himalayan Salt</td>\n      <td>US</td>\n      <td>Select popcorn, coconut oil, himalayan salt.</td>\n      <td>0.0</td>\n      <td>d</td>\n      <td>1891.0</td>\n      <td>19.77</td>\n      <td>0.00</td>\n      <td>11.3</td>\n      <td>11.30</td>\n      <td>1.43510</td>\n      <td>16.0</td>\n      <td>0.565000</td>\n      <td>67.80</td>\n      <td>14.12</td>\n    </tr>\n    <tr>\n      <th>328856</th>\n      <td>Vache Joyeuses Pâques</td>\n      <td>France</td>\n      <td>Sucre, beurre de cacao, poudre de _lait_ écrém...</td>\n      <td>0.0</td>\n      <td>e</td>\n      <td>2220.0</td>\n      <td>29.50</td>\n      <td>58.00</td>\n      <td>1.8</td>\n      <td>6.30</td>\n      <td>0.43000</td>\n      <td>25.0</td>\n      <td>0.169291</td>\n      <td>59.00</td>\n      <td>17.50</td>\n    </tr>\n    <tr>\n      <th>213431</th>\n      <td>Palets breton pur beurre</td>\n      <td>France</td>\n      <td>Farine de blé, beurre pâtissier 26,7% (bêta-ca...</td>\n      <td>0.0</td>\n      <td>e</td>\n      <td>2160.0</td>\n      <td>27.00</td>\n      <td>23.00</td>\n      <td>0.0</td>\n      <td>5.20</td>\n      <td>0.34000</td>\n      <td>22.0</td>\n      <td>0.133858</td>\n      <td>64.00</td>\n      <td>18.00</td>\n    </tr>\n    <tr>\n      <th>207301</th>\n      <td>Palets Bretons Au Beurre</td>\n      <td>France</td>\n      <td>Farine de blé - beurre 30% - sucre - oeufs - s...</td>\n      <td>0.0</td>\n      <td>e</td>\n      <td>2117.0</td>\n      <td>26.00</td>\n      <td>25.00</td>\n      <td>0.0</td>\n      <td>5.90</td>\n      <td>1.00000</td>\n      <td>25.0</td>\n      <td>0.393701</td>\n      <td>62.00</td>\n      <td>18.00</td>\n    </tr>\n  </tbody>\n</table>\n<p>9491 rows × 15 columns</p>\n</div>"
     },
     "metadata": {},
     "execution_count": 40
    }
   ],
   "source": [
    "list = ['ingredients_from_palm_oil_n','fat_100g','sugars_100g','fiber_100g','proteins_100g','salt_100g','sodium_100g', 'carbohydrates_100g','saturated-fat_100g']\n",
    "def nan_to_value(df, list , v) : \n",
    "    \"\"\"function to replace nan values by another one in several columns\"\"\"     \n",
    "    d = {value:v for value in list}\n",
    "    df.fillna(d , inplace = True)\n",
    "    return df\n",
    "nan_to_value(df, list , 0)\n"
   ]
  },
  {
   "cell_type": "markdown",
   "metadata": {},
   "source": [
    "### Conclusion sur les valeurs manquantes "
   ]
  },
  {
   "cell_type": "markdown",
   "metadata": {},
   "source": [
    "J'ai gardé une grande partie des données il reste encore des valeurs manquantes mais celle ci peuvent etre remplit , on s'occupera de ca un peu plus tard"
   ]
  },
  {
   "source": [
    "## 3. Traitement des dates"
   ],
   "cell_type": "markdown",
   "metadata": {}
  },
  {
   "cell_type": "code",
   "execution_count": 41,
   "metadata": {},
   "outputs": [
    {
     "output_type": "stream",
     "name": "stdout",
     "text": [
      "product_name                    object\ncountries                       object\ningredients_text                object\ningredients_from_palm_oil_n    float64\nnutrition_grade_fr              object\nenergy_100g                    float64\nfat_100g                       float64\nsugars_100g                    float64\nfiber_100g                     float64\nproteins_100g                  float64\nsalt_100g                      float64\nnutrition-score-fr_100g        float64\nsodium_100g                    float64\ncarbohydrates_100g             float64\nsaturated-fat_100g             float64\ndtype: object\n"
     ]
    }
   ],
   "source": [
    "print(df.dtypes)\n"
   ]
  },
  {
   "source": [
    "Aucune de mes colonnes ne correspond à une date, je n'ai donc pas à faire de traitement"
   ],
   "cell_type": "markdown",
   "metadata": {}
  },
  {
   "source": [
    "## 4. Traitement des doublons "
   ],
   "cell_type": "markdown",
   "metadata": {}
  },
  {
   "cell_type": "code",
   "execution_count": 42,
   "metadata": {},
   "outputs": [
    {
     "output_type": "stream",
     "name": "stdout",
     "text": [
      "False    9479\nTrue       12\ndtype: int64\n"
     ]
    }
   ],
   "source": [
    "print(df.duplicated().value_counts())"
   ]
  },
  {
   "source": [
    "on peut voir qu'il y a des doublons on va les supprimes"
   ],
   "cell_type": "markdown",
   "metadata": {}
  },
  {
   "cell_type": "code",
   "execution_count": 43,
   "metadata": {},
   "outputs": [],
   "source": [
    "df = df.drop_duplicates(keep= 'first')"
   ]
  },
  {
   "source": [
    "on relance la ligne pour verifier que les doublons sont supprimés"
   ],
   "cell_type": "markdown",
   "metadata": {}
  },
  {
   "cell_type": "code",
   "execution_count": 44,
   "metadata": {},
   "outputs": [
    {
     "output_type": "stream",
     "name": "stdout",
     "text": [
      "False    9479\ndtype: int64\n"
     ]
    }
   ],
   "source": [
    "print(df.duplicated().value_counts())"
   ]
  },
  {
   "source": [
    "Les doulons on bien été supprimés"
   ],
   "cell_type": "markdown",
   "metadata": {}
  },
  {
   "source": [
    "## 5. Consistance des données "
   ],
   "cell_type": "markdown",
   "metadata": {}
  },
  {
   "source": [
    "on verifie que les valeurs soit corects "
   ],
   "cell_type": "markdown",
   "metadata": {}
  },
  {
   "cell_type": "code",
   "execution_count": 45,
   "metadata": {
    "tags": []
   },
   "outputs": [],
   "source": [
    "def inconsistant_value(dataframe , column):\n",
    "    \"\"\"function to check if values in data are inconsistant \"\"\"\n",
    "    df = dataframe[column]\n",
    "    for index,value in enumerate(df) :\n",
    "        if value < 0 or value > 100 :\n",
    "            df.drop(index)\n",
    "\n",
    "def nutri_score(dataframe, column) : \n",
    "    \"\"\"function to check if value in column nutrition_score are isconsistant \"\"\"\n",
    "    df = dataframe[column]\n",
    "    for value in df :\n",
    "        if value < -15 or value > 40 :\n",
    "            print(value)\n",
    "\n",
    "def delete_incosistant_value(dataframe , column):\n",
    "    \"\"\"function who delete line where values are inconsistant \"\"\"\n",
    "    df = dataframe[column]\n",
    "    for value in df : \n",
    "        if value < 0 or value > 100 :\n",
    "            df.drop()"
   ]
  },
  {
   "source": [
    "verifions les valeurs de chaque colonnes "
   ],
   "cell_type": "markdown",
   "metadata": {}
  },
  {
   "cell_type": "code",
   "execution_count": 47,
   "metadata": {},
   "outputs": [],
   "source": [
    "inconsistant_value(df,'ingredients_from_palm_oil_n')"
   ]
  },
  {
   "source": [
    "pas de valeur incoherante dans la colonne ingredients_from_palm_oil_n"
   ],
   "cell_type": "markdown",
   "metadata": {}
  },
  {
   "source": [
    "pas de valeur incoherante dans la colonne ingredients_that_may_be_from_palm_oil_n"
   ],
   "cell_type": "markdown",
   "metadata": {}
  },
  {
   "cell_type": "code",
   "execution_count": 49,
   "metadata": {},
   "outputs": [],
   "source": [
    "#delete_incosistant_value(food_info,'fat_100g' )\n",
    "inconsistant_value(df, 'fat_100g')"
   ]
  },
  {
   "source": [
    "pas de valeur incoherante dans la colonne fat_100g"
   ],
   "cell_type": "markdown",
   "metadata": {}
  },
  {
   "cell_type": "code",
   "execution_count": 50,
   "metadata": {},
   "outputs": [],
   "source": [
    "inconsistant_value(df, 'sugars_100g')"
   ]
  },
  {
   "source": [
    "pas de valeur incoherante dans la colonne sugar_100g"
   ],
   "cell_type": "markdown",
   "metadata": {}
  },
  {
   "cell_type": "code",
   "execution_count": 51,
   "metadata": {},
   "outputs": [],
   "source": [
    "inconsistant_value(df, 'fiber_100g')"
   ]
  },
  {
   "source": [
    "dans la colonne fiber_100g on a une valeur incoherente donc on va supprimer la ligne"
   ],
   "cell_type": "markdown",
   "metadata": {}
  },
  {
   "cell_type": "code",
   "execution_count": 52,
   "metadata": {},
   "outputs": [],
   "source": [
    "inconsistant_value(df, 'proteins_100g')"
   ]
  },
  {
   "source": [
    "pas de valeur incoherante dans la colonne sugar_100g"
   ],
   "cell_type": "markdown",
   "metadata": {}
  },
  {
   "cell_type": "code",
   "execution_count": 23,
   "metadata": {},
   "outputs": [],
   "source": [
    "nutri_score(df, 'nutrition-score-fr_100g')"
   ]
  },
  {
   "source": [
    "pas de valeur incohérente dans la colonne nutrition_score-fr_100g"
   ],
   "cell_type": "markdown",
   "metadata": {}
  },
  {
   "source": [
    "On supprime les lignes ou la colonne prdduct name n'as pas de nom"
   ],
   "cell_type": "markdown",
   "metadata": {}
  },
  {
   "source": [
    "on sauvegarde les données sur la base de données"
   ],
   "cell_type": "markdown",
   "metadata": {}
  },
  {
   "cell_type": "code",
   "execution_count": 61,
   "metadata": {},
   "outputs": [
    {
     "output_type": "error",
     "ename": "MySQLInterfaceError",
     "evalue": "MySQL server has gone away",
     "traceback": [
      "\u001b[0;31m---------------------------------------------------------------------------\u001b[0m",
      "\u001b[0;31mMySQLInterfaceError\u001b[0m                       Traceback (most recent call last)",
      "\u001b[0;32m~/simplon_project/food_facts/env/lib/python3.8/site-packages/mysql/connector/connection_cext.py\u001b[0m in \u001b[0;36mcmd_query\u001b[0;34m(self, query, raw, buffered, raw_as_string)\u001b[0m\n\u001b[1;32m    506\u001b[0m                 \u001b[0mquery\u001b[0m \u001b[0;34m=\u001b[0m \u001b[0mquery\u001b[0m\u001b[0;34m.\u001b[0m\u001b[0mencode\u001b[0m\u001b[0;34m(\u001b[0m\u001b[0;34m'utf-8'\u001b[0m\u001b[0;34m)\u001b[0m\u001b[0;34m\u001b[0m\u001b[0;34m\u001b[0m\u001b[0m\n\u001b[0;32m--> 507\u001b[0;31m             self._cmysql.query(query,\n\u001b[0m\u001b[1;32m    508\u001b[0m                                \u001b[0mraw\u001b[0m\u001b[0;34m=\u001b[0m\u001b[0mraw\u001b[0m\u001b[0;34m,\u001b[0m \u001b[0mbuffered\u001b[0m\u001b[0;34m=\u001b[0m\u001b[0mbuffered\u001b[0m\u001b[0;34m,\u001b[0m\u001b[0;34m\u001b[0m\u001b[0;34m\u001b[0m\u001b[0m\n",
      "\u001b[0;31mMySQLInterfaceError\u001b[0m: MySQL server has gone away",
      "\nDuring handling of the above exception, another exception occurred:\n",
      "\u001b[0;31mDatabaseError\u001b[0m                             Traceback (most recent call last)",
      "\u001b[0;32m~/simplon_project/food_facts/env/lib/python3.8/site-packages/sqlalchemy/engine/base.py\u001b[0m in \u001b[0;36m_execute_context\u001b[0;34m(self, dialect, constructor, statement, parameters, execution_options, *args, **kw)\u001b[0m\n\u001b[1;32m   1684\u001b[0m                 \u001b[0;32mif\u001b[0m \u001b[0;32mnot\u001b[0m \u001b[0mevt_handled\u001b[0m\u001b[0;34m:\u001b[0m\u001b[0;34m\u001b[0m\u001b[0;34m\u001b[0m\u001b[0m\n\u001b[0;32m-> 1685\u001b[0;31m                     self.dialect.do_executemany(\n\u001b[0m\u001b[1;32m   1686\u001b[0m                         \u001b[0mcursor\u001b[0m\u001b[0;34m,\u001b[0m \u001b[0mstatement\u001b[0m\u001b[0;34m,\u001b[0m \u001b[0mparameters\u001b[0m\u001b[0;34m,\u001b[0m \u001b[0mcontext\u001b[0m\u001b[0;34m\u001b[0m\u001b[0;34m\u001b[0m\u001b[0m\n",
      "\u001b[0;32m~/simplon_project/food_facts/env/lib/python3.8/site-packages/sqlalchemy/engine/default.py\u001b[0m in \u001b[0;36mdo_executemany\u001b[0;34m(self, cursor, statement, parameters, context)\u001b[0m\n\u001b[1;32m    677\u001b[0m     \u001b[0;32mdef\u001b[0m \u001b[0mdo_executemany\u001b[0m\u001b[0;34m(\u001b[0m\u001b[0mself\u001b[0m\u001b[0;34m,\u001b[0m \u001b[0mcursor\u001b[0m\u001b[0;34m,\u001b[0m \u001b[0mstatement\u001b[0m\u001b[0;34m,\u001b[0m \u001b[0mparameters\u001b[0m\u001b[0;34m,\u001b[0m \u001b[0mcontext\u001b[0m\u001b[0;34m=\u001b[0m\u001b[0;32mNone\u001b[0m\u001b[0;34m)\u001b[0m\u001b[0;34m:\u001b[0m\u001b[0;34m\u001b[0m\u001b[0;34m\u001b[0m\u001b[0m\n\u001b[0;32m--> 678\u001b[0;31m         \u001b[0mcursor\u001b[0m\u001b[0;34m.\u001b[0m\u001b[0mexecutemany\u001b[0m\u001b[0;34m(\u001b[0m\u001b[0mstatement\u001b[0m\u001b[0;34m,\u001b[0m \u001b[0mparameters\u001b[0m\u001b[0;34m)\u001b[0m\u001b[0;34m\u001b[0m\u001b[0;34m\u001b[0m\u001b[0m\n\u001b[0m\u001b[1;32m    679\u001b[0m \u001b[0;34m\u001b[0m\u001b[0m\n",
      "\u001b[0;32m~/simplon_project/food_facts/env/lib/python3.8/site-packages/mysql/connector/cursor_cext.py\u001b[0m in \u001b[0;36mexecutemany\u001b[0;34m(self, operation, seq_params)\u001b[0m\n\u001b[1;32m    362\u001b[0m                 \u001b[0mself\u001b[0m\u001b[0;34m.\u001b[0m\u001b[0m_executed\u001b[0m \u001b[0;34m=\u001b[0m \u001b[0mstmt\u001b[0m\u001b[0;34m\u001b[0m\u001b[0;34m\u001b[0m\u001b[0m\n\u001b[0;32m--> 363\u001b[0;31m                 \u001b[0;32mreturn\u001b[0m \u001b[0mself\u001b[0m\u001b[0;34m.\u001b[0m\u001b[0mexecute\u001b[0m\u001b[0;34m(\u001b[0m\u001b[0mstmt\u001b[0m\u001b[0;34m)\u001b[0m\u001b[0;34m\u001b[0m\u001b[0;34m\u001b[0m\u001b[0m\n\u001b[0m\u001b[1;32m    364\u001b[0m \u001b[0;34m\u001b[0m\u001b[0m\n",
      "\u001b[0;32m~/simplon_project/food_facts/env/lib/python3.8/site-packages/mysql/connector/cursor_cext.py\u001b[0m in \u001b[0;36mexecute\u001b[0;34m(self, operation, params, multi)\u001b[0m\n\u001b[1;32m    273\u001b[0m         \u001b[0;32mtry\u001b[0m\u001b[0;34m:\u001b[0m\u001b[0;34m\u001b[0m\u001b[0;34m\u001b[0m\u001b[0m\n\u001b[0;32m--> 274\u001b[0;31m             result = self._cnx.cmd_query(stmt, raw=self._raw,\n\u001b[0m\u001b[1;32m    275\u001b[0m                                          \u001b[0mbuffered\u001b[0m\u001b[0;34m=\u001b[0m\u001b[0mself\u001b[0m\u001b[0;34m.\u001b[0m\u001b[0m_buffered\u001b[0m\u001b[0;34m,\u001b[0m\u001b[0;34m\u001b[0m\u001b[0;34m\u001b[0m\u001b[0m\n",
      "\u001b[0;32m~/simplon_project/food_facts/env/lib/python3.8/site-packages/mysql/connector/connection_cext.py\u001b[0m in \u001b[0;36mcmd_query\u001b[0;34m(self, query, raw, buffered, raw_as_string)\u001b[0m\n\u001b[1;32m    510\u001b[0m         \u001b[0;32mexcept\u001b[0m \u001b[0mMySQLInterfaceError\u001b[0m \u001b[0;32mas\u001b[0m \u001b[0mexc\u001b[0m\u001b[0;34m:\u001b[0m\u001b[0;34m\u001b[0m\u001b[0;34m\u001b[0m\u001b[0m\n\u001b[0;32m--> 511\u001b[0;31m             raise errors.get_mysql_exception(exc.errno, msg=exc.msg,\n\u001b[0m\u001b[1;32m    512\u001b[0m                                              sqlstate=exc.sqlstate)\n",
      "\u001b[0;31mDatabaseError\u001b[0m: 2006 (HY000): MySQL server has gone away",
      "\nThe above exception was the direct cause of the following exception:\n",
      "\u001b[0;31mDatabaseError\u001b[0m                             Traceback (most recent call last)",
      "\u001b[0;32m~/simplon_project/food_facts/env/lib/python3.8/site-packages/pandas/io/sql.py\u001b[0m in \u001b[0;36mrun_transaction\u001b[0;34m(self)\u001b[0m\n\u001b[1;32m   1157\u001b[0m             \u001b[0;32melse\u001b[0m\u001b[0;34m:\u001b[0m\u001b[0;34m\u001b[0m\u001b[0;34m\u001b[0m\u001b[0m\n\u001b[0;32m-> 1158\u001b[0;31m                 \u001b[0;32myield\u001b[0m \u001b[0mself\u001b[0m\u001b[0;34m.\u001b[0m\u001b[0mconnectable\u001b[0m\u001b[0;34m\u001b[0m\u001b[0;34m\u001b[0m\u001b[0m\n\u001b[0m\u001b[1;32m   1159\u001b[0m \u001b[0;34m\u001b[0m\u001b[0m\n",
      "\u001b[0;32m~/simplon_project/food_facts/env/lib/python3.8/site-packages/pandas/io/sql.py\u001b[0m in \u001b[0;36minsert\u001b[0;34m(self, chunksize, method)\u001b[0m\n\u001b[1;32m    830\u001b[0m                 \u001b[0mchunk_iter\u001b[0m \u001b[0;34m=\u001b[0m \u001b[0mzip\u001b[0m\u001b[0;34m(\u001b[0m\u001b[0;34m*\u001b[0m\u001b[0;34m[\u001b[0m\u001b[0marr\u001b[0m\u001b[0;34m[\u001b[0m\u001b[0mstart_i\u001b[0m\u001b[0;34m:\u001b[0m\u001b[0mend_i\u001b[0m\u001b[0;34m]\u001b[0m \u001b[0;32mfor\u001b[0m \u001b[0marr\u001b[0m \u001b[0;32min\u001b[0m \u001b[0mdata_list\u001b[0m\u001b[0;34m]\u001b[0m\u001b[0;34m)\u001b[0m\u001b[0;34m\u001b[0m\u001b[0;34m\u001b[0m\u001b[0m\n\u001b[0;32m--> 831\u001b[0;31m                 \u001b[0mexec_insert\u001b[0m\u001b[0;34m(\u001b[0m\u001b[0mconn\u001b[0m\u001b[0;34m,\u001b[0m \u001b[0mkeys\u001b[0m\u001b[0;34m,\u001b[0m \u001b[0mchunk_iter\u001b[0m\u001b[0;34m)\u001b[0m\u001b[0;34m\u001b[0m\u001b[0;34m\u001b[0m\u001b[0m\n\u001b[0m\u001b[1;32m    832\u001b[0m \u001b[0;34m\u001b[0m\u001b[0m\n",
      "\u001b[0;32m~/simplon_project/food_facts/env/lib/python3.8/site-packages/pandas/io/sql.py\u001b[0m in \u001b[0;36m_execute_insert\u001b[0;34m(self, conn, keys, data_iter)\u001b[0m\n\u001b[1;32m    747\u001b[0m         \u001b[0mdata\u001b[0m \u001b[0;34m=\u001b[0m \u001b[0;34m[\u001b[0m\u001b[0mdict\u001b[0m\u001b[0;34m(\u001b[0m\u001b[0mzip\u001b[0m\u001b[0;34m(\u001b[0m\u001b[0mkeys\u001b[0m\u001b[0;34m,\u001b[0m \u001b[0mrow\u001b[0m\u001b[0;34m)\u001b[0m\u001b[0;34m)\u001b[0m \u001b[0;32mfor\u001b[0m \u001b[0mrow\u001b[0m \u001b[0;32min\u001b[0m \u001b[0mdata_iter\u001b[0m\u001b[0;34m]\u001b[0m\u001b[0;34m\u001b[0m\u001b[0;34m\u001b[0m\u001b[0m\n\u001b[0;32m--> 748\u001b[0;31m         \u001b[0mconn\u001b[0m\u001b[0;34m.\u001b[0m\u001b[0mexecute\u001b[0m\u001b[0;34m(\u001b[0m\u001b[0mself\u001b[0m\u001b[0;34m.\u001b[0m\u001b[0mtable\u001b[0m\u001b[0;34m.\u001b[0m\u001b[0minsert\u001b[0m\u001b[0;34m(\u001b[0m\u001b[0;34m)\u001b[0m\u001b[0;34m,\u001b[0m \u001b[0mdata\u001b[0m\u001b[0;34m)\u001b[0m\u001b[0;34m\u001b[0m\u001b[0;34m\u001b[0m\u001b[0m\n\u001b[0m\u001b[1;32m    749\u001b[0m \u001b[0;34m\u001b[0m\u001b[0m\n",
      "\u001b[0;32m~/simplon_project/food_facts/env/lib/python3.8/site-packages/sqlalchemy/engine/base.py\u001b[0m in \u001b[0;36mexecute\u001b[0;34m(self, statement, *multiparams, **params)\u001b[0m\n\u001b[1;32m   1199\u001b[0m         \u001b[0;32melse\u001b[0m\u001b[0;34m:\u001b[0m\u001b[0;34m\u001b[0m\u001b[0;34m\u001b[0m\u001b[0m\n\u001b[0;32m-> 1200\u001b[0;31m             \u001b[0;32mreturn\u001b[0m \u001b[0mmeth\u001b[0m\u001b[0;34m(\u001b[0m\u001b[0mself\u001b[0m\u001b[0;34m,\u001b[0m \u001b[0mmultiparams\u001b[0m\u001b[0;34m,\u001b[0m \u001b[0mparams\u001b[0m\u001b[0;34m,\u001b[0m \u001b[0m_EMPTY_EXECUTION_OPTS\u001b[0m\u001b[0;34m)\u001b[0m\u001b[0;34m\u001b[0m\u001b[0;34m\u001b[0m\u001b[0m\n\u001b[0m\u001b[1;32m   1201\u001b[0m \u001b[0;34m\u001b[0m\u001b[0m\n",
      "\u001b[0;32m~/simplon_project/food_facts/env/lib/python3.8/site-packages/sqlalchemy/sql/elements.py\u001b[0m in \u001b[0;36m_execute_on_connection\u001b[0;34m(self, connection, multiparams, params, execution_options)\u001b[0m\n\u001b[1;32m    312\u001b[0m         \u001b[0;32mif\u001b[0m \u001b[0mself\u001b[0m\u001b[0;34m.\u001b[0m\u001b[0msupports_execution\u001b[0m\u001b[0;34m:\u001b[0m\u001b[0;34m\u001b[0m\u001b[0;34m\u001b[0m\u001b[0m\n\u001b[0;32m--> 313\u001b[0;31m             return connection._execute_clauseelement(\n\u001b[0m\u001b[1;32m    314\u001b[0m                 \u001b[0mself\u001b[0m\u001b[0;34m,\u001b[0m \u001b[0mmultiparams\u001b[0m\u001b[0;34m,\u001b[0m \u001b[0mparams\u001b[0m\u001b[0;34m,\u001b[0m \u001b[0mexecution_options\u001b[0m\u001b[0;34m\u001b[0m\u001b[0;34m\u001b[0m\u001b[0m\n",
      "\u001b[0;32m~/simplon_project/food_facts/env/lib/python3.8/site-packages/sqlalchemy/engine/base.py\u001b[0m in \u001b[0;36m_execute_clauseelement\u001b[0;34m(self, elem, multiparams, params, execution_options)\u001b[0m\n\u001b[1;32m   1388\u001b[0m         )\n\u001b[0;32m-> 1389\u001b[0;31m         ret = self._execute_context(\n\u001b[0m\u001b[1;32m   1390\u001b[0m             \u001b[0mdialect\u001b[0m\u001b[0;34m,\u001b[0m\u001b[0;34m\u001b[0m\u001b[0;34m\u001b[0m\u001b[0m\n",
      "\u001b[0;32m~/simplon_project/food_facts/env/lib/python3.8/site-packages/sqlalchemy/engine/base.py\u001b[0m in \u001b[0;36m_execute_context\u001b[0;34m(self, dialect, constructor, statement, parameters, execution_options, *args, **kw)\u001b[0m\n\u001b[1;32m   1747\u001b[0m         \u001b[0;32mexcept\u001b[0m \u001b[0mBaseException\u001b[0m \u001b[0;32mas\u001b[0m \u001b[0me\u001b[0m\u001b[0;34m:\u001b[0m\u001b[0;34m\u001b[0m\u001b[0;34m\u001b[0m\u001b[0m\n\u001b[0;32m-> 1748\u001b[0;31m             self._handle_dbapi_exception(\n\u001b[0m\u001b[1;32m   1749\u001b[0m                 \u001b[0me\u001b[0m\u001b[0;34m,\u001b[0m \u001b[0mstatement\u001b[0m\u001b[0;34m,\u001b[0m \u001b[0mparameters\u001b[0m\u001b[0;34m,\u001b[0m \u001b[0mcursor\u001b[0m\u001b[0;34m,\u001b[0m \u001b[0mcontext\u001b[0m\u001b[0;34m\u001b[0m\u001b[0;34m\u001b[0m\u001b[0m\n",
      "\u001b[0;32m~/simplon_project/food_facts/env/lib/python3.8/site-packages/sqlalchemy/engine/base.py\u001b[0m in \u001b[0;36m_handle_dbapi_exception\u001b[0;34m(self, e, statement, parameters, cursor, context)\u001b[0m\n\u001b[1;32m   1928\u001b[0m             \u001b[0;32melif\u001b[0m \u001b[0mshould_wrap\u001b[0m\u001b[0;34m:\u001b[0m\u001b[0;34m\u001b[0m\u001b[0;34m\u001b[0m\u001b[0m\n\u001b[0;32m-> 1929\u001b[0;31m                 util.raise_(\n\u001b[0m\u001b[1;32m   1930\u001b[0m                     \u001b[0msqlalchemy_exception\u001b[0m\u001b[0;34m,\u001b[0m \u001b[0mwith_traceback\u001b[0m\u001b[0;34m=\u001b[0m\u001b[0mexc_info\u001b[0m\u001b[0;34m[\u001b[0m\u001b[0;36m2\u001b[0m\u001b[0;34m]\u001b[0m\u001b[0;34m,\u001b[0m \u001b[0mfrom_\u001b[0m\u001b[0;34m=\u001b[0m\u001b[0me\u001b[0m\u001b[0;34m\u001b[0m\u001b[0;34m\u001b[0m\u001b[0m\n",
      "\u001b[0;32m~/simplon_project/food_facts/env/lib/python3.8/site-packages/sqlalchemy/util/compat.py\u001b[0m in \u001b[0;36mraise_\u001b[0;34m(***failed resolving arguments***)\u001b[0m\n\u001b[1;32m    197\u001b[0m         \u001b[0;32mtry\u001b[0m\u001b[0;34m:\u001b[0m\u001b[0;34m\u001b[0m\u001b[0;34m\u001b[0m\u001b[0m\n\u001b[0;32m--> 198\u001b[0;31m             \u001b[0;32mraise\u001b[0m \u001b[0mexception\u001b[0m\u001b[0;34m\u001b[0m\u001b[0;34m\u001b[0m\u001b[0m\n\u001b[0m\u001b[1;32m    199\u001b[0m         \u001b[0;32mfinally\u001b[0m\u001b[0;34m:\u001b[0m\u001b[0;34m\u001b[0m\u001b[0;34m\u001b[0m\u001b[0m\n",
      "\u001b[0;32m~/simplon_project/food_facts/env/lib/python3.8/site-packages/sqlalchemy/engine/base.py\u001b[0m in \u001b[0;36m_execute_context\u001b[0;34m(self, dialect, constructor, statement, parameters, execution_options, *args, **kw)\u001b[0m\n\u001b[1;32m   1684\u001b[0m                 \u001b[0;32mif\u001b[0m \u001b[0;32mnot\u001b[0m \u001b[0mevt_handled\u001b[0m\u001b[0;34m:\u001b[0m\u001b[0;34m\u001b[0m\u001b[0;34m\u001b[0m\u001b[0m\n\u001b[0;32m-> 1685\u001b[0;31m                     self.dialect.do_executemany(\n\u001b[0m\u001b[1;32m   1686\u001b[0m                         \u001b[0mcursor\u001b[0m\u001b[0;34m,\u001b[0m \u001b[0mstatement\u001b[0m\u001b[0;34m,\u001b[0m \u001b[0mparameters\u001b[0m\u001b[0;34m,\u001b[0m \u001b[0mcontext\u001b[0m\u001b[0;34m\u001b[0m\u001b[0;34m\u001b[0m\u001b[0m\n",
      "\u001b[0;32m~/simplon_project/food_facts/env/lib/python3.8/site-packages/sqlalchemy/engine/default.py\u001b[0m in \u001b[0;36mdo_executemany\u001b[0;34m(self, cursor, statement, parameters, context)\u001b[0m\n\u001b[1;32m    677\u001b[0m     \u001b[0;32mdef\u001b[0m \u001b[0mdo_executemany\u001b[0m\u001b[0;34m(\u001b[0m\u001b[0mself\u001b[0m\u001b[0;34m,\u001b[0m \u001b[0mcursor\u001b[0m\u001b[0;34m,\u001b[0m \u001b[0mstatement\u001b[0m\u001b[0;34m,\u001b[0m \u001b[0mparameters\u001b[0m\u001b[0;34m,\u001b[0m \u001b[0mcontext\u001b[0m\u001b[0;34m=\u001b[0m\u001b[0;32mNone\u001b[0m\u001b[0;34m)\u001b[0m\u001b[0;34m:\u001b[0m\u001b[0;34m\u001b[0m\u001b[0;34m\u001b[0m\u001b[0m\n\u001b[0;32m--> 678\u001b[0;31m         \u001b[0mcursor\u001b[0m\u001b[0;34m.\u001b[0m\u001b[0mexecutemany\u001b[0m\u001b[0;34m(\u001b[0m\u001b[0mstatement\u001b[0m\u001b[0;34m,\u001b[0m \u001b[0mparameters\u001b[0m\u001b[0;34m)\u001b[0m\u001b[0;34m\u001b[0m\u001b[0;34m\u001b[0m\u001b[0m\n\u001b[0m\u001b[1;32m    679\u001b[0m \u001b[0;34m\u001b[0m\u001b[0m\n",
      "\u001b[0;32m~/simplon_project/food_facts/env/lib/python3.8/site-packages/mysql/connector/cursor_cext.py\u001b[0m in \u001b[0;36mexecutemany\u001b[0;34m(self, operation, seq_params)\u001b[0m\n\u001b[1;32m    362\u001b[0m                 \u001b[0mself\u001b[0m\u001b[0;34m.\u001b[0m\u001b[0m_executed\u001b[0m \u001b[0;34m=\u001b[0m \u001b[0mstmt\u001b[0m\u001b[0;34m\u001b[0m\u001b[0;34m\u001b[0m\u001b[0m\n\u001b[0;32m--> 363\u001b[0;31m                 \u001b[0;32mreturn\u001b[0m \u001b[0mself\u001b[0m\u001b[0;34m.\u001b[0m\u001b[0mexecute\u001b[0m\u001b[0;34m(\u001b[0m\u001b[0mstmt\u001b[0m\u001b[0;34m)\u001b[0m\u001b[0;34m\u001b[0m\u001b[0;34m\u001b[0m\u001b[0m\n\u001b[0m\u001b[1;32m    364\u001b[0m \u001b[0;34m\u001b[0m\u001b[0m\n",
      "\u001b[0;32m~/simplon_project/food_facts/env/lib/python3.8/site-packages/mysql/connector/cursor_cext.py\u001b[0m in \u001b[0;36mexecute\u001b[0;34m(self, operation, params, multi)\u001b[0m\n\u001b[1;32m    273\u001b[0m         \u001b[0;32mtry\u001b[0m\u001b[0;34m:\u001b[0m\u001b[0;34m\u001b[0m\u001b[0;34m\u001b[0m\u001b[0m\n\u001b[0;32m--> 274\u001b[0;31m             result = self._cnx.cmd_query(stmt, raw=self._raw,\n\u001b[0m\u001b[1;32m    275\u001b[0m                                          \u001b[0mbuffered\u001b[0m\u001b[0;34m=\u001b[0m\u001b[0mself\u001b[0m\u001b[0;34m.\u001b[0m\u001b[0m_buffered\u001b[0m\u001b[0;34m,\u001b[0m\u001b[0;34m\u001b[0m\u001b[0;34m\u001b[0m\u001b[0m\n",
      "\u001b[0;32m~/simplon_project/food_facts/env/lib/python3.8/site-packages/mysql/connector/connection_cext.py\u001b[0m in \u001b[0;36mcmd_query\u001b[0;34m(self, query, raw, buffered, raw_as_string)\u001b[0m\n\u001b[1;32m    510\u001b[0m         \u001b[0;32mexcept\u001b[0m \u001b[0mMySQLInterfaceError\u001b[0m \u001b[0;32mas\u001b[0m \u001b[0mexc\u001b[0m\u001b[0;34m:\u001b[0m\u001b[0;34m\u001b[0m\u001b[0;34m\u001b[0m\u001b[0m\n\u001b[0;32m--> 511\u001b[0;31m             raise errors.get_mysql_exception(exc.errno, msg=exc.msg,\n\u001b[0m\u001b[1;32m    512\u001b[0m                                              sqlstate=exc.sqlstate)\n",
      "\u001b[0;31mDatabaseError\u001b[0m: (mysql.connector.errors.DatabaseError) 2006 (HY000): MySQL server has gone away\n[SQL: INSERT INTO df_clean (`index`, countries, ingredients_text, additives_n, ingredients_from_palm_oil_n, ingredients_that_may_be_from_palm_oil_n, nutrition_grade_fr, states, energy_100g, fat_100g, sugars_100g, fiber_100g, proteins_100g, salt_100g, `nutrition-score-fr_100g`) VALUES (%(index)s, %(countries)s, %(ingredients_text)s, %(additives_n)s, %(ingredients_from_palm_oil_n)s, %(ingredients_that_may_be_from_palm_oil_n)s, %(nutrition_grade_fr)s, %(states)s, %(energy_100g)s, %(fat_100g)s, %(sugars_100g)s, %(fiber_100g)s, %(proteins_100g)s, %(salt_100g)s, %(nutrition-score-fr_100g)s)]\n[parameters: ({'index': 0, 'countries': 'en:FR', 'ingredients_text': None, 'additives_n': None, 'ingredients_from_palm_oil_n': 0.0, 'ingredients_that_may_be_from_palm_oil_n': 0.0, 'nutrition_grade_fr': None, 'states': 'en:to-be-completed, en:nutrition-facts-to-be-completed, en:ingredients-to-be-completed, en:expiration-date-to-be-completed, en:characteristics-to-be- ... (39 characters truncated) ... d, en:brands-completed, en:packaging-to-be-completed, en:quantity-completed, en:product-name-completed, en:photos-to-be-validated, en:photos-uploaded', 'energy_100g': None, 'fat_100g': 0.0, 'sugars_100g': 0.0, 'fiber_100g': 0.0, 'proteins_100g': 0.0, 'salt_100g': 0.0, 'nutrition-score-fr_100g': 0.0}, {'index': 1, 'countries': 'US', 'ingredients_text': 'Bananas, vegetable oil (coconut oil, corn oil and/or palm oil) sugar, natural banana flavor.', 'additives_n': 0.0, 'ingredients_from_palm_oil_n': 0.0, 'ingredients_that_may_be_from_palm_oil_n': 0.0, 'nutrition_grade_fr': 'd', 'states': 'en:to-be-completed, en:nutrition-facts-completed, en:ingredients-completed, en:expiration-date-to-be-completed, en:packaging-code-to-be-completed, en ... (53 characters truncated) ... -completed, en:brands-to-be-completed, en:packaging-to-be-completed, en:quantity-to-be-completed, en:product-name-completed, en:photos-to-be-uploaded', 'energy_100g': 2243.0, 'fat_100g': 28.57, 'sugars_100g': 14.29, 'fiber_100g': 3.6, 'proteins_100g': 3.57, 'salt_100g': 0.0, 'nutrition-score-fr_100g': 14.0}, {'index': 2, 'countries': 'US', 'ingredients_text': 'Peanuts, wheat flour, sugar, rice flour, tapioca starch, salt, leavening (ammonium bicarbonate, baking soda), soy sauce (water, soybeans, wheat, salt), potato starch.', 'additives_n': 0.0, 'ingredients_from_palm_oil_n': 0.0, 'ingredients_that_may_be_from_palm_oil_n': 0.0, 'nutrition_grade_fr': 'b', 'states': 'en:to-be-completed, en:nutrition-facts-completed, en:ingredients-completed, en:expiration-date-to-be-completed, en:packaging-code-to-be-completed, en ... (47 characters truncated) ... -to-be-completed, en:brands-completed, en:packaging-to-be-completed, en:quantity-to-be-completed, en:product-name-completed, en:photos-to-be-uploaded', 'energy_100g': 1941.0, 'fat_100g': 17.86, 'sugars_100g': 17.86, 'fiber_100g': 7.1, 'proteins_100g': 17.86, 'salt_100g': 0.635, 'nutrition-score-fr_100g': 0.0}, {'index': 3, 'countries': 'US', 'ingredients_text': 'Organic hazelnuts, organic cashews, organic walnuts almonds, organic sunflower oil, sea salt.', 'additives_n': 0.0, 'ingredients_from_palm_oil_n': 0.0, 'ingredients_that_may_be_from_palm_oil_n': 0.0, 'nutrition_grade_fr': 'd', 'states': 'en:to-be-completed, en:nutrition-facts-completed, en:ingredients-completed, en:expiration-date-to-be-completed, en:packaging-code-to-be-completed, en ... (47 characters truncated) ... -to-be-completed, en:brands-completed, en:packaging-to-be-completed, en:quantity-to-be-completed, en:product-name-completed, en:photos-to-be-uploaded', 'energy_100g': 2540.0, 'fat_100g': 57.14, 'sugars_100g': 3.57, 'fiber_100g': 7.1, 'proteins_100g': 17.86, 'salt_100g': 1.22428, 'nutrition-score-fr_100g': 12.0}, {'index': 4, 'countries': 'US', 'ingredients_text': 'Organic polenta', 'additives_n': 0.0, 'ingredients_from_palm_oil_n': 0.0, 'ingredients_that_may_be_from_palm_oil_n': 0.0, 'nutrition_grade_fr': None, 'states': 'en:to-be-completed, en:nutrition-facts-completed, en:ingredients-completed, en:expiration-date-to-be-completed, en:packaging-code-to-be-completed, en ... (47 characters truncated) ... -to-be-completed, en:brands-completed, en:packaging-to-be-completed, en:quantity-to-be-completed, en:product-name-completed, en:photos-to-be-uploaded', 'energy_100g': 1552.0, 'fat_100g': 1.43, 'sugars_100g': 0.0, 'fiber_100g': 5.7, 'proteins_100g': 8.57, 'salt_100g': 0.0, 'nutrition-score-fr_100g': 0.0}, {'index': 5, 'countries': 'US', 'ingredients_text': 'Rolled oats, grape concentrate, expeller pressed canola oil, sunflower seeds, almonds, walnuts oat bran, sesame seeds, cashews, natural vitamin e.', 'additives_n': 0.0, 'ingredients_from_palm_oil_n': 0.0, 'ingredients_that_may_be_from_palm_oil_n': 0.0, 'nutrition_grade_fr': None, 'states': 'en:to-be-completed, en:nutrition-facts-completed, en:ingredients-completed, en:expiration-date-to-be-completed, en:packaging-code-to-be-completed, en ... (47 characters truncated) ... -to-be-completed, en:brands-completed, en:packaging-to-be-completed, en:quantity-to-be-completed, en:product-name-completed, en:photos-to-be-uploaded', 'energy_100g': 1933.0, 'fat_100g': 18.27, 'sugars_100g': 11.54, 'fiber_100g': 7.7, 'proteins_100g': 13.46, 'salt_100g': 0.0, 'nutrition-score-fr_100g': 0.0}, {'index': 6, 'countries': 'US', 'ingredients_text': 'Organic long grain white rice', 'additives_n': 0.0, 'ingredients_from_palm_oil_n': 0.0, 'ingredients_that_may_be_from_palm_oil_n': 0.0, 'nutrition_grade_fr': None, 'states': 'en:to-be-completed, en:nutrition-facts-completed, en:ingredients-completed, en:expiration-date-to-be-completed, en:packaging-code-to-be-completed, en ... (47 characters truncated) ... -to-be-completed, en:brands-completed, en:packaging-to-be-completed, en:quantity-to-be-completed, en:product-name-completed, en:photos-to-be-uploaded', 'energy_100g': 1490.0, 'fat_100g': 0.0, 'sugars_100g': 0.0, 'fiber_100g': 0.0, 'proteins_100g': 8.89, 'salt_100g': 0.0, 'nutrition-score-fr_100g': 0.0}, {'index': 7, 'countries': 'US', 'ingredients_text': 'Org oats, org hemp granola (org oats, evaporated cane juice, org expeller-pressed canola oil, crispy rice [org brown rice flour, org evaporated cane  ... (326 characters truncated) ... rg yellow corn flour, org evaporated cane juice, org flax, org buckwheat flour, org quinoa, org amaranth, sea salt, tocopherols [natural vitamin e]).', 'additives_n': 1.0, 'ingredients_from_palm_oil_n': 0.0, 'ingredients_that_may_be_from_palm_oil_n': 0.0, 'nutrition_grade_fr': 'c', 'states': 'en:to-be-completed, en:nutrition-facts-completed, en:ingredients-completed, en:expiration-date-to-be-completed, en:packaging-code-to-be-completed, en ... (47 characters truncated) ... -to-be-completed, en:brands-completed, en:packaging-to-be-completed, en:quantity-to-be-completed, en:product-name-completed, en:photos-to-be-uploaded', 'energy_100g': 1833.0, 'fat_100g': 18.75, 'sugars_100g': 15.62, 'fiber_100g': 9.4, 'proteins_100g': 14.06, 'salt_100g': 0.1397, 'nutrition-score-fr_100g': 7.0}  ... displaying 10 of 288429 total bound parameter sets ...  {'index': 356023, 'countries': 'China', 'ingredients_text': None, 'additives_n': None, 'ingredients_from_palm_oil_n': 0.0, 'ingredients_that_may_be_from_palm_oil_n': 0.0, 'nutrition_grade_fr': None, 'states': 'en:to-be-completed, en:nutrition-facts-to-be-completed, en:ingredients-to-be-completed, en:expiration-date-to-be-completed, en:packaging-code-to-be-c ... (56 characters truncated) ... mpleted, en:brands-completed, en:packaging-completed, en:quantity-completed, en:product-name-completed, en:photos-to-be-validated, en:photos-uploaded', 'energy_100g': None, 'fat_100g': 0.0, 'sugars_100g': 0.0, 'fiber_100g': 0.0, 'proteins_100g': 0.0, 'salt_100g': 0.0, 'nutrition-score-fr_100g': 0.0}, {'index': 356026, 'countries': 'US', 'ingredients_text': 'Citric acid, maltodextrin, instant tea, aspartame**, caramel color, natural and artificial flavors, contains less than 2% of: magnesium oxide acesulfame potassium, calcium silicate, yellow 5, red 40.', 'additives_n': 7.0, 'ingredients_from_palm_oil_n': 0.0, 'ingredients_that_may_be_from_palm_oil_n': 0.0, 'nutrition_grade_fr': None, 'states': 'en:to-be-completed, en:nutrition-facts-completed, en:ingredients-completed, en:expiration-date-to-be-completed, en:packaging-code-to-be-completed, en ... (41 characters truncated) ... gories-to-be-completed, en:brands-completed, en:packaging-completed, en:quantity-to-be-completed, en:product-name-completed, en:photos-to-be-uploaded', 'energy_100g': 2092.0, 'fat_100g': 0.0, 'sugars_100g': 0.0, 'fiber_100g': 0.0, 'proteins_100g': 0.0, 'salt_100g': 0.0, 'nutrition-score-fr_100g': 0.0})]\n(Background on this error at: http://sqlalche.me/e/14/4xp6)",
      "\nDuring handling of the above exception, another exception occurred:\n",
      "\u001b[0;31mMySQLInterfaceError\u001b[0m                       Traceback (most recent call last)",
      "\u001b[0;32m<ipython-input-61-4bf0a194eb72>\u001b[0m in \u001b[0;36m<module>\u001b[0;34m\u001b[0m\n\u001b[0;32m----> 1\u001b[0;31m \u001b[0msave_to_mysql\u001b[0m\u001b[0;34m(\u001b[0m\u001b[0mdb_connect\u001b[0m\u001b[0;34m=\u001b[0m\u001b[0mconnect\u001b[0m\u001b[0;34m,\u001b[0m\u001b[0mdf_to_save\u001b[0m\u001b[0;34m=\u001b[0m\u001b[0mfood_info\u001b[0m\u001b[0;34m,\u001b[0m\u001b[0mdf_name\u001b[0m\u001b[0;34m=\u001b[0m\u001b[0;34m'df_clean'\u001b[0m\u001b[0;34m)\u001b[0m\u001b[0;34m\u001b[0m\u001b[0;34m\u001b[0m\u001b[0m\n\u001b[0m",
      "\u001b[0;32m~/simplon_project/food_facts/src/d00_utils/mysql_utils.py\u001b[0m in \u001b[0;36msave_to_mysql\u001b[0;34m(db_connect, df_to_save, df_name)\u001b[0m\n\u001b[1;32m     12\u001b[0m \u001b[0;32mdef\u001b[0m \u001b[0msave_to_mysql\u001b[0m\u001b[0;34m(\u001b[0m\u001b[0mdb_connect\u001b[0m\u001b[0;34m,\u001b[0m\u001b[0mdf_to_save\u001b[0m\u001b[0;34m,\u001b[0m\u001b[0mdf_name\u001b[0m\u001b[0;34m)\u001b[0m\u001b[0;34m:\u001b[0m\u001b[0;34m\u001b[0m\u001b[0;34m\u001b[0m\u001b[0m\n\u001b[1;32m     13\u001b[0m     \u001b[0;34m\"\"\"function to import data from file into database \"\"\"\u001b[0m\u001b[0;34m\u001b[0m\u001b[0;34m\u001b[0m\u001b[0m\n\u001b[0;32m---> 14\u001b[0;31m     \u001b[0mdf_to_save\u001b[0m\u001b[0;34m.\u001b[0m\u001b[0mto_sql\u001b[0m\u001b[0;34m(\u001b[0m\u001b[0mcon\u001b[0m\u001b[0;34m=\u001b[0m\u001b[0mdb_connect\u001b[0m\u001b[0;34m,\u001b[0m \u001b[0mname\u001b[0m\u001b[0;34m=\u001b[0m\u001b[0mdf_name\u001b[0m\u001b[0;34m,\u001b[0m \u001b[0mif_exists\u001b[0m\u001b[0;34m=\u001b[0m\u001b[0;34m'replace'\u001b[0m\u001b[0;34m)\u001b[0m\u001b[0;34m\u001b[0m\u001b[0;34m\u001b[0m\u001b[0m\n\u001b[0m",
      "\u001b[0;32m~/simplon_project/food_facts/env/lib/python3.8/site-packages/pandas/core/generic.py\u001b[0m in \u001b[0;36mto_sql\u001b[0;34m(self, name, con, schema, if_exists, index, index_label, chunksize, dtype, method)\u001b[0m\n\u001b[1;32m   2777\u001b[0m         \u001b[0;32mfrom\u001b[0m \u001b[0mpandas\u001b[0m\u001b[0;34m.\u001b[0m\u001b[0mio\u001b[0m \u001b[0;32mimport\u001b[0m \u001b[0msql\u001b[0m\u001b[0;34m\u001b[0m\u001b[0;34m\u001b[0m\u001b[0m\n\u001b[1;32m   2778\u001b[0m \u001b[0;34m\u001b[0m\u001b[0m\n\u001b[0;32m-> 2779\u001b[0;31m         sql.to_sql(\n\u001b[0m\u001b[1;32m   2780\u001b[0m             \u001b[0mself\u001b[0m\u001b[0;34m,\u001b[0m\u001b[0;34m\u001b[0m\u001b[0;34m\u001b[0m\u001b[0m\n\u001b[1;32m   2781\u001b[0m             \u001b[0mname\u001b[0m\u001b[0;34m,\u001b[0m\u001b[0;34m\u001b[0m\u001b[0;34m\u001b[0m\u001b[0m\n",
      "\u001b[0;32m~/simplon_project/food_facts/env/lib/python3.8/site-packages/pandas/io/sql.py\u001b[0m in \u001b[0;36mto_sql\u001b[0;34m(frame, name, con, schema, if_exists, index, index_label, chunksize, dtype, method)\u001b[0m\n\u001b[1;32m    588\u001b[0m         )\n\u001b[1;32m    589\u001b[0m \u001b[0;34m\u001b[0m\u001b[0m\n\u001b[0;32m--> 590\u001b[0;31m     pandas_sql.to_sql(\n\u001b[0m\u001b[1;32m    591\u001b[0m         \u001b[0mframe\u001b[0m\u001b[0;34m,\u001b[0m\u001b[0;34m\u001b[0m\u001b[0;34m\u001b[0m\u001b[0m\n\u001b[1;32m    592\u001b[0m         \u001b[0mname\u001b[0m\u001b[0;34m,\u001b[0m\u001b[0;34m\u001b[0m\u001b[0;34m\u001b[0m\u001b[0m\n",
      "\u001b[0;32m~/simplon_project/food_facts/env/lib/python3.8/site-packages/pandas/io/sql.py\u001b[0m in \u001b[0;36mto_sql\u001b[0;34m(self, frame, name, if_exists, index, index_label, schema, chunksize, dtype, method)\u001b[0m\n\u001b[1;32m   1395\u001b[0m \u001b[0;34m\u001b[0m\u001b[0m\n\u001b[1;32m   1396\u001b[0m         \u001b[0;32mtry\u001b[0m\u001b[0;34m:\u001b[0m\u001b[0;34m\u001b[0m\u001b[0;34m\u001b[0m\u001b[0m\n\u001b[0;32m-> 1397\u001b[0;31m             \u001b[0mtable\u001b[0m\u001b[0;34m.\u001b[0m\u001b[0minsert\u001b[0m\u001b[0;34m(\u001b[0m\u001b[0mchunksize\u001b[0m\u001b[0;34m,\u001b[0m \u001b[0mmethod\u001b[0m\u001b[0;34m=\u001b[0m\u001b[0mmethod\u001b[0m\u001b[0;34m)\u001b[0m\u001b[0;34m\u001b[0m\u001b[0;34m\u001b[0m\u001b[0m\n\u001b[0m\u001b[1;32m   1398\u001b[0m         \u001b[0;32mexcept\u001b[0m \u001b[0mexc\u001b[0m\u001b[0;34m.\u001b[0m\u001b[0mSQLAlchemyError\u001b[0m \u001b[0;32mas\u001b[0m \u001b[0merr\u001b[0m\u001b[0;34m:\u001b[0m\u001b[0;34m\u001b[0m\u001b[0;34m\u001b[0m\u001b[0m\n\u001b[1;32m   1399\u001b[0m             \u001b[0;31m# GH34431\u001b[0m\u001b[0;34m\u001b[0m\u001b[0;34m\u001b[0m\u001b[0;34m\u001b[0m\u001b[0m\n",
      "\u001b[0;32m~/simplon_project/food_facts/env/lib/python3.8/site-packages/pandas/io/sql.py\u001b[0m in \u001b[0;36minsert\u001b[0;34m(self, chunksize, method)\u001b[0m\n\u001b[1;32m    829\u001b[0m \u001b[0;34m\u001b[0m\u001b[0m\n\u001b[1;32m    830\u001b[0m                 \u001b[0mchunk_iter\u001b[0m \u001b[0;34m=\u001b[0m \u001b[0mzip\u001b[0m\u001b[0;34m(\u001b[0m\u001b[0;34m*\u001b[0m\u001b[0;34m[\u001b[0m\u001b[0marr\u001b[0m\u001b[0;34m[\u001b[0m\u001b[0mstart_i\u001b[0m\u001b[0;34m:\u001b[0m\u001b[0mend_i\u001b[0m\u001b[0;34m]\u001b[0m \u001b[0;32mfor\u001b[0m \u001b[0marr\u001b[0m \u001b[0;32min\u001b[0m \u001b[0mdata_list\u001b[0m\u001b[0;34m]\u001b[0m\u001b[0;34m)\u001b[0m\u001b[0;34m\u001b[0m\u001b[0;34m\u001b[0m\u001b[0m\n\u001b[0;32m--> 831\u001b[0;31m                 \u001b[0mexec_insert\u001b[0m\u001b[0;34m(\u001b[0m\u001b[0mconn\u001b[0m\u001b[0;34m,\u001b[0m \u001b[0mkeys\u001b[0m\u001b[0;34m,\u001b[0m \u001b[0mchunk_iter\u001b[0m\u001b[0;34m)\u001b[0m\u001b[0;34m\u001b[0m\u001b[0;34m\u001b[0m\u001b[0m\n\u001b[0m\u001b[1;32m    832\u001b[0m \u001b[0;34m\u001b[0m\u001b[0m\n\u001b[1;32m    833\u001b[0m     def _query_iterator(\n",
      "\u001b[0;32m~/anaconda3/envs/sql/lib/python3.8/contextlib.py\u001b[0m in \u001b[0;36m__exit__\u001b[0;34m(self, type, value, traceback)\u001b[0m\n\u001b[1;32m    129\u001b[0m                 \u001b[0mvalue\u001b[0m \u001b[0;34m=\u001b[0m \u001b[0mtype\u001b[0m\u001b[0;34m(\u001b[0m\u001b[0;34m)\u001b[0m\u001b[0;34m\u001b[0m\u001b[0;34m\u001b[0m\u001b[0m\n\u001b[1;32m    130\u001b[0m             \u001b[0;32mtry\u001b[0m\u001b[0;34m:\u001b[0m\u001b[0;34m\u001b[0m\u001b[0;34m\u001b[0m\u001b[0m\n\u001b[0;32m--> 131\u001b[0;31m                 \u001b[0mself\u001b[0m\u001b[0;34m.\u001b[0m\u001b[0mgen\u001b[0m\u001b[0;34m.\u001b[0m\u001b[0mthrow\u001b[0m\u001b[0;34m(\u001b[0m\u001b[0mtype\u001b[0m\u001b[0;34m,\u001b[0m \u001b[0mvalue\u001b[0m\u001b[0;34m,\u001b[0m \u001b[0mtraceback\u001b[0m\u001b[0;34m)\u001b[0m\u001b[0;34m\u001b[0m\u001b[0;34m\u001b[0m\u001b[0m\n\u001b[0m\u001b[1;32m    132\u001b[0m             \u001b[0;32mexcept\u001b[0m \u001b[0mStopIteration\u001b[0m \u001b[0;32mas\u001b[0m \u001b[0mexc\u001b[0m\u001b[0;34m:\u001b[0m\u001b[0;34m\u001b[0m\u001b[0;34m\u001b[0m\u001b[0m\n\u001b[1;32m    133\u001b[0m                 \u001b[0;31m# Suppress StopIteration *unless* it's the same exception that\u001b[0m\u001b[0;34m\u001b[0m\u001b[0;34m\u001b[0m\u001b[0;34m\u001b[0m\u001b[0m\n",
      "\u001b[0;32m~/simplon_project/food_facts/env/lib/python3.8/site-packages/pandas/io/sql.py\u001b[0m in \u001b[0;36mrun_transaction\u001b[0;34m(self)\u001b[0m\n\u001b[1;32m   1156\u001b[0m                 \u001b[0;32myield\u001b[0m \u001b[0mtx\u001b[0m\u001b[0;34m\u001b[0m\u001b[0;34m\u001b[0m\u001b[0m\n\u001b[1;32m   1157\u001b[0m             \u001b[0;32melse\u001b[0m\u001b[0;34m:\u001b[0m\u001b[0;34m\u001b[0m\u001b[0;34m\u001b[0m\u001b[0m\n\u001b[0;32m-> 1158\u001b[0;31m                 \u001b[0;32myield\u001b[0m \u001b[0mself\u001b[0m\u001b[0;34m.\u001b[0m\u001b[0mconnectable\u001b[0m\u001b[0;34m\u001b[0m\u001b[0;34m\u001b[0m\u001b[0m\n\u001b[0m\u001b[1;32m   1159\u001b[0m \u001b[0;34m\u001b[0m\u001b[0m\n\u001b[1;32m   1160\u001b[0m     \u001b[0;32mdef\u001b[0m \u001b[0mexecute\u001b[0m\u001b[0;34m(\u001b[0m\u001b[0mself\u001b[0m\u001b[0;34m,\u001b[0m \u001b[0;34m*\u001b[0m\u001b[0margs\u001b[0m\u001b[0;34m,\u001b[0m \u001b[0;34m**\u001b[0m\u001b[0mkwargs\u001b[0m\u001b[0;34m)\u001b[0m\u001b[0;34m:\u001b[0m\u001b[0;34m\u001b[0m\u001b[0;34m\u001b[0m\u001b[0m\n",
      "\u001b[0;32m~/simplon_project/food_facts/env/lib/python3.8/site-packages/sqlalchemy/engine/base.py\u001b[0m in \u001b[0;36m__exit__\u001b[0;34m(self, type_, value, traceback)\u001b[0m\n\u001b[1;32m   2270\u001b[0m                     \u001b[0mself\u001b[0m\u001b[0;34m.\u001b[0m\u001b[0mrollback\u001b[0m\u001b[0;34m(\u001b[0m\u001b[0;34m)\u001b[0m\u001b[0;34m\u001b[0m\u001b[0;34m\u001b[0m\u001b[0m\n\u001b[1;32m   2271\u001b[0m         \u001b[0;32melse\u001b[0m\u001b[0;34m:\u001b[0m\u001b[0;34m\u001b[0m\u001b[0;34m\u001b[0m\u001b[0m\n\u001b[0;32m-> 2272\u001b[0;31m             \u001b[0mself\u001b[0m\u001b[0;34m.\u001b[0m\u001b[0mrollback\u001b[0m\u001b[0;34m(\u001b[0m\u001b[0;34m)\u001b[0m\u001b[0;34m\u001b[0m\u001b[0;34m\u001b[0m\u001b[0m\n\u001b[0m\u001b[1;32m   2273\u001b[0m \u001b[0;34m\u001b[0m\u001b[0m\n\u001b[1;32m   2274\u001b[0m \u001b[0;34m\u001b[0m\u001b[0m\n",
      "\u001b[0;32m~/simplon_project/food_facts/env/lib/python3.8/site-packages/sqlalchemy/engine/base.py\u001b[0m in \u001b[0;36mrollback\u001b[0;34m(self)\u001b[0m\n\u001b[1;32m   2233\u001b[0m         \"\"\"\n\u001b[1;32m   2234\u001b[0m         \u001b[0;32mtry\u001b[0m\u001b[0;34m:\u001b[0m\u001b[0;34m\u001b[0m\u001b[0;34m\u001b[0m\u001b[0m\n\u001b[0;32m-> 2235\u001b[0;31m             \u001b[0mself\u001b[0m\u001b[0;34m.\u001b[0m\u001b[0m_do_rollback\u001b[0m\u001b[0;34m(\u001b[0m\u001b[0;34m)\u001b[0m\u001b[0;34m\u001b[0m\u001b[0;34m\u001b[0m\u001b[0m\n\u001b[0m\u001b[1;32m   2236\u001b[0m         \u001b[0;32mfinally\u001b[0m\u001b[0;34m:\u001b[0m\u001b[0;34m\u001b[0m\u001b[0;34m\u001b[0m\u001b[0m\n\u001b[1;32m   2237\u001b[0m             \u001b[0;32massert\u001b[0m \u001b[0;32mnot\u001b[0m \u001b[0mself\u001b[0m\u001b[0;34m.\u001b[0m\u001b[0mis_active\u001b[0m\u001b[0;34m\u001b[0m\u001b[0;34m\u001b[0m\u001b[0m\n",
      "\u001b[0;32m~/simplon_project/food_facts/env/lib/python3.8/site-packages/sqlalchemy/engine/base.py\u001b[0m in \u001b[0;36m_do_rollback\u001b[0;34m(self)\u001b[0m\n\u001b[1;32m   2412\u001b[0m \u001b[0;34m\u001b[0m\u001b[0m\n\u001b[1;32m   2413\u001b[0m     \u001b[0;32mdef\u001b[0m \u001b[0m_do_rollback\u001b[0m\u001b[0;34m(\u001b[0m\u001b[0mself\u001b[0m\u001b[0;34m)\u001b[0m\u001b[0;34m:\u001b[0m\u001b[0;34m\u001b[0m\u001b[0;34m\u001b[0m\u001b[0m\n\u001b[0;32m-> 2414\u001b[0;31m         \u001b[0mself\u001b[0m\u001b[0;34m.\u001b[0m\u001b[0m_close_impl\u001b[0m\u001b[0;34m(\u001b[0m\u001b[0mtry_deactivate\u001b[0m\u001b[0;34m=\u001b[0m\u001b[0;32mTrue\u001b[0m\u001b[0;34m)\u001b[0m\u001b[0;34m\u001b[0m\u001b[0;34m\u001b[0m\u001b[0m\n\u001b[0m\u001b[1;32m   2415\u001b[0m \u001b[0;34m\u001b[0m\u001b[0m\n\u001b[1;32m   2416\u001b[0m     \u001b[0;32mdef\u001b[0m \u001b[0m_do_commit\u001b[0m\u001b[0;34m(\u001b[0m\u001b[0mself\u001b[0m\u001b[0;34m)\u001b[0m\u001b[0;34m:\u001b[0m\u001b[0;34m\u001b[0m\u001b[0;34m\u001b[0m\u001b[0m\n",
      "\u001b[0;32m~/simplon_project/food_facts/env/lib/python3.8/site-packages/sqlalchemy/engine/base.py\u001b[0m in \u001b[0;36m_close_impl\u001b[0;34m(self, try_deactivate)\u001b[0m\n\u001b[1;32m   2395\u001b[0m         \u001b[0;32mtry\u001b[0m\u001b[0;34m:\u001b[0m\u001b[0;34m\u001b[0m\u001b[0;34m\u001b[0m\u001b[0m\n\u001b[1;32m   2396\u001b[0m             \u001b[0;32mif\u001b[0m \u001b[0mself\u001b[0m\u001b[0;34m.\u001b[0m\u001b[0mis_active\u001b[0m\u001b[0;34m:\u001b[0m\u001b[0;34m\u001b[0m\u001b[0;34m\u001b[0m\u001b[0m\n\u001b[0;32m-> 2397\u001b[0;31m                 \u001b[0mself\u001b[0m\u001b[0;34m.\u001b[0m\u001b[0m_connection_rollback_impl\u001b[0m\u001b[0;34m(\u001b[0m\u001b[0;34m)\u001b[0m\u001b[0;34m\u001b[0m\u001b[0;34m\u001b[0m\u001b[0m\n\u001b[0m\u001b[1;32m   2398\u001b[0m \u001b[0;34m\u001b[0m\u001b[0m\n\u001b[1;32m   2399\u001b[0m             \u001b[0;32mif\u001b[0m \u001b[0mself\u001b[0m\u001b[0;34m.\u001b[0m\u001b[0mconnection\u001b[0m\u001b[0;34m.\u001b[0m\u001b[0m_nested_transaction\u001b[0m\u001b[0;34m:\u001b[0m\u001b[0;34m\u001b[0m\u001b[0;34m\u001b[0m\u001b[0m\n",
      "\u001b[0;32m~/simplon_project/food_facts/env/lib/python3.8/site-packages/sqlalchemy/engine/base.py\u001b[0m in \u001b[0;36m_connection_rollback_impl\u001b[0;34m(self)\u001b[0m\n\u001b[1;32m   2387\u001b[0m \u001b[0;34m\u001b[0m\u001b[0m\n\u001b[1;32m   2388\u001b[0m     \u001b[0;32mdef\u001b[0m \u001b[0m_connection_rollback_impl\u001b[0m\u001b[0;34m(\u001b[0m\u001b[0mself\u001b[0m\u001b[0;34m)\u001b[0m\u001b[0;34m:\u001b[0m\u001b[0;34m\u001b[0m\u001b[0;34m\u001b[0m\u001b[0m\n\u001b[0;32m-> 2389\u001b[0;31m         \u001b[0mself\u001b[0m\u001b[0;34m.\u001b[0m\u001b[0mconnection\u001b[0m\u001b[0;34m.\u001b[0m\u001b[0m_rollback_impl\u001b[0m\u001b[0;34m(\u001b[0m\u001b[0;34m)\u001b[0m\u001b[0;34m\u001b[0m\u001b[0;34m\u001b[0m\u001b[0m\n\u001b[0m\u001b[1;32m   2390\u001b[0m \u001b[0;34m\u001b[0m\u001b[0m\n\u001b[1;32m   2391\u001b[0m     \u001b[0;32mdef\u001b[0m \u001b[0m_connection_commit_impl\u001b[0m\u001b[0;34m(\u001b[0m\u001b[0mself\u001b[0m\u001b[0;34m)\u001b[0m\u001b[0;34m:\u001b[0m\u001b[0;34m\u001b[0m\u001b[0;34m\u001b[0m\u001b[0m\n",
      "\u001b[0;32m~/simplon_project/food_facts/env/lib/python3.8/site-packages/sqlalchemy/engine/base.py\u001b[0m in \u001b[0;36m_rollback_impl\u001b[0;34m(self)\u001b[0m\n\u001b[1;32m    896\u001b[0m                 \u001b[0mself\u001b[0m\u001b[0;34m.\u001b[0m\u001b[0mengine\u001b[0m\u001b[0;34m.\u001b[0m\u001b[0mdialect\u001b[0m\u001b[0;34m.\u001b[0m\u001b[0mdo_rollback\u001b[0m\u001b[0;34m(\u001b[0m\u001b[0mself\u001b[0m\u001b[0;34m.\u001b[0m\u001b[0mconnection\u001b[0m\u001b[0;34m)\u001b[0m\u001b[0;34m\u001b[0m\u001b[0;34m\u001b[0m\u001b[0m\n\u001b[1;32m    897\u001b[0m             \u001b[0;32mexcept\u001b[0m \u001b[0mBaseException\u001b[0m \u001b[0;32mas\u001b[0m \u001b[0me\u001b[0m\u001b[0;34m:\u001b[0m\u001b[0;34m\u001b[0m\u001b[0;34m\u001b[0m\u001b[0m\n\u001b[0;32m--> 898\u001b[0;31m                 \u001b[0mself\u001b[0m\u001b[0;34m.\u001b[0m\u001b[0m_handle_dbapi_exception\u001b[0m\u001b[0;34m(\u001b[0m\u001b[0me\u001b[0m\u001b[0;34m,\u001b[0m \u001b[0;32mNone\u001b[0m\u001b[0;34m,\u001b[0m \u001b[0;32mNone\u001b[0m\u001b[0;34m,\u001b[0m \u001b[0;32mNone\u001b[0m\u001b[0;34m,\u001b[0m \u001b[0;32mNone\u001b[0m\u001b[0;34m)\u001b[0m\u001b[0;34m\u001b[0m\u001b[0;34m\u001b[0m\u001b[0m\n\u001b[0m\u001b[1;32m    899\u001b[0m \u001b[0;34m\u001b[0m\u001b[0m\n\u001b[1;32m    900\u001b[0m     \u001b[0;32mdef\u001b[0m \u001b[0m_commit_impl\u001b[0m\u001b[0;34m(\u001b[0m\u001b[0mself\u001b[0m\u001b[0;34m,\u001b[0m \u001b[0mautocommit\u001b[0m\u001b[0;34m=\u001b[0m\u001b[0;32mFalse\u001b[0m\u001b[0;34m)\u001b[0m\u001b[0;34m:\u001b[0m\u001b[0;34m\u001b[0m\u001b[0;34m\u001b[0m\u001b[0m\n",
      "\u001b[0;32m~/simplon_project/food_facts/env/lib/python3.8/site-packages/sqlalchemy/engine/base.py\u001b[0m in \u001b[0;36m_handle_dbapi_exception\u001b[0;34m(self, e, statement, parameters, cursor, context)\u001b[0m\n\u001b[1;32m   1931\u001b[0m                 )\n\u001b[1;32m   1932\u001b[0m             \u001b[0;32melse\u001b[0m\u001b[0;34m:\u001b[0m\u001b[0;34m\u001b[0m\u001b[0;34m\u001b[0m\u001b[0m\n\u001b[0;32m-> 1933\u001b[0;31m                 \u001b[0mutil\u001b[0m\u001b[0;34m.\u001b[0m\u001b[0mraise_\u001b[0m\u001b[0;34m(\u001b[0m\u001b[0mexc_info\u001b[0m\u001b[0;34m[\u001b[0m\u001b[0;36m1\u001b[0m\u001b[0;34m]\u001b[0m\u001b[0;34m,\u001b[0m \u001b[0mwith_traceback\u001b[0m\u001b[0;34m=\u001b[0m\u001b[0mexc_info\u001b[0m\u001b[0;34m[\u001b[0m\u001b[0;36m2\u001b[0m\u001b[0;34m]\u001b[0m\u001b[0;34m)\u001b[0m\u001b[0;34m\u001b[0m\u001b[0;34m\u001b[0m\u001b[0m\n\u001b[0m\u001b[1;32m   1934\u001b[0m \u001b[0;34m\u001b[0m\u001b[0m\n\u001b[1;32m   1935\u001b[0m         \u001b[0;32mfinally\u001b[0m\u001b[0;34m:\u001b[0m\u001b[0;34m\u001b[0m\u001b[0;34m\u001b[0m\u001b[0m\n",
      "\u001b[0;32m~/simplon_project/food_facts/env/lib/python3.8/site-packages/sqlalchemy/util/compat.py\u001b[0m in \u001b[0;36mraise_\u001b[0;34m(***failed resolving arguments***)\u001b[0m\n\u001b[1;32m    196\u001b[0m \u001b[0;34m\u001b[0m\u001b[0m\n\u001b[1;32m    197\u001b[0m         \u001b[0;32mtry\u001b[0m\u001b[0;34m:\u001b[0m\u001b[0;34m\u001b[0m\u001b[0;34m\u001b[0m\u001b[0m\n\u001b[0;32m--> 198\u001b[0;31m             \u001b[0;32mraise\u001b[0m \u001b[0mexception\u001b[0m\u001b[0;34m\u001b[0m\u001b[0;34m\u001b[0m\u001b[0m\n\u001b[0m\u001b[1;32m    199\u001b[0m         \u001b[0;32mfinally\u001b[0m\u001b[0;34m:\u001b[0m\u001b[0;34m\u001b[0m\u001b[0;34m\u001b[0m\u001b[0m\n\u001b[1;32m    200\u001b[0m             \u001b[0;31m# credit to\u001b[0m\u001b[0;34m\u001b[0m\u001b[0;34m\u001b[0m\u001b[0;34m\u001b[0m\u001b[0m\n",
      "\u001b[0;32m~/simplon_project/food_facts/env/lib/python3.8/site-packages/sqlalchemy/engine/base.py\u001b[0m in \u001b[0;36m_rollback_impl\u001b[0;34m(self)\u001b[0m\n\u001b[1;32m    894\u001b[0m                     \u001b[0mself\u001b[0m\u001b[0;34m.\u001b[0m\u001b[0m_log_info\u001b[0m\u001b[0;34m(\u001b[0m\u001b[0;34m\"ROLLBACK\"\u001b[0m\u001b[0;34m)\u001b[0m\u001b[0;34m\u001b[0m\u001b[0;34m\u001b[0m\u001b[0m\n\u001b[1;32m    895\u001b[0m             \u001b[0;32mtry\u001b[0m\u001b[0;34m:\u001b[0m\u001b[0;34m\u001b[0m\u001b[0;34m\u001b[0m\u001b[0m\n\u001b[0;32m--> 896\u001b[0;31m                 \u001b[0mself\u001b[0m\u001b[0;34m.\u001b[0m\u001b[0mengine\u001b[0m\u001b[0;34m.\u001b[0m\u001b[0mdialect\u001b[0m\u001b[0;34m.\u001b[0m\u001b[0mdo_rollback\u001b[0m\u001b[0;34m(\u001b[0m\u001b[0mself\u001b[0m\u001b[0;34m.\u001b[0m\u001b[0mconnection\u001b[0m\u001b[0;34m)\u001b[0m\u001b[0;34m\u001b[0m\u001b[0;34m\u001b[0m\u001b[0m\n\u001b[0m\u001b[1;32m    897\u001b[0m             \u001b[0;32mexcept\u001b[0m \u001b[0mBaseException\u001b[0m \u001b[0;32mas\u001b[0m \u001b[0me\u001b[0m\u001b[0;34m:\u001b[0m\u001b[0;34m\u001b[0m\u001b[0;34m\u001b[0m\u001b[0m\n\u001b[1;32m    898\u001b[0m                 \u001b[0mself\u001b[0m\u001b[0;34m.\u001b[0m\u001b[0m_handle_dbapi_exception\u001b[0m\u001b[0;34m(\u001b[0m\u001b[0me\u001b[0m\u001b[0;34m,\u001b[0m \u001b[0;32mNone\u001b[0m\u001b[0;34m,\u001b[0m \u001b[0;32mNone\u001b[0m\u001b[0;34m,\u001b[0m \u001b[0;32mNone\u001b[0m\u001b[0;34m,\u001b[0m \u001b[0;32mNone\u001b[0m\u001b[0;34m)\u001b[0m\u001b[0;34m\u001b[0m\u001b[0;34m\u001b[0m\u001b[0m\n",
      "\u001b[0;32m~/simplon_project/food_facts/env/lib/python3.8/site-packages/sqlalchemy/engine/default.py\u001b[0m in \u001b[0;36mdo_rollback\u001b[0;34m(self, dbapi_connection)\u001b[0m\n\u001b[1;32m    629\u001b[0m \u001b[0;34m\u001b[0m\u001b[0m\n\u001b[1;32m    630\u001b[0m     \u001b[0;32mdef\u001b[0m \u001b[0mdo_rollback\u001b[0m\u001b[0;34m(\u001b[0m\u001b[0mself\u001b[0m\u001b[0;34m,\u001b[0m \u001b[0mdbapi_connection\u001b[0m\u001b[0;34m)\u001b[0m\u001b[0;34m:\u001b[0m\u001b[0;34m\u001b[0m\u001b[0;34m\u001b[0m\u001b[0m\n\u001b[0;32m--> 631\u001b[0;31m         \u001b[0mdbapi_connection\u001b[0m\u001b[0;34m.\u001b[0m\u001b[0mrollback\u001b[0m\u001b[0;34m(\u001b[0m\u001b[0;34m)\u001b[0m\u001b[0;34m\u001b[0m\u001b[0;34m\u001b[0m\u001b[0m\n\u001b[0m\u001b[1;32m    632\u001b[0m \u001b[0;34m\u001b[0m\u001b[0m\n\u001b[1;32m    633\u001b[0m     \u001b[0;32mdef\u001b[0m \u001b[0mdo_commit\u001b[0m\u001b[0;34m(\u001b[0m\u001b[0mself\u001b[0m\u001b[0;34m,\u001b[0m \u001b[0mdbapi_connection\u001b[0m\u001b[0;34m)\u001b[0m\u001b[0;34m:\u001b[0m\u001b[0;34m\u001b[0m\u001b[0;34m\u001b[0m\u001b[0m\n",
      "\u001b[0;32m~/simplon_project/food_facts/env/lib/python3.8/site-packages/mysql/connector/connection_cext.py\u001b[0m in \u001b[0;36mrollback\u001b[0;34m(self)\u001b[0m\n\u001b[1;32m    404\u001b[0m         \u001b[0;32mif\u001b[0m \u001b[0mself\u001b[0m\u001b[0;34m.\u001b[0m\u001b[0m_cmysql\u001b[0m\u001b[0;34m:\u001b[0m\u001b[0;34m\u001b[0m\u001b[0;34m\u001b[0m\u001b[0m\n\u001b[1;32m    405\u001b[0m             \u001b[0mself\u001b[0m\u001b[0;34m.\u001b[0m\u001b[0m_cmysql\u001b[0m\u001b[0;34m.\u001b[0m\u001b[0mconsume_result\u001b[0m\u001b[0;34m(\u001b[0m\u001b[0;34m)\u001b[0m\u001b[0;34m\u001b[0m\u001b[0;34m\u001b[0m\u001b[0m\n\u001b[0;32m--> 406\u001b[0;31m             \u001b[0mself\u001b[0m\u001b[0;34m.\u001b[0m\u001b[0m_cmysql\u001b[0m\u001b[0;34m.\u001b[0m\u001b[0mrollback\u001b[0m\u001b[0;34m(\u001b[0m\u001b[0;34m)\u001b[0m\u001b[0;34m\u001b[0m\u001b[0;34m\u001b[0m\u001b[0m\n\u001b[0m\u001b[1;32m    407\u001b[0m \u001b[0;34m\u001b[0m\u001b[0m\n\u001b[1;32m    408\u001b[0m     \u001b[0;32mdef\u001b[0m \u001b[0mcmd_init_db\u001b[0m\u001b[0;34m(\u001b[0m\u001b[0mself\u001b[0m\u001b[0;34m,\u001b[0m \u001b[0mdatabase\u001b[0m\u001b[0;34m)\u001b[0m\u001b[0;34m:\u001b[0m\u001b[0;34m\u001b[0m\u001b[0;34m\u001b[0m\u001b[0m\n",
      "\u001b[0;31mMySQLInterfaceError\u001b[0m: MySQL server has gone away"
     ]
    }
   ],
   "source": [
    "save_to_mysql(db_connect=connect,df_to_save=food_info,df_name='df_clean')"
   ]
  },
  {
   "source": [
    "## 6. Valeurs Aberantes "
   ],
   "cell_type": "markdown",
   "metadata": {}
  },
  {
   "cell_type": "code",
   "execution_count": 54,
   "metadata": {},
   "outputs": [
    {
     "output_type": "execute_result",
     "data": {
      "text/plain": [
       "(2537, 16)"
      ]
     },
     "metadata": {},
     "execution_count": 54
    }
   ],
   "source": [
    "df['nutriment_sum'] = df['fat_100g'] + df['carbohydrates_100g'] + df['fiber_100g'] + df['proteins_100g'] + df['salt_100g'] \n",
    "df = df.drop(df[(df.nutriment_sum > 100) | (df.nutriment_sum < 70)].index)\n",
    "df = df.drop(df[(df.sugars_100g > 100) | (df.sugars_100g < 0)].index)\n",
    "df = df.drop(df[(df.fat_100g > 100) | (df.fat_100g < 0)].index)\n",
    "df = df.drop(df[(df.proteins_100g > 100) | (df.proteins_100g < 0)].index)\n",
    "df = df.drop(df[(df.salt_100g > 100) | (df.salt_100g < 0)].index)\n",
    "df = df.drop(df[(df.fiber_100g > 100) | (df.fiber_100g < 0)].index)\n",
    "df = df.drop(df[(df.energy_100g > 4000) | (df.energy_100g < 0)].index)\n",
    "df.shape"
   ]
  },
  {
   "source": [
    "## 7. recalcul du nutri-score\n"
   ],
   "cell_type": "markdown",
   "metadata": {}
  },
  {
   "cell_type": "code",
   "execution_count": 55,
   "metadata": {},
   "outputs": [],
   "source": [
    "def nutri_score_value(value):\n",
    "        if value < 0 :\n",
    "            return 'a'\n",
    "        elif value < 3 :\n",
    "            return 'b'\n",
    "        elif value < 11 :\n",
    "            return 'c'\n",
    "        elif value < 19 :\n",
    "            return 'd'\n",
    "        else:\n",
    "            return 'e'\n",
    "\n",
    "df['nutrition_grade_fr'] = df['nutrition-score-fr_100g'].apply(nutri_score_value)"
   ]
  },
  {
   "cell_type": "code",
   "execution_count": 30,
   "metadata": {},
   "outputs": [
    {
     "output_type": "execute_result",
     "data": {
      "text/plain": [
       "nutrition-score-fr_100g  nutrition_grade_fr\n",
       "-12.0                    a                        1\n",
       "-10.0                    a                        1\n",
       "-9.0                     a                        1\n",
       "-8.0                     a                        2\n",
       "-7.0                     a                        5\n",
       "-6.0                     a                      109\n",
       "-5.0                     a                       54\n",
       "-4.0                     a                       41\n",
       "-3.0                     a                       27\n",
       "-2.0                     a                       39\n",
       "-1.0                     a                       78\n",
       " 0.0                     b                     1721\n",
       " 1.0                     b                       27\n",
       " 2.0                     b                       40\n",
       " 3.0                     c                       35\n",
       " 4.0                     c                       18\n",
       " 5.0                     c                       22\n",
       " 6.0                     c                       41\n",
       " 7.0                     c                       45\n",
       " 8.0                     c                       62\n",
       " 9.0                     c                      104\n",
       " 10.0                    c                       99\n",
       " 11.0                    d                      102\n",
       " 12.0                    d                       88\n",
       " 13.0                    d                      127\n",
       " 14.0                    d                      199\n",
       " 15.0                    d                      102\n",
       " 16.0                    d                      107\n",
       " 17.0                    d                       88\n",
       " 18.0                    d                       88\n",
       " 19.0                    e                      124\n",
       " 20.0                    e                      116\n",
       " 21.0                    e                       99\n",
       " 22.0                    e                       91\n",
       " 23.0                    e                       80\n",
       " 24.0                    e                       82\n",
       " 25.0                    e                       68\n",
       " 26.0                    e                       63\n",
       " 27.0                    e                       39\n",
       " 28.0                    e                       18\n",
       " 29.0                    e                       10\n",
       " 30.0                    e                        2\n",
       " 31.0                    e                        4\n",
       " 32.0                    e                        3\n",
       " 33.0                    e                        1\n",
       " 35.0                    e                        2\n",
       "dtype: int64"
      ]
     },
     "metadata": {},
     "execution_count": 30
    }
   ],
   "source": [
    "df.groupby(['nutrition-score-fr_100g','nutrition_grade_fr']).size().sort_index()"
   ]
  },
  {
   "cell_type": "code",
   "execution_count": 56,
   "metadata": {},
   "outputs": [],
   "source": [
    "df.to_csv('/home/apprenant/simplon_project/food_facts/data/df_clean.csv' , index = False , sep = ',' , encoding = 'utf-8', line_terminator = '\\n' )"
   ]
  },
  {
   "cell_type": "code",
   "execution_count": null,
   "metadata": {},
   "outputs": [],
   "source": []
  }
 ],
 "metadata": {
  "kernelspec": {
   "display_name": "Python 3",
   "language": "python",
   "name": "python3"
  },
  "language_info": {
   "codemirror_mode": {
    "name": "ipython",
    "version": 3
   },
   "file_extension": ".py",
   "mimetype": "text/x-python",
   "name": "python",
   "nbconvert_exporter": "python",
   "pygments_lexer": "ipython3",
   "version": "3.8.5-final"
  }
 },
 "nbformat": 4,
 "nbformat_minor": 2
}