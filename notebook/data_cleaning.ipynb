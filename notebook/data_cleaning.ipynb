{
 "cells": [
  {
   "cell_type": "markdown",
   "metadata": {},
   "source": [
    "# Nettoyage des données"
   ]
  },
  {
   "cell_type": "markdown",
   "metadata": {},
   "source": [
    "## 0. Set-up"
   ]
  },
  {
   "cell_type": "markdown",
   "metadata": {},
   "source": [
    "### Mise en place de l'environnement"
   ]
  },
  {
   "cell_type": "code",
   "execution_count": 3,
   "metadata": {},
   "outputs": [],
   "source": [
    "import pandas as pd\n",
    "import numpy as np\n",
    "import random # ici random va nous servir lors de la sélection des lignes \n",
    "\n",
    "food_info = pd.read_csv(\"/home/apprenant/simplon_project/food_facts/data/foodfacts.tsv\", sep= '\\t' , low_memory= False)\n"
   ]
  },
  {
   "cell_type": "code",
   "execution_count": 4,
   "metadata": {},
   "outputs": [],
   "source": [
    "# on limite les données à 10000 lignes elle sont choisit aléatoirement \n",
    "df = food_info.sample(10000) \n"
   ]
  },
  {
   "cell_type": "code",
   "execution_count": 5,
   "metadata": {},
   "outputs": [
    {
     "data": {
      "text/plain": [
       "array(['code', 'url', 'creator', 'created_t', 'created_datetime',\n",
       "       'last_modified_t', 'last_modified_datetime', 'product_name',\n",
       "       'generic_name', 'quantity', 'packaging', 'packaging_tags',\n",
       "       'brands', 'brands_tags', 'categories', 'categories_tags',\n",
       "       'categories_en', 'origins', 'origins_tags', 'manufacturing_places',\n",
       "       'manufacturing_places_tags', 'labels', 'labels_tags', 'labels_en',\n",
       "       'emb_codes', 'emb_codes_tags', 'first_packaging_code_geo',\n",
       "       'cities', 'cities_tags', 'purchase_places', 'stores', 'countries',\n",
       "       'countries_tags', 'countries_en', 'ingredients_text', 'allergens',\n",
       "       'allergens_en', 'traces', 'traces_tags', 'traces_en',\n",
       "       'serving_size', 'no_nutriments', 'additives_n', 'additives',\n",
       "       'additives_tags', 'additives_en', 'ingredients_from_palm_oil_n',\n",
       "       'ingredients_from_palm_oil', 'ingredients_from_palm_oil_tags',\n",
       "       'ingredients_that_may_be_from_palm_oil_n',\n",
       "       'ingredients_that_may_be_from_palm_oil',\n",
       "       'ingredients_that_may_be_from_palm_oil_tags', 'nutrition_grade_uk',\n",
       "       'nutrition_grade_fr', 'pnns_groups_1', 'pnns_groups_2', 'states',\n",
       "       'states_tags', 'states_en', 'main_category', 'main_category_en',\n",
       "       'image_url', 'image_small_url', 'energy_100g',\n",
       "       'energy-from-fat_100g', 'fat_100g', 'saturated-fat_100g',\n",
       "       '-butyric-acid_100g', '-caproic-acid_100g', '-caprylic-acid_100g',\n",
       "       '-capric-acid_100g', '-lauric-acid_100g', '-myristic-acid_100g',\n",
       "       '-palmitic-acid_100g', '-stearic-acid_100g',\n",
       "       '-arachidic-acid_100g', '-behenic-acid_100g',\n",
       "       '-lignoceric-acid_100g', '-cerotic-acid_100g',\n",
       "       '-montanic-acid_100g', '-melissic-acid_100g',\n",
       "       'monounsaturated-fat_100g', 'polyunsaturated-fat_100g',\n",
       "       'omega-3-fat_100g', '-alpha-linolenic-acid_100g',\n",
       "       '-eicosapentaenoic-acid_100g', '-docosahexaenoic-acid_100g',\n",
       "       'omega-6-fat_100g', '-linoleic-acid_100g',\n",
       "       '-arachidonic-acid_100g', '-gamma-linolenic-acid_100g',\n",
       "       '-dihomo-gamma-linolenic-acid_100g', 'omega-9-fat_100g',\n",
       "       '-oleic-acid_100g', '-elaidic-acid_100g', '-gondoic-acid_100g',\n",
       "       '-mead-acid_100g', '-erucic-acid_100g', '-nervonic-acid_100g',\n",
       "       'trans-fat_100g', 'cholesterol_100g', 'carbohydrates_100g',\n",
       "       'sugars_100g', '-sucrose_100g', '-glucose_100g', '-fructose_100g',\n",
       "       '-lactose_100g', '-maltose_100g', '-maltodextrins_100g',\n",
       "       'starch_100g', 'polyols_100g', 'fiber_100g', 'proteins_100g',\n",
       "       'casein_100g', 'serum-proteins_100g', 'nucleotides_100g',\n",
       "       'salt_100g', 'sodium_100g', 'alcohol_100g', 'vitamin-a_100g',\n",
       "       'beta-carotene_100g', 'vitamin-d_100g', 'vitamin-e_100g',\n",
       "       'vitamin-k_100g', 'vitamin-c_100g', 'vitamin-b1_100g',\n",
       "       'vitamin-b2_100g', 'vitamin-pp_100g', 'vitamin-b6_100g',\n",
       "       'vitamin-b9_100g', 'folates_100g', 'vitamin-b12_100g',\n",
       "       'biotin_100g', 'pantothenic-acid_100g', 'silica_100g',\n",
       "       'bicarbonate_100g', 'potassium_100g', 'chloride_100g',\n",
       "       'calcium_100g', 'phosphorus_100g', 'iron_100g', 'magnesium_100g',\n",
       "       'zinc_100g', 'copper_100g', 'manganese_100g', 'fluoride_100g',\n",
       "       'selenium_100g', 'chromium_100g', 'molybdenum_100g', 'iodine_100g',\n",
       "       'caffeine_100g', 'taurine_100g', 'ph_100g',\n",
       "       'fruits-vegetables-nuts_100g',\n",
       "       'fruits-vegetables-nuts-estimate_100g',\n",
       "       'collagen-meat-protein-ratio_100g', 'cocoa_100g',\n",
       "       'chlorophyl_100g', 'carbon-footprint_100g',\n",
       "       'nutrition-score-fr_100g', 'nutrition-score-uk_100g',\n",
       "       'glycemic-index_100g', 'water-hardness_100g'], dtype=object)"
      ]
     },
     "execution_count": 5,
     "metadata": {},
     "output_type": "execute_result"
    }
   ],
   "source": [
    "df.columns.values"
   ]
  },
  {
   "cell_type": "markdown",
   "metadata": {},
   "source": [
    "## 1. Sélection des colonnes"
   ]
  },
  {
   "cell_type": "markdown",
   "metadata": {},
   "source": [
    "J'affiche un échantillno de mes données pour analyser la pertinence des différentes colonnes"
   ]
  },
  {
   "cell_type": "code",
   "execution_count": 6,
   "metadata": {
    "tags": []
   },
   "outputs": [
    {
     "name": "stdout",
     "output_type": "stream",
     "text": [
      "                 code                                                url  \\\n",
      "306548  5411188115496  http://world-en.openfoodfacts.org/product/5411...   \n",
      "69747   0070177026462  http://world-en.openfoodfacts.org/product/0070...   \n",
      "331000       78903180  http://world-en.openfoodfacts.org/product/7890...   \n",
      "275918  3760131166019  http://world-en.openfoodfacts.org/product/3760...   \n",
      "144253  0760236520559  http://world-en.openfoodfacts.org/product/0760...   \n",
      "\n",
      "                   creator   created_t      created_datetime last_modified_t  \\\n",
      "306548               smias  1491665063  2017-04-08T15:24:23Z      1493737350   \n",
      "69747   openfood-ch-import  1486499086  2017-02-07T20:24:46Z      1487256274   \n",
      "331000        jcnascimento  1402187082  2014-06-08T00:24:42Z      1402187082   \n",
      "275918          agamitsudo  1483641065  2017-01-05T18:31:05Z      1483978341   \n",
      "144253     usda-ndb-import  1489057417  2017-03-09T11:03:37Z      1489057417   \n",
      "\n",
      "       last_modified_datetime                 product_name    generic_name  \\\n",
      "306548   2017-05-02T15:02:30Z               Soya Ungesüsst             NaN   \n",
      "69747    2017-02-16T14:44:34Z  OF LONDON TEA BAG SELECTION             NaN   \n",
      "331000   2014-06-08T00:24:42Z     Sal Cisne Refinado Extra             NaN   \n",
      "275918   2017-01-09T16:12:21Z               Nectar Abricot  Nectar Abricot   \n",
      "144253   2017-03-09T11:03:37Z          Light String Cheese             NaN   \n",
      "\n",
      "       quantity  ... fruits-vegetables-nuts_100g  \\\n",
      "306548    1 L e  ...                         NaN   \n",
      "69747       NaN  ...                         NaN   \n",
      "331000    100 g  ...                         NaN   \n",
      "275918    25 cl  ...                         NaN   \n",
      "144253      NaN  ...                         NaN   \n",
      "\n",
      "       fruits-vegetables-nuts-estimate_100g collagen-meat-protein-ratio_100g  \\\n",
      "306548                                  NaN                              NaN   \n",
      "69747                                   NaN                              NaN   \n",
      "331000                                  NaN                              NaN   \n",
      "275918                                  NaN                              NaN   \n",
      "144253                                  NaN                              NaN   \n",
      "\n",
      "       cocoa_100g chlorophyl_100g carbon-footprint_100g  \\\n",
      "306548        NaN             NaN                   NaN   \n",
      "69747         NaN             NaN                   NaN   \n",
      "331000        NaN             NaN                   NaN   \n",
      "275918        NaN             NaN                   NaN   \n",
      "144253        NaN             NaN                   NaN   \n",
      "\n",
      "       nutrition-score-fr_100g nutrition-score-uk_100g glycemic-index_100g  \\\n",
      "306548                     3.0                    -2.0                 NaN   \n",
      "69747                      NaN                     NaN                 NaN   \n",
      "331000                     NaN                     NaN                 NaN   \n",
      "275918                     NaN                     NaN                 NaN   \n",
      "144253                    17.0                    17.0                 NaN   \n",
      "\n",
      "       water-hardness_100g  \n",
      "306548                 NaN  \n",
      "69747                  NaN  \n",
      "331000                 NaN  \n",
      "275918                 NaN  \n",
      "144253                 NaN  \n",
      "\n",
      "[5 rows x 163 columns]\n",
      "Index(['code', 'url', 'creator', 'created_t', 'created_datetime',\n",
      "       'last_modified_t', 'last_modified_datetime', 'product_name',\n",
      "       'generic_name', 'quantity',\n",
      "       ...\n",
      "       'fruits-vegetables-nuts_100g', 'fruits-vegetables-nuts-estimate_100g',\n",
      "       'collagen-meat-protein-ratio_100g', 'cocoa_100g', 'chlorophyl_100g',\n",
      "       'carbon-footprint_100g', 'nutrition-score-fr_100g',\n",
      "       'nutrition-score-uk_100g', 'glycemic-index_100g',\n",
      "       'water-hardness_100g'],\n",
      "      dtype='object', length=163)\n"
     ]
    }
   ],
   "source": [
    "print(df.head())\n",
    "print(df.columns)"
   ]
  },
  {
   "cell_type": "markdown",
   "metadata": {},
   "source": [
    "Je choisis uniquement les colonnes qui pourraient m'être utiles pour mon étude\n"
   ]
  },
  {
   "cell_type": "markdown",
   "metadata": {},
   "source": [
    "## 2. Valeurs manquantes"
   ]
  },
  {
   "cell_type": "code",
   "execution_count": 7,
   "metadata": {},
   "outputs": [],
   "source": [
    "df = df[['product_name','countries','ingredients_text','additives_n','additives','ingredients_from_palm_oil_n','ingredients_that_may_be_from_palm_oil_n','nutrition_grade_fr','states','energy_100g','fat_100g','sugars_100g','fiber_100g','proteins_100g','salt_100g','nutrition-score-fr_100g',]]"
   ]
  },
  {
   "cell_type": "code",
   "execution_count": 8,
   "metadata": {},
   "outputs": [
    {
     "name": "stdout",
     "output_type": "stream",
     "text": [
      "product_name                                537\n",
      "countries                                     7\n",
      "ingredients_text                           2052\n",
      "additives_n                                2053\n",
      "additives                                  2055\n",
      "ingredients_from_palm_oil_n                2053\n",
      "ingredients_that_may_be_from_palm_oil_n    2053\n",
      "nutrition_grade_fr                         2825\n",
      "states                                        1\n",
      "energy_100g                                1703\n",
      "fat_100g                                   2158\n",
      "sugars_100g                                2166\n",
      "fiber_100g                                 3791\n",
      "proteins_100g                              1729\n",
      "salt_100g                                  1859\n",
      "nutrition-score-fr_100g                    2825\n",
      "dtype: int64\n",
      "(10000, 16)\n"
     ]
    }
   ],
   "source": [
    "print(df.isnull().sum()) \n",
    "print(df.shape)"
   ]
  },
  {
   "cell_type": "markdown",
   "metadata": {},
   "source": [
    "il me manque entre 1700 et 3900 données dans chaque colonnes sauf pour les colonnes contries , states et product_name ou il y a peu ou tres peu de valeurs manquantes"
   ]
  },
  {
   "cell_type": "markdown",
   "metadata": {},
   "source": [
    "### Traitement de product_name"
   ]
  },
  {
   "cell_type": "code",
   "execution_count": 9,
   "metadata": {},
   "outputs": [
    {
     "name": "stdout",
     "output_type": "stream",
     "text": [
      "['Soya Ungesüsst' 'OF LONDON TEA BAG SELECTION' 'Sal Cisne Refinado Extra'\n",
      " ... 'Power Play, A Tasty Protein + Fiber-Packed Seed Blend'\n",
      " 'Risotto aux Saint Jacques' 'NaturNes Fruits du verger (4 Pots)']\n",
      "Extra Virgin Olive Oil                                                 10\n",
      "Premium Ice Cream                                                       7\n",
      "Cookies                                                                 7\n",
      "Pasta Sauce                                                             6\n",
      "Almonds                                                                 6\n",
      "                                                                       ..\n",
      "Chevrai, Sofr Unripened Goat Cheese Crumbles, Original                  1\n",
      "Sausages Links                                                          1\n",
      "Noir Taïnori 64 %                                                       1\n",
      "Taco Kit                                                                1\n",
      "Irresistibly Smooth Strawberries And Cream White Chocolate Truffles     1\n",
      "Name: product_name, Length: 8983, dtype: int64\n"
     ]
    }
   ],
   "source": [
    "print(df.product_name.unique())\n",
    "print(df.product_name.value_counts())"
   ]
  },
  {
   "cell_type": "code",
   "execution_count": null,
   "metadata": {},
   "outputs": [],
   "source": [
    "Comme il y a trop de valeur unique différente pour Product_name, je ne peux remplacer les valeurs manquantes par une valeur standard"
   ]
  },
  {
   "cell_type": "code",
   "execution_count": 16,
   "metadata": {},
   "outputs": [],
   "source": [
    "## Traitement de ingredients_text"
   ]
  },
  {
   "cell_type": "code",
   "execution_count": 10,
   "metadata": {
    "scrolled": true
   },
   "outputs": [
    {
     "name": "stdout",
     "output_type": "stream",
     "text": [
      "[\"jus de soja 99% [eau, fèves de soja sans OGM décortiquées (8,7%)), correcteurs d'acidité (phosphate dipotassique, phosphate monopotassique), carbonate de calcium, arômes, stabilisant (gomme gellane), sel marin de table, vitamines (riboflavine (82), 812, D2). Sans produits laitiers, ni gluten.\"\n",
      " \"thé noir, écorces d'orange (3%), écorces de citron (3%), arômes agrumes.\"\n",
      " nan ...\n",
      " \"fromage frais trois-quarts gras «mozzarella» 60% (lait [Europe], sel de cuisine), farine de fremont, huile de tournesol, amidon de maïs modifié, sel de cuisine, farine de maïs, eau, épices, œuf entier en poudre (œufs d'élevage au sol), protéines lactiques, levure, extrait d'épices.\"\n",
      " 'Dry roasted edamame (edamame, salt), roasted pepitas (pumpkin seeds, canola oil), dry roasted sunflower seeds.'\n",
      " 'Pommes 50 %, poires 37.5 %, pêches 7.5, abricots 4.9 %, vitamine C.']\n",
      "Almonds.                                                                                                                                                                                                                                                                                                                                                                                                                                                                                                                                                 8\n",
      "Extra virgin olive oil.                                                                                                                                                                                                                                                                                                                                                                                                                                                                                                                                  7\n",
      "Semolina (wheat), durum flour (wheat), niacin, ferrous sulfate (iron), thiamin mononitrate, riboflavin, folic acid.                                                                                                                                                                                                                                                                                                                                                                                                                                      7\n",
      "Carbonated water, natural flavors.                                                                                                                                                                                                                                                                                                                                                                                                                                                                                                                       7\n",
      "Walnuts.                                                                                                                                                                                                                                                                                                                                                                                                                                                                                                                                                 6\n",
      "                                                                                                                                                                                                                                                                                                                                                                                                                                                                                                                                                        ..\n",
      "Prepared white kidney beans, water, salt, calcium chloride added to help maintain firmness, calcium disodium edta added to help promote color retention.                                                                                                                                                                                                                                                                                                                                                                                                 1\n",
      "Enriched flour bleached (wheat flour, niacin, ferrous sulfate, thiamin mononitrate, riboflavin, folic acid), water, vegetable shortening (soybean and palm oil, hydrogenated palm oil, water, mono and diglycerides, tbhq and citric acid [preservatives], beta                                                                                                                                                                                                                                                                                          1\n",
      "Apple juice from concentrate (water, juice concentrate), grape juice from concentrate (water, juice concentrate), natural flavors, ascorbic acid (vitamin c), citric acid.                                                                                                                                                                                                                                                                                                                                                                               1\n",
      "Chou blanc 45 %, carotte râpée 30 %, sauce condimentaire ( huile de colza, eau, Moutarde de Dijon [eau,graines de _moutarde_, vinaigre d'alcool, sel, antioxydant : disulfite de potassium, acidifiant: acide citrique], jaune d'_oeuf_, vinaigre d'alcool,sel, sucre, amidon modifié de pomme de terre, épaississant: gomme xanthane), oignon 2 %,jus d'orange concentré,eau, huile de colza, vinaigre de vin blanc (dont conservateur : sulfite acide de sodium), sucre, vinaigre d'alcool, sel, épaississant (gomme guar , gomme xanthane),poivre.    1\n",
      "Enriched unbleached wheat flour (wheat flour, reduced iron, thiamin mononitrate, riboflavin, folic acid), brown sugar, white chocolate drops [sugar, cocoa butter, milk, soy lecithin (an emulsifier), vanilla], unsalted butter (cream), egg, cream cheese (mi                                                                                                                                                                                                                                                                                          1\n",
      "Name: ingredients_text, Length: 7728, dtype: int64\n"
     ]
    }
   ],
   "source": [
    "print(df.ingredients_text.unique())\n",
    "print(df.ingredients_text.value_counts())"
   ]
  },
  {
   "cell_type": "code",
   "execution_count": null,
   "metadata": {},
   "outputs": [],
   "source": [
    "on ne remplacera pas les valeurs manquantes , on ne peut pas donner la liste des elements du produit"
   ]
  },
  {
   "cell_type": "code",
   "execution_count": 11,
   "metadata": {},
   "outputs": [
    {
     "name": "stdout",
     "output_type": "stream",
     "text": [
      "[3.300e+00       nan 2.917e+01 2.400e+01 3.330e+00 2.054e+01 0.000e+00\n",
      " 3.500e+00 6.900e+00 7.000e-01 1.071e+01 2.632e+01 6.200e+00 1.000e-01\n",
      " 1.786e+01 1.129e+01 1.550e+01 2.350e+00 9.200e+00 5.130e+00 1.000e+00\n",
      " 2.500e+00 8.800e+00 1.042e+01 3.400e+00 5.800e+00 1.900e+00 6.670e+00\n",
      " 5.300e+00 1.069e+01 2.600e+01 1.250e+01 8.570e+00 5.500e+00 1.831e+01\n",
      " 2.000e-02 8.300e+00 1.300e+00 1.607e+01 3.230e+00 3.410e+00 1.429e+01\n",
      " 1.445e+01 4.000e+00 6.060e+00 6.400e+00 1.820e+00 2.420e+00 1.400e+01\n",
      " 5.260e+00 5.000e+00 4.290e+00 4.400e+00 7.800e+00 9.380e+00 1.200e+00\n",
      " 8.000e+00 6.300e+00 4.000e-01 4.100e-01 2.000e+01 8.700e+00 4.710e+00\n",
      " 1.500e+00 1.667e+01 8.300e-01 1.040e+01 7.020e+00 1.500e+01 5.700e+00\n",
      " 2.500e+01 7.500e+00 8.100e+00 3.030e+00 5.290e+00 7.100e+00 2.300e+01\n",
      " 8.770e+00 2.100e+00 7.900e+00 6.000e-01 1.912e+01 4.100e+00 2.700e+00\n",
      " 1.200e+01 3.570e+00 4.170e+00 1.000e+01 1.800e+00 8.800e-01 1.750e+01\n",
      " 1.026e+01 1.111e+01 2.440e+00 1.034e+01 1.400e+00 2.800e-01 2.170e+01\n",
      " 1.800e+01 7.000e+00 2.580e+00 1.530e+01 3.850e+00 9.260e+00 9.000e+00\n",
      " 7.100e-01 7.600e+00 4.600e+00 1.050e+01 1.326e+01 4.800e+00 6.600e+00\n",
      " 1.091e+01 3.510e+00 1.120e+00 1.875e+01 5.880e+00 1.600e+00 3.100e+00\n",
      " 2.700e+01 1.725e+01 1.481e+01 8.900e+00 1.080e+01 2.750e+00 2.381e+01\n",
      " 8.590e+00 1.339e+01 3.200e+00 1.780e+00 9.090e+00 1.167e+01 1.300e+01\n",
      " 7.200e+00 3.900e+00 5.360e+00 2.070e+01 1.333e+01 4.300e+00 5.560e+00\n",
      " 2.170e+00 7.140e+00 7.230e+00 1.216e+01 1.430e+00 8.620e+00 5.530e+00\n",
      " 3.370e+00 3.700e+00 6.800e+00 2.320e+01 6.450e+00 9.330e+00 3.600e+00\n",
      " 1.490e+01 2.200e+01 1.600e+01 2.900e+00 2.600e+00 2.059e+01 4.500e+00\n",
      " 2.600e-01 2.340e+00 6.150e+00 1.304e+01 5.710e+00 6.250e+00 1.560e+00\n",
      " 1.120e+01 4.900e+00 3.640e+01 1.882e+01 6.980e+00 1.130e+01 1.470e+01\n",
      " 9.840e+00 3.600e-01 1.820e+01 1.160e+01 8.670e+00 6.000e+00 1.855e+01\n",
      " 8.240e+00 7.480e+00 1.900e+01 1.027e+01 1.720e+01 1.020e+01 3.077e+01\n",
      " 4.220e+00 6.750e+00 3.000e+00 1.053e+01 1.100e+00 4.690e+00 5.410e+00\n",
      " 2.300e+00 3.390e+00 1.700e+01 5.000e-01 2.720e+01 5.714e+01 7.400e+00\n",
      " 2.940e+00 2.860e+00 1.100e+01 8.000e-01 8.810e+00 1.273e+01 2.143e+01\n",
      " 8.200e+00 3.125e+01 1.770e+00 1.951e+01 1.858e+01 1.320e+00 5.333e+01\n",
      " 1.930e+01 9.100e+00 4.200e-01 6.500e+00 1.579e+01 2.430e+01 7.700e+00\n",
      " 1.842e+01 1.590e+01 9.800e-01 1.707e+01 2.308e+01 2.220e+00 4.350e+00\n",
      " 4.500e-01 1.180e+00 5.400e+00 3.500e+01 7.890e+00 8.500e+00 5.190e+00\n",
      " 9.240e+00 2.370e+01 2.400e+00 7.690e+00 3.000e-01 1.224e+01 6.030e+00\n",
      " 9.540e+00 2.080e+01 2.670e+00 2.035e+01 8.400e+00 5.600e+00 1.593e+01\n",
      " 1.210e+01 2.360e+01 9.680e+00 1.180e+01 3.120e+00 1.150e+01 2.200e+00\n",
      " 8.930e+00 1.538e+01 8.330e+00 1.450e+01 3.333e+01 4.410e+00 6.520e+00\n",
      " 8.890e+00 4.286e+01 5.280e+00 3.000e+01 1.060e+01 4.700e+00 1.024e+01\n",
      " 1.540e+00 2.980e+00 1.640e+00 6.430e+00 9.760e+00 2.075e+01 6.100e+00\n",
      " 3.800e+00 1.190e+01 2.162e+01 4.620e+00 2.000e+00 3.530e+00 1.176e+01\n",
      " 2.900e+01 1.043e+01 1.750e+00 1.280e+01 5.380e+00 8.400e-01 2.353e+01\n",
      " 4.480e+00 4.167e+01 3.960e+00 3.770e+00 2.151e+01 5.620e+00 1.062e+01\n",
      " 6.270e+00 3.450e+00 6.800e-01 4.230e+00 2.188e+01 1.479e+01 8.510e+00\n",
      " 9.300e+00 2.800e+00 2.350e+01 4.070e+00 9.600e+00 8.160e+00 1.560e+01\n",
      " 1.770e+01 1.340e+01 2.857e+01 1.270e+01 1.690e+00 2.780e+00 1.260e+01\n",
      " 6.700e+00 2.100e+01 2.100e-01 9.800e+00 4.760e+00 1.230e+00 1.818e+01\n",
      " 1.980e+01 1.038e+01 7.060e+00 9.700e+00 1.404e+01 1.160e+00 2.667e+01\n",
      " 2.000e-01 2.273e+01 9.620e+00 7.250e+00 1.960e+00 1.670e+00 1.047e+01\n",
      " 7.490e+00 2.063e+01 1.395e+01 1.320e-01 5.900e+00 8.820e+00 8.180e+00\n",
      " 1.143e+01 1.647e+01 2.820e+00 1.170e+01 1.000e-03 8.700e-01 2.550e+01\n",
      " 1.010e+00 2.471e+01 1.327e+01 8.100e-01 3.929e+01 1.250e+00 2.690e+01\n",
      " 1.140e+00 2.380e+00 2.450e+01 9.500e+00 8.600e+00 1.780e+01 1.760e+01\n",
      " 1.460e+01 5.630e+00 1.161e+01 6.820e+00 1.562e+01 1.220e+00 1.408e+01\n",
      " 2.120e+01 1.840e+01 9.470e+00 2.630e+00 9.400e+00 3.520e+00 3.080e+00\n",
      " 6.120e+00 1.760e+00 4.550e+00 1.972e+01 2.464e+01 7.780e+00 5.970e+00\n",
      " 1.081e+01 1.357e+01 5.000e-02 4.050e+00 1.700e+00 4.420e+00 1.064e+01\n",
      " 1.720e+00 1.810e+01 1.964e+01 2.560e+00 9.000e-01 2.270e+01 2.260e+01\n",
      " 1.660e+01 2.025e+01 1.290e+01 2.250e+01 2.540e+00 1.463e+01 2.470e+00\n",
      " 2.010e+01 2.222e+01 3.214e+01 9.520e+00 4.200e+00 7.700e-01 1.944e+01\n",
      " 2.364e+01 2.760e+01 2.330e+00 7.050e+00 8.050e+00 2.705e+01 2.190e+01\n",
      " 1.277e+01 1.190e+00 2.089e+01 9.920e+00 4.030e+00 2.174e+01 1.310e+01\n",
      " 7.300e+00 9.070e+00 5.490e+00 2.450e+00 4.600e-01 7.900e-01 1.630e+00\n",
      " 4.650e+00 1.630e+01 3.380e+00 1.470e+00 1.540e+01 5.200e+00 4.080e+00\n",
      " 1.618e+01 1.087e+01 3.750e+00 1.000e-02 5.990e+00 7.520e+00 3.610e+00\n",
      " 9.730e+00 1.239e+01 2.270e+00 1.731e+01 2.020e+00 2.321e+01 9.430e+00\n",
      " 2.410e+00 5.450e+00 1.570e+00 2.118e+01 1.694e+01 1.230e+01 7.930e+00\n",
      " 5.730e+00 8.150e+00 2.093e+01 5.160e+00 4.000e+01 1.220e+01 2.090e+01\n",
      " 1.457e+01 4.260e+00 1.556e+01 4.120e+00 1.154e+01 9.900e+00 3.667e+01\n",
      " 2.800e+01 1.110e+01 1.600e-01 2.110e+00 2.566e+01 7.040e+00 2.182e+01\n",
      " 1.416e+01 4.720e+00 1.090e+00 6.090e+00 4.667e+01 1.467e+01 3.150e+00\n",
      " 1.570e+01 5.310e+00 1.228e+01 2.727e+01 3.810e+00 1.587e+01 7.070e+00\n",
      " 6.000e-02 4.100e+01 8.060e+00 2.650e+00 1.269e+01 2.083e+01 7.810e+00\n",
      " 1.552e+01 1.007e+01 7.840e+00 4.510e+00 1.880e+01 3.750e+01 8.200e-01\n",
      " 2.140e+00 5.000e+01 3.670e+00 1.013e+01 1.935e+01 4.242e+01 7.805e+01\n",
      " 8.500e-01 1.325e+01 1.410e+01 1.714e+01 2.610e+00 5.520e+00 7.400e-01\n",
      " 5.900e-01 1.610e+00 1.090e+01 5.480e+00 1.268e+01 4.090e+00 1.370e+00\n",
      " 2.140e+01 1.455e+01 9.100e-01 1.385e+01 2.105e+01 3.478e+01 2.250e+00\n",
      " 2.078e+01 3.300e+01 2.110e+01 3.400e-01 1.233e+01 6.380e+00 9.290e+00\n",
      " 1.389e+01 1.351e+01 7.550e+00 2.150e+01 1.680e+01 2.807e+01 6.170e+00\n",
      " 4.040e+00 3.540e+01 1.270e+00 4.580e+00 6.940e+00 2.941e+01 3.930e+00\n",
      " 4.688e+01 3.571e+01 1.136e+01 1.765e+01 8.000e+01 1.977e+01 8.370e+00\n",
      " 2.420e+01 2.980e+01 2.456e+01 7.500e-01 5.100e+00 6.190e+00 5.150e+00\n",
      " 2.660e+01 5.060e+00 3.540e+00 2.990e+00 1.650e+00 9.650e+00 1.010e+01\n",
      " 2.490e+01 4.300e+01 1.294e+01 1.370e+01 7.320e+00 1.308e+01 3.180e+00\n",
      " 3.009e+01 1.724e+01 6.510e+00 1.030e+01 8.010e+00 9.250e+00 2.655e+01\n",
      " 1.077e+01 4.444e+01 4.840e+00 1.330e+00 9.860e+00 8.153e+01 1.360e+01\n",
      " 3.800e+01 1.240e+01 2.180e+01 1.591e+01 4.490e+00 3.730e+00 4.400e-01\n",
      " 4.000e-02 1.845e+01 1.290e+00 2.050e+01 3.889e+01 5.430e+00 1.094e+01\n",
      " 7.430e+00 2.840e+01 9.570e+00 3.600e+01 1.870e+01 1.061e+01 1.460e+00\n",
      " 1.857e+01 4.440e+00 6.720e+00 1.070e+00 1.110e+00 6.250e+01 2.040e+01\n",
      " 4.850e+00 8.110e+00 3.760e+00 5.050e+00 3.036e+01 1.016e+01 4.545e+01\n",
      " 6.490e+00 6.667e+01 2.121e+01 2.254e+01 8.850e+00 4.670e+00 1.132e+01\n",
      " 2.295e+01 8.410e+00 1.320e+01 4.651e+01 7.600e-01 9.870e+00 1.222e+01\n",
      " 1.412e+01 5.110e+00 6.310e+00 9.160e+00 1.350e+01 2.330e+01 5.556e+01\n",
      " 2.030e+01 2.609e+01 1.894e+01 2.290e+00 3.250e+01 2.220e+01 2.560e+01\n",
      " 2.160e+01 3.529e+01 1.330e+01 7.410e+00 1.127e+01 3.910e+00 1.452e+01\n",
      " 2.240e+01 5.600e-01 1.070e+01 4.550e-02 3.488e+01 3.400e+01 6.020e+00\n",
      " 1.504e+01 4.950e+00 9.410e+00 2.080e+00 1.212e+01 1.518e+01 1.101e+01\n",
      " 6.760e+00 1.067e+01 1.960e+01 9.060e+00 8.550e+00 1.235e+01 2.640e+01\n",
      " 7.370e+00 9.230e+00 6.470e+00 4.320e+00 1.471e+01 2.210e+00 1.852e+01\n",
      " 8.450e+00 6.780e+00 7.660e+00 1.350e+00 1.203e+01 1.890e+01 1.322e+01\n",
      " 2.280e+01 7.080e+00 2.920e+00 1.754e+01 5.750e+00 9.020e+00 1.163e+01\n",
      " 1.140e+01 3.620e+01 1.690e+01 1.461e+01 1.648e+01 1.590e+00 2.440e+01\n",
      " 1.515e+01 1.520e+01 4.110e+00 7.800e-01 1.058e+01 2.198e+01 3.500e-01\n",
      " 2.679e+01 7.000e+01 1.059e+01 1.868e+01 1.029e+01 1.430e+01 1.098e+01\n",
      " 3.270e+00 4.880e+00 2.520e+01 3.170e+00 2.230e+01 3.920e+00 6.480e+00\n",
      " 1.207e+01 1.321e+01 5.340e+00 2.160e+00 1.628e+01 6.660e+00 7.330e+00\n",
      " 4.930e+00 1.480e+01 6.700e-01 1.923e+01 1.099e+01 4.890e+00 3.090e+00\n",
      " 1.905e+01 2.326e+01 3.950e+00 1.324e+01 4.210e+00 1.286e+01 3.280e+00\n",
      " 1.854e+01 2.065e+01 3.200e+01 1.338e+01 1.800e-01 1.790e+00 7.870e+00\n",
      " 7.600e+01 7.500e+01 1.640e+01 2.040e+00 1.730e+01 1.620e+01 9.690e+00\n",
      " 1.138e+01 1.491e+01 6.580e+00 1.758e+01 2.333e+01 2.310e+00 9.310e+01\n",
      " 1.217e+01 9.400e-01 6.070e+00 1.057e+01 5.770e+00 2.530e+01 2.840e+00\n",
      " 3.320e+01 2.340e+01 9.780e+00 1.523e+01 4.390e+00 2.235e+01 2.360e+00\n",
      " 1.510e+01 8.380e+00 4.200e+01 2.500e-01 1.060e+00 2.817e+01 2.780e+01\n",
      " 6.370e+00 1.850e+01 1.990e+01 1.699e+01 1.440e+01 6.050e+00 6.429e+01\n",
      " 6.897e+01 8.420e+00 2.545e+01 2.900e-01 1.500e-01 5.420e+00 1.418e+01\n",
      " 6.200e-01 8.200e+01 1.450e+00 1.846e+01 3.360e+00 2.411e+01 4.900e+01\n",
      " 2.750e+01 1.056e+01 1.670e+01 4.660e+00 8.470e+00 1.147e+01 9.630e+00\n",
      " 5.570e+00 9.030e+00 3.560e+00 1.740e+00 4.300e-01 1.910e+01 5.830e+00\n",
      " 5.500e-01 6.930e+00 7.460e+00 3.830e+00 1.681e+01 1.696e+01 6.560e+00\n",
      " 1.772e+01 1.778e+01 2.020e+01 8.080e+00 1.158e+01 1.680e+00 5.680e+00\n",
      " 1.920e+01 1.636e+01 1.650e+01 2.810e+01 1.522e+01 4.118e+01 1.711e+01\n",
      " 6.570e+00 2.770e+01 2.850e+01 2.130e+00 1.033e+01 9.450e+00 4.020e+00\n",
      " 3.050e+00 7.270e+00 1.299e+01 2.670e+01 1.610e+01 1.018e+01 1.380e+01\n",
      " 1.231e+01 1.096e+01 3.019e+01 2.290e+01 8.610e+00 2.167e+01 1.182e+01\n",
      " 9.390e+00 1.410e+00 5.670e+00 6.740e+00 3.030e+01 1.978e+01 9.640e+00\n",
      " 1.547e+01]\n",
      "0.00     1548\n",
      "7.14      162\n",
      "0.50      135\n",
      "10.00     122\n",
      "3.33      111\n",
      "         ... \n",
      "8.15        1\n",
      "17.20       1\n",
      "7.48        1\n",
      "53.33       1\n",
      "10.61       1\n",
      "Name: proteins_100g, Length: 896, dtype: int64\n"
     ]
    }
   ],
   "source": [
    "print(df.proteins_100g.unique())\n",
    "print(df.proteins_100g.value_counts())"
   ]
  },
  {
   "source": [
    "on remplace les valeurs 'nan' par zéro dans les colonnes séléctionnées "
   ],
   "cell_type": "markdown",
   "metadata": {}
  },
  {
   "cell_type": "code",
   "execution_count": 12,
   "metadata": {},
   "outputs": [],
   "source": [
    "df['ingredients_from_palm_oil_n','ingredients_that_may_be_from_palm_oil_n','fat_100g','sugars_100g','fiber_100g','proteins_100g','salt_100g',].fillna(0, inplace = True)"
   ]
  },
  {
   "cell_type": "code",
   "execution_count": 16,
   "metadata": {},
   "outputs": [
    {
     "data": {
      "text/plain": [
       "306548     3.30\n",
       "69747      0.00\n",
       "331000     0.00\n",
       "275918     0.00\n",
       "144253    29.17\n",
       "          ...  \n",
       "9223       0.00\n",
       "325538    18.00\n",
       "173441    38.89\n",
       "271938     3.54\n",
       "321196     0.30\n",
       "Name: proteins_100g, Length: 10000, dtype: float64"
      ]
     },
     "execution_count": 16,
     "metadata": {},
     "output_type": "execute_result"
    }
   ],
   "source": []
  },
  {
   "cell_type": "code",
   "execution_count": null,
   "metadata": {},
   "outputs": [],
   "source": [
    "on supprime les lignes ou la valeur de la colonne product_name est nulle car le but de ses données nettoyer est de les utiliser pour une application donc il faut que le nom du produit apparait"
   ]
  },
  {
   "cell_type": "code",
   "execution_count": null,
   "metadata": {},
   "outputs": [],
   "source": [
    "df.drop(\"product_name\", inplace = True)"
   ]
  },
  {
   "cell_type": "markdown",
   "metadata": {},
   "source": [
    "### Conclusion sur les valeurs manquantes "
   ]
  },
  {
   "cell_type": "markdown",
   "metadata": {},
   "source": [
    "J'ai gardé une grande partie des données il reste encore des valeurs manquantes mais celle ci peuvent etre remplit , on s'occupera de ca un peu plus tard"
   ]
  },
  {
   "source": [
    "## 3. Traitement des dates"
   ],
   "cell_type": "markdown",
   "metadata": {}
  },
  {
   "cell_type": "code",
   "execution_count": null,
   "metadata": {},
   "outputs": [],
   "source": [
    "print(df.dtypes)\n"
   ]
  },
  {
   "source": [
    "Aucune de mes colonnes ne correspond à une date, je n'ai donc pas à faire de traitement"
   ],
   "cell_type": "markdown",
   "metadata": {}
  }
 ],
 "metadata": {
  "kernelspec": {
   "display_name": "Python 3",
   "language": "python",
   "name": "python3"
  },
  "language_info": {
   "codemirror_mode": {
    "name": "ipython",
    "version": 3
   },
   "file_extension": ".py",
   "mimetype": "text/x-python",
   "name": "python",
   "nbconvert_exporter": "python",
   "pygments_lexer": "ipython3",
   "version": "3.8.5"
  }
 },
 "nbformat": 4,
 "nbformat_minor": 2
}