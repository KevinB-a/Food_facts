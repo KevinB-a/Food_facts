{
 "cells": [
  {
   "cell_type": "markdown",
   "metadata": {},
   "source": [
    "# Nettoyage des données"
   ]
  },
  {
   "cell_type": "markdown",
   "metadata": {},
   "source": [
    "## 0. Set-up"
   ]
  },
  {
   "cell_type": "markdown",
   "metadata": {},
   "source": [
    "### Mise en place de l'environnement"
   ]
  },
  {
   "cell_type": "code",
   "execution_count": 3,
   "metadata": {},
   "outputs": [],
   "source": [
    "import pandas as pd\n",
    "import numpy as np\n",
    "import random # ici random va nous servir lors de la sélection des lignes \n",
    "\n",
    "food_info = pd.read_csv(\"/home/apprenant/simplon_project/food_facts/data/foodfacts.tsv\", sep= '\\t' , low_memory= False)\n"
   ]
  },
  {
   "cell_type": "code",
   "execution_count": 4,
   "metadata": {},
   "outputs": [],
   "source": [
    "# on limite les données à 10000 lignes elle sont choisit aléatoirement \n",
    "df = food_info.sample(10000) \n"
   ]
  },
  {
   "cell_type": "code",
   "execution_count": 5,
   "metadata": {},
   "outputs": [
    {
     "output_type": "execute_result",
     "data": {
      "text/plain": [
       "array(['code', 'url', 'creator', 'created_t', 'created_datetime',\n",
       "       'last_modified_t', 'last_modified_datetime', 'product_name',\n",
       "       'generic_name', 'quantity', 'packaging', 'packaging_tags',\n",
       "       'brands', 'brands_tags', 'categories', 'categories_tags',\n",
       "       'categories_en', 'origins', 'origins_tags', 'manufacturing_places',\n",
       "       'manufacturing_places_tags', 'labels', 'labels_tags', 'labels_en',\n",
       "       'emb_codes', 'emb_codes_tags', 'first_packaging_code_geo',\n",
       "       'cities', 'cities_tags', 'purchase_places', 'stores', 'countries',\n",
       "       'countries_tags', 'countries_en', 'ingredients_text', 'allergens',\n",
       "       'allergens_en', 'traces', 'traces_tags', 'traces_en',\n",
       "       'serving_size', 'no_nutriments', 'additives_n', 'additives',\n",
       "       'additives_tags', 'additives_en', 'ingredients_from_palm_oil_n',\n",
       "       'ingredients_from_palm_oil', 'ingredients_from_palm_oil_tags',\n",
       "       'ingredients_that_may_be_from_palm_oil_n',\n",
       "       'ingredients_that_may_be_from_palm_oil',\n",
       "       'ingredients_that_may_be_from_palm_oil_tags', 'nutrition_grade_uk',\n",
       "       'nutrition_grade_fr', 'pnns_groups_1', 'pnns_groups_2', 'states',\n",
       "       'states_tags', 'states_en', 'main_category', 'main_category_en',\n",
       "       'image_url', 'image_small_url', 'energy_100g',\n",
       "       'energy-from-fat_100g', 'fat_100g', 'saturated-fat_100g',\n",
       "       '-butyric-acid_100g', '-caproic-acid_100g', '-caprylic-acid_100g',\n",
       "       '-capric-acid_100g', '-lauric-acid_100g', '-myristic-acid_100g',\n",
       "       '-palmitic-acid_100g', '-stearic-acid_100g',\n",
       "       '-arachidic-acid_100g', '-behenic-acid_100g',\n",
       "       '-lignoceric-acid_100g', '-cerotic-acid_100g',\n",
       "       '-montanic-acid_100g', '-melissic-acid_100g',\n",
       "       'monounsaturated-fat_100g', 'polyunsaturated-fat_100g',\n",
       "       'omega-3-fat_100g', '-alpha-linolenic-acid_100g',\n",
       "       '-eicosapentaenoic-acid_100g', '-docosahexaenoic-acid_100g',\n",
       "       'omega-6-fat_100g', '-linoleic-acid_100g',\n",
       "       '-arachidonic-acid_100g', '-gamma-linolenic-acid_100g',\n",
       "       '-dihomo-gamma-linolenic-acid_100g', 'omega-9-fat_100g',\n",
       "       '-oleic-acid_100g', '-elaidic-acid_100g', '-gondoic-acid_100g',\n",
       "       '-mead-acid_100g', '-erucic-acid_100g', '-nervonic-acid_100g',\n",
       "       'trans-fat_100g', 'cholesterol_100g', 'carbohydrates_100g',\n",
       "       'sugars_100g', '-sucrose_100g', '-glucose_100g', '-fructose_100g',\n",
       "       '-lactose_100g', '-maltose_100g', '-maltodextrins_100g',\n",
       "       'starch_100g', 'polyols_100g', 'fiber_100g', 'proteins_100g',\n",
       "       'casein_100g', 'serum-proteins_100g', 'nucleotides_100g',\n",
       "       'salt_100g', 'sodium_100g', 'alcohol_100g', 'vitamin-a_100g',\n",
       "       'beta-carotene_100g', 'vitamin-d_100g', 'vitamin-e_100g',\n",
       "       'vitamin-k_100g', 'vitamin-c_100g', 'vitamin-b1_100g',\n",
       "       'vitamin-b2_100g', 'vitamin-pp_100g', 'vitamin-b6_100g',\n",
       "       'vitamin-b9_100g', 'folates_100g', 'vitamin-b12_100g',\n",
       "       'biotin_100g', 'pantothenic-acid_100g', 'silica_100g',\n",
       "       'bicarbonate_100g', 'potassium_100g', 'chloride_100g',\n",
       "       'calcium_100g', 'phosphorus_100g', 'iron_100g', 'magnesium_100g',\n",
       "       'zinc_100g', 'copper_100g', 'manganese_100g', 'fluoride_100g',\n",
       "       'selenium_100g', 'chromium_100g', 'molybdenum_100g', 'iodine_100g',\n",
       "       'caffeine_100g', 'taurine_100g', 'ph_100g',\n",
       "       'fruits-vegetables-nuts_100g',\n",
       "       'fruits-vegetables-nuts-estimate_100g',\n",
       "       'collagen-meat-protein-ratio_100g', 'cocoa_100g',\n",
       "       'chlorophyl_100g', 'carbon-footprint_100g',\n",
       "       'nutrition-score-fr_100g', 'nutrition-score-uk_100g',\n",
       "       'glycemic-index_100g', 'water-hardness_100g'], dtype=object)"
      ]
     },
     "metadata": {},
     "execution_count": 5
    }
   ],
   "source": [
    "df.columns.values"
   ]
  },
  {
   "cell_type": "markdown",
   "metadata": {},
   "source": [
    "## 1. Sélection des colonnes"
   ]
  },
  {
   "cell_type": "markdown",
   "metadata": {},
   "source": [
    "J'affiche un échantillno de mes données pour analyser la pertinence des différentes colonnes"
   ]
  },
  {
   "cell_type": "code",
   "execution_count": 6,
   "metadata": {
    "tags": []
   },
   "outputs": [
    {
     "output_type": "stream",
     "name": "stdout",
     "text": [
      "                 code                                                url  \\\n203026  3168930009313  http://world-en.openfoodfacts.org/product/3168...   \n255206  3560070277315  http://world-en.openfoodfacts.org/product/3560...   \n159790  0850775005171  http://world-en.openfoodfacts.org/product/0850...   \n46709   0041376505041  http://world-en.openfoodfacts.org/product/0041...   \n281901  4006387068363  http://world-en.openfoodfacts.org/product/4006...   \n\n                           creator   created_t      created_datetime  \\\n203026  openfoodfacts-contributors  1475430539  2016-10-02T17:48:59Z   \n255206                    sebleouf  1429552867  2015-04-20T18:01:07Z   \n159790             usda-ndb-import  1489092048  2017-03-09T20:40:48Z   \n46709              usda-ndb-import  1489133628  2017-03-10T08:13:48Z   \n281901  openfoodfacts-contributors  1480526812  2016-11-30T17:26:52Z   \n\n       last_modified_t last_modified_datetime                product_name  \\\n203026      1492600205   2017-04-19T11:10:05Z                3D cacahuète   \n255206      1429553505   2015-04-20T18:11:45Z           Décaféiné Intense   \n159790      1489092048   2017-03-09T20:40:48Z  Kim & Jake's, Cookie Dough   \n46709       1489133628   2017-03-10T08:13:48Z     Crispy Chocolaty Hearts   \n281901      1480526814   2016-11-30T17:26:54Z                         NaN   \n\n                             generic_name quantity  ...  \\\n203026                                NaN      150  ...   \n255206  Café soluble lyophilisé décaféiné    100 g  ...   \n159790                                NaN      NaN  ...   \n46709                                 NaN      NaN  ...   \n281901                                NaN      NaN  ...   \n\n       fruits-vegetables-nuts_100g fruits-vegetables-nuts-estimate_100g  \\\n203026                         NaN                                  NaN   \n255206                         NaN                                  NaN   \n159790                         NaN                                  NaN   \n46709                          NaN                                  NaN   \n281901                         NaN                                  NaN   \n\n       collagen-meat-protein-ratio_100g cocoa_100g chlorophyl_100g  \\\n203026                              NaN        NaN             NaN   \n255206                              NaN        NaN             NaN   \n159790                              NaN        NaN             NaN   \n46709                               NaN        NaN             NaN   \n281901                              NaN        NaN             NaN   \n\n       carbon-footprint_100g nutrition-score-fr_100g nutrition-score-uk_100g  \\\n203026                   NaN                    13.0                    13.0   \n255206                   NaN                     NaN                     NaN   \n159790                   NaN                    21.0                    21.0   \n46709                    NaN                    22.0                    22.0   \n281901                   NaN                     NaN                     NaN   \n\n       glycemic-index_100g water-hardness_100g  \n203026                 NaN                 NaN  \n255206                 NaN                 NaN  \n159790                 NaN                 NaN  \n46709                  NaN                 NaN  \n281901                 NaN                 NaN  \n\n[5 rows x 163 columns]\nIndex(['code', 'url', 'creator', 'created_t', 'created_datetime',\n       'last_modified_t', 'last_modified_datetime', 'product_name',\n       'generic_name', 'quantity',\n       ...\n       'fruits-vegetables-nuts_100g', 'fruits-vegetables-nuts-estimate_100g',\n       'collagen-meat-protein-ratio_100g', 'cocoa_100g', 'chlorophyl_100g',\n       'carbon-footprint_100g', 'nutrition-score-fr_100g',\n       'nutrition-score-uk_100g', 'glycemic-index_100g',\n       'water-hardness_100g'],\n      dtype='object', length=163)\n"
     ]
    }
   ],
   "source": [
    "print(df.head())\n",
    "print(df.columns)"
   ]
  },
  {
   "cell_type": "markdown",
   "metadata": {},
   "source": [
    "Je choisis uniquement les colonnes qui pourraient m'être utiles pour mon étude\n"
   ]
  },
  {
   "cell_type": "markdown",
   "metadata": {},
   "source": [
    "## 2. Valeurs manquantes"
   ]
  },
  {
   "cell_type": "code",
   "execution_count": 7,
   "metadata": {},
   "outputs": [],
   "source": [
    "df = df[['product_name','countries','ingredients_text','additives_n','additives','ingredients_from_palm_oil_n','ingredients_that_may_be_from_palm_oil_n','nutrition_grade_fr','states','energy_100g','fat_100g','sugars_100g','fiber_100g','proteins_100g','salt_100g','nutrition-score-fr_100g']]"
   ]
  },
  {
   "cell_type": "code",
   "execution_count": 8,
   "metadata": {},
   "outputs": [
    {
     "output_type": "stream",
     "name": "stdout",
     "text": [
      "product_name                                521\ncountries                                     9\ningredients_text                           2056\nadditives_n                                2057\nadditives                                  2059\ningredients_from_palm_oil_n                2057\ningredients_that_may_be_from_palm_oil_n    2057\nnutrition_grade_fr                         2858\nstates                                        2\nenergy_100g                                1683\nfat_100g                                   2132\nsugars_100g                                2136\nfiber_100g                                 3819\nproteins_100g                              1730\nsalt_100g                                  1854\nnutrition-score-fr_100g                    2858\ndtype: int64\n(10000, 16)\n"
     ]
    }
   ],
   "source": [
    "print(df.isnull().sum()) \n",
    "print(df.shape)"
   ]
  },
  {
   "cell_type": "markdown",
   "metadata": {},
   "source": [
    "il me manque entre 1700 et 3900 données dans chaque colonnes sauf pour les colonnes contries , states et product_name ou il y a peu ou tres peu de valeurs manquantes"
   ]
  },
  {
   "cell_type": "markdown",
   "metadata": {},
   "source": [
    "### Traitement de product_name"
   ]
  },
  {
   "source": [
    "on supprime les lignes ou la valeur de la colonne product_name est nulle car le but de ses données nettoyer est de les utiliser pour une application donc il faut que le nom du produit apparait"
   ],
   "cell_type": "markdown",
   "metadata": {}
  },
  {
   "cell_type": "code",
   "execution_count": 13,
   "metadata": {},
   "outputs": [],
   "source": [
    "df.drop(columns =\"product_name\", inplace = True)"
   ]
  },
  {
   "source": [
    "### Traitement de ingredients_text"
   ],
   "cell_type": "markdown",
   "metadata": {}
  },
  {
   "cell_type": "code",
   "execution_count": 14,
   "metadata": {
    "scrolled": true
   },
   "outputs": [
    {
     "output_type": "stream",
     "name": "stdout",
     "text": [
      "[nan '100% pur café.'\n 'Gluten-free oat flour, gluten-free brown rice flour, gluten-free tapioca starch, non-hydrogenated palm fat, brown sugar, white sugar, coconut, pecans, organic flax meal, almond extract, vanilla extract, salt, baking soda (sodium bicarbonate), arrowroot, p'\n ...\n \"Olio d'olive extravergine (Italia) con estratti di peperoncini, peperoncini 46%, basilico.  \"\n 'Sugar, creamer (coconut oil, corn syrup solids, sodium caseinate (a milk derivative), dipotassium phosphate, sugar, mono and diglycerides, sodium silicoaluminate, sodium stearoyl lactylate, soy lecithin, artificial colors, artificial flavors), whey, dutch'\n 'Black beans, water.']\nCarbonated water, natural flavor.                                                                                                                                                                                                                                                                                                                                                                                                                                                                                                                                    8\nExtra virgin olive oil                                                                                                                                                                                                                                                                                                                                                                                                                                                                                                                                               7\nExtra virgin olive oil.                                                                                                                                                                                                                                                                                                                                                                                                                                                                                                                                              6\nCanola oil.                                                                                                                                                                                                                                                                                                                                                                                                                                                                                                                                                          6\nHoney                                                                                                                                                                                                                                                                                                                                                                                                                                                                                                                                                                6\n                                                                                                                                                                                                                                                                                                                                                                                                                                                                                                                                                                    ..\nSeasoned with: * * salt, dextrose, maltodextrin, spices, citric acid, sugar, dehydrated onion, caramel color, dehydrated garlic, natural flavor. *tenderness and moistness enhanced with water, potassium lactate, dextrose, sodium phosphates, salt.                                                                                                                                                                                                                                                                                                                1\nBroccoli and cauliflower.                                                                                                                                                                                                                                                                                                                                                                                                                                                                                                                                            1\nWheat flour T80*, speit flour*, blond cane sugar*, baking powder* (Wheat starch*, sodium bicarbonate, potassium bitartrate), sea salt from Ile de Ré *Certified organic. Manufactured in a factory t at Uses nuts and sesame.)                                                                                                                                                                                                                                                                                                                                       1\nCorn syrup, sugar, fruit juice concentrate (apple, grape, lemon, orange, strawberry), modified corn starch, corn starch, high oleic canola oil, less than 2% of: malic acid, ascorbic acid (vitamin c), natural and artificial flavors, yellow #5, blue # 1, re                                                                                                                                                                                                                                                                                                      1\nPâte précuite ( farine de froment, eau, margarine [graisses et huiles végétales [palme, colza] eau, sel de cuisine, arôme, colorant [E160z]), sucre, sel de cuisine), séré 16 %, (lait), crème 11 %, produit fumé à base de viande de porc \"lard\" 9 %, ( viande de porc, sel nitrité [ sel de cuisine, conservateur [E250]), dextrose, épices, arômes, antioxydant, [E301]), oignons 9 %, eau, farine de froment, sel de cuisine, huile de colza, amidons modifiés (E1422 [ pomme de terre], E 1414 [ pomme de terre, maïs]), gélatine alimentaire (porc), levure    1\nName: ingredients_text, Length: 7759, dtype: int64\n"
     ]
    }
   ],
   "source": [
    "print(df.ingredients_text.unique())\n",
    "print(df.ingredients_text.value_counts())"
   ]
  },
  {
   "cell_type": "code",
   "execution_count": null,
   "metadata": {},
   "outputs": [],
   "source": [
    "on ne remplacera pas les valeurs manquantes , on ne peut pas donner la liste des elements du produit"
   ]
  },
  {
   "cell_type": "code",
   "execution_count": 15,
   "metadata": {},
   "outputs": [
    {
     "output_type": "stream",
     "name": "stdout",
     "text": [
      "[8.5000e+00        nan 2.8600e+00 1.7500e+00 9.0000e+00 7.0000e+00\n 1.0000e+01 6.0000e-01 9.6800e+00 5.0000e+00 2.8000e+01 8.2000e+00\n 1.2000e+01 1.5000e+00 2.3000e+01 7.2000e+00 0.0000e+00 4.0000e-01\n 3.0000e-01 3.5000e-01 8.7700e+00 7.1400e+00 1.3000e+01 1.6400e+01\n 2.5000e+01 1.9050e+01 1.8000e+01 2.4000e+00 2.5000e+00 4.2000e-01\n 1.3000e+00 1.7330e+01 1.4300e+00 6.5000e+00 7.9000e+00 3.1200e+00\n 2.0000e+01 1.0000e+00 1.4290e+01 7.4300e+00 8.0000e-01 2.1000e+01\n 3.3000e+01 5.3800e+00 1.3330e+01 1.7300e+01 1.1200e+01 1.4000e+01\n 3.3300e+00 1.2860e+01 1.1500e+01 5.6000e+00 1.2500e+01 5.5000e+00\n 5.4000e-01 1.3570e+01 3.5000e+00 3.4000e+00 5.2000e+00 7.3000e+00\n 4.5000e+00 3.9200e+00 2.7000e+00 2.5880e+01 1.6700e+00 1.7700e+00\n 5.0000e-01 1.9400e+01 7.4100e+00 1.4700e+01 6.0000e+00 3.9000e+00\n 3.5700e+00 1.7500e+01 7.3200e+00 6.0000e-02 1.4710e+01 2.1430e+01\n 1.5400e+00 1.2700e+01 8.1000e+00 1.4000e+00 1.0000e-01 6.6700e+00\n 1.9000e+01 5.7000e+00 2.3000e+00 2.0400e+01 1.7860e+01 7.8000e+00\n 1.0200e+01 4.6500e+00 7.0000e-01 1.0100e+01 1.2940e+01 2.0600e+01\n 7.1000e-01 1.2000e+00 1.0940e+01 1.1000e+01 3.0000e+00 3.0000e+01\n 8.5700e+00 8.0000e+00 9.0000e-01 8.3000e-01 2.2300e+01 1.0530e+01\n 1.1800e+00 3.7000e+00 1.6670e+01 1.2680e+01 9.2100e+00 4.4000e+00\n 9.3000e+00 2.8000e-01 1.0400e+01 3.9600e+00 1.0710e+01 2.8570e+01\n 8.6700e+00 4.3000e+00 1.6070e+01 2.9000e+00 2.3500e+00 3.3330e+01\n 1.2000e-01 1.7000e+00 3.2000e+00 4.7600e+00 2.0800e+00 9.5200e+00\n 2.1500e+01 5.1000e+00 1.1430e+01 2.8000e+00 1.8000e+00 2.1000e+00\n 8.4500e+00 6.8000e+00 6.4500e+00 2.2500e+01 5.4000e+00 1.4500e+01\n 2.7800e+00 7.5000e+00 8.8400e+00 6.1700e+00 5.5000e-01 1.0000e-02\n 2.5930e+01 4.7100e+00 1.5380e+01 2.6000e+01 6.7000e+00 2.0000e+00\n 1.4580e+01 2.2000e+01 8.4000e+00 3.1400e+00 6.3000e+00 1.2160e+01\n 8.8900e+00 1.6400e+00 7.7000e+00 1.5400e+01 1.1900e+01 1.4160e+01\n 4.4100e+00 5.7100e+00 1.0600e+00 5.4100e+00 6.4000e+00 7.4000e+00\n 2.3600e+01 4.2000e+00 3.0800e+00 2.3810e+01 1.5900e+00 9.2000e+00\n 2.0540e+01 3.2300e+00 1.6000e+01 2.4000e+01 4.3500e+00 2.1400e+00\n 1.5000e+01 4.1100e+00 4.8000e+00 7.6000e+00 6.1000e-01 1.1320e+01\n 1.9000e+00 4.0000e+00 8.2400e+00 4.0000e+01 4.6000e+00 3.2000e+01\n 7.6900e+00 3.2200e+01 1.5890e+01 6.2000e+00 1.9900e+01 4.1000e+00\n 1.6300e+01 4.7000e+00 1.1700e+01 6.9800e+00 1.6470e+01 8.3300e+00\n 1.6900e+00 9.8000e+00 2.5200e+01 1.2500e+00 1.1100e+00 5.0000e+01\n 6.1000e+00 3.4500e+00 5.9500e+00 8.9300e+00 1.8200e+01 8.6000e+00\n 2.5300e+01 3.5300e+00 2.7000e+01 1.6000e+00 5.3600e+00 7.1000e+00\n 4.4800e+00 3.4880e+01 3.3800e+00 3.0300e+00 1.3590e+01 3.1000e+00\n 7.0200e+00 2.6000e+00 9.2900e+00 7.9000e-01 2.1880e+01 1.4390e+01\n 9.0900e+00 3.5400e+00 2.1050e+01 2.3700e+01 2.4200e+00 3.9000e+01\n 1.9830e+01 1.7000e+01 2.6700e+00 2.0200e+00 6.0600e+00 2.1200e+00\n 5.9000e+00 3.6000e+00 7.0600e+00 1.6100e+01 5.7400e+00 3.8000e+00\n 2.6300e+00 2.5500e+01 1.4900e+01 5.5600e+00 8.7000e+00 2.3330e+01\n 3.4200e+00 1.4810e+01 1.7220e+01 6.9000e+00 3.5000e+01 4.0400e+00\n 1.3500e+01 2.0000e-01 2.5700e+00 8.8000e-01 8.4200e+00 2.9400e+00\n 1.3600e+01 2.2000e+00 4.3200e+00 1.2900e+01 3.3900e+00 4.6200e+00\n 9.7000e+00 5.2600e+00 6.0100e+00 1.8800e+01 4.2400e+00 3.4090e+01\n 7.7000e-01 1.6280e+01 2.8500e+00 4.7200e+00 1.1400e+01 8.1000e-01\n 1.9230e+01 2.1570e+01 3.7040e+01 5.3000e+00 1.1760e+01 3.6900e+00\n 4.9000e+00 2.6470e+01 3.9500e+00 3.9290e+01 1.3100e+01 6.6000e+00\n 3.5100e+00 1.6740e+01 2.3100e+00 1.0600e+01 1.0700e+01 1.1300e+01\n 7.3170e+01 9.1000e+00 2.3800e+00 1.7140e+01 8.4700e+00 2.6500e+00\n 1.4200e+01 7.2700e+00 3.6100e+00 1.1100e+01 7.4500e+00 1.4750e+01\n 1.8750e+01 1.3200e+01 2.0200e+01 8.1100e+00 1.0300e+01 2.0310e+01\n 1.2280e+01 2.1130e+01 4.0800e+00 5.8000e+00 3.8500e+00 6.1500e+00\n 1.8700e+01 1.3700e+01 1.7600e+00 1.1000e+00 1.7780e+01 4.1200e+00\n 1.9500e+01 1.9640e+01 8.8000e+00 3.7500e+00 2.7300e+00 8.6000e-01\n 1.2240e+01 7.5000e-01 3.3000e+00 1.1270e+01 1.7700e+01 2.1200e+01\n 2.4320e+01 9.2400e+00 3.7700e+00 6.2000e-01 3.4000e-01 3.6600e+00\n 1.1180e+01 5.3200e+00 1.1630e+01 9.9700e+00 4.1700e+00 4.9300e+00\n 3.5710e+01 4.6300e+00 1.6920e+01 1.5600e+01 9.9000e+00 1.5620e+01\n 2.4400e+00 9.0200e+00 1.3160e+01 1.4700e+00 3.2100e+00 9.6000e+00\n 9.5000e+00 1.1200e+00 9.4100e+00 1.1290e+01 2.1300e+01 1.6700e+01\n 2.7600e+00 4.2700e+00 1.3900e+01 2.6090e+01 2.9000e+01 1.8100e+01\n 2.6350e+01 9.1000e-01 1.3640e+01 1.2820e+01 1.1480e+01 1.0100e+00\n 1.4080e+01 1.0180e+01 8.6200e+00 4.2860e+01 9.4000e+00 2.1700e+00\n 1.1210e+01 1.7550e+01 1.9800e+01 1.3400e+00 9.7300e+00 2.0930e+01\n 6.2500e+00 2.5300e+00 2.0880e+01 8.3000e+00 1.3300e+01 1.8240e+01\n 3.2800e+00 2.1100e+00 1.5100e+01 6.7860e+01 1.6100e+00 1.7650e+01\n 1.0340e+01 1.9440e+01 2.3500e+01 2.0300e+01 8.8500e+00 1.7900e+00\n 3.2500e+00 1.3500e+00 5.3300e+00 1.4300e+01 1.2300e+00 8.9000e+00\n 5.5900e+00 1.5700e+01 1.8300e+01 7.8900e+00 1.2200e+00 1.2800e+00\n 1.6300e+00 1.5290e+01 2.5710e+01 2.3900e+01 3.9100e+00 2.4440e+01\n 1.1110e+01 2.0300e+00 2.0400e+00 3.4100e+00 1.5500e+01 5.1300e+00\n 2.6670e+01 2.8850e+01 7.9300e+00 1.1600e+01 2.0700e+01 1.8520e+01\n 2.8800e+00 9.5700e+00 2.9420e+01 1.5180e+01 2.5580e+01 3.5200e+00\n 2.9900e+00 2.0350e+01 2.2800e+01 8.3800e+00 1.2400e+01 9.9300e+00\n 4.5800e+00 1.0900e+01 1.2140e+01 1.3000e-01 1.5800e+00 1.4100e+01\n 5.8800e+00 3.2140e+01 5.4900e+00 1.1580e+01 2.4700e+00 4.5500e+00\n 5.6300e+00 1.0910e+01 1.1520e+01 2.2100e+01 1.8580e+01 2.5900e+00\n 4.2600e+00 1.0800e+01 2.8400e+01 9.6200e+00 2.3530e+01 1.3300e+00\n 3.6700e+00 6.0300e+00 2.9000e-01 1.7540e+01 4.8800e+00 1.0260e+01\n 4.0300e+01 1.8570e+01 1.2100e+01 1.4800e+01 1.1540e+01 2.9100e+01\n 8.5100e+00 6.8000e-01 1.2600e+01 2.6500e+01 2.2100e+00 1.4800e+00\n 2.1900e+01 5.3100e+00 2.3400e+00 1.9300e+01 9.8600e+00 2.3210e+01\n 1.4600e+01 6.3800e+00 1.1360e+01 2.2220e+01 2.5450e+01 1.2200e+01\n 7.3700e+00 8.5900e+00 1.2390e+01 1.3950e+01 3.7780e+01 3.6800e+00\n 4.2300e+00 1.3200e+00 4.8400e+00 1.3380e+01 6.3600e+00 2.0590e+01\n 8.4000e-01 2.5000e-01 3.3100e+01 1.0420e+01 3.4380e+01 1.8900e+00\n 8.5600e+00 2.4100e+00 1.2120e+01 1.2630e+01 5.6600e+00 8.8200e+00\n 5.7700e+00 1.8180e+01 5.9100e+00 1.4040e+01 1.3910e+01 2.3100e+01\n 9.2300e+00 1.3240e+01 1.0620e+01 1.6360e+01 3.9400e+00 1.0810e+01\n 1.7240e+01 1.1380e+01 2.2200e+00 7.3500e+00 3.0900e+00 3.1500e+00\n 7.2200e+00 7.5900e+00 9.1500e+00 7.7800e+00 7.5500e+00 2.7400e+01\n 4.6900e+00 1.7400e+01 5.0500e+00 6.1200e+00 2.1500e+00 1.8800e+00\n 1.7390e+01 1.2300e+01 1.5600e+00 5.8000e-01 1.4740e+01 1.8500e+01\n 6.5000e-01 1.3400e+01 2.9170e+01 7.8000e-01 2.5600e+00 5.4700e+00\n 1.9400e+00 2.1740e+01 8.6300e+00 1.5200e+00 6.9200e+00 3.1000e-01\n 7.0700e+00 1.5200e+01 2.6760e+01 8.1600e+00 3.0200e+01 1.3040e+01\n 5.9700e+00 2.9820e+01 1.6900e+01 1.5150e+01 2.3400e+01 1.3800e+00\n 5.1600e+00 5.1500e-01 8.9900e+00 2.0240e+01 9.3800e+00 4.4400e+00\n 1.6500e+01 7.8400e+00 1.5300e+01 7.2500e+00 3.2700e+00 1.1130e+01\n 5.3400e+00 6.7900e+00 6.8800e+00 8.9600e+00 3.9470e+01 5.1700e+00\n 6.6100e+00 1.1220e+01 6.5600e+00 4.1670e+01 1.8420e+01 1.5480e+01\n 5.6000e-01 1.8450e+01 1.2700e+00 1.0130e+01 5.4500e+00 9.8400e+00\n 3.7600e+00 2.0370e+01 4.1000e+01 2.4700e+01 1.2750e+01 1.0590e+01\n 2.3960e+01 4.1000e-01 3.0770e+01 6.3400e+00 5.0700e+00 5.9300e+00\n 1.9600e+01 2.4560e+01 5.3000e-01 1.8400e+01 5.0400e+00 4.8500e+00\n 2.1180e+01 5.0000e-02 1.1670e+01 1.5790e+01 2.8700e+00 2.4900e+01\n 2.2320e+01 2.2350e+01 6.1600e+00 3.1600e+00 5.4800e-01 5.2000e-01\n 6.1400e+00 2.1240e+01 3.6400e+00 5.2100e+00 8.1900e+00 6.5200e+00\n 1.6980e+01 2.9410e+01 5.3330e+01 3.0700e+01 2.3640e+01 3.8900e+00\n 2.3680e+01 7.6500e+00 4.2900e+00 4.0300e+00 1.6600e+01 6.6670e+01\n 8.9000e-01 3.1000e+01 2.6900e+01 3.1600e+01 2.9900e+01 1.5220e+01\n 1.0560e+01 6.7100e+00 9.3300e+00 2.5660e+01 1.6810e+01 2.2900e+01\n 9.6000e-01 2.8200e+00 2.2700e+01 1.3190e+01 2.0900e+01 4.7000e-01\n 7.5800e+00 2.5400e+01 3.8100e+01 1.5710e+01 3.0610e+01 4.5900e+00\n 8.5000e-01 6.2300e+00 1.6500e+00 4.6700e+00 7.9900e+00 1.5420e+01\n 2.5800e+01 3.2940e+01 1.2100e+00 5.7140e+01 4.4000e-01 1.9350e+01\n 2.1210e+01 6.4800e+00 5.2632e+00 9.8900e+00 6.6700e-01 1.6200e+01\n 5.9000e-01 1.6990e+01 2.9200e+01 2.7400e+00 2.2520e+01 1.6960e+01\n 1.1600e+00 1.0170e+01 5.6900e+00 9.4900e+00 2.4800e+01 1.7200e+01\n 7.0500e+00 7.3300e+00 4.2200e+00 2.6400e+01 4.9000e-01 1.3270e+01\n 1.7020e+01 9.0300e+00 1.4100e+00 2.5490e+01 6.4100e+00 1.8820e+01\n 2.9700e+01 1.3460e+01 2.2940e+01 1.5910e+01 6.3300e+00 1.0580e+01\n 7.2000e+01 9.1700e+00 3.5900e+00 4.4200e+00 8.2000e+01 1.2800e+01\n 8.2000e-01 5.6700e+00 2.8100e+01 3.4900e+00 7.8100e+00 2.0450e+01\n 7.9600e+00 7.1300e+00 8.2900e+00 7.0400e+00 2.5560e+01 1.8600e+01\n 1.0160e+01 1.8900e+01 2.3300e+00 2.4400e+01 2.1600e+01 1.0300e+00\n 2.6790e+01 1.4550e+01 1.9100e+01 4.8100e+00 5.6500e+00 4.4700e+00\n 2.6700e+01 9.1080e+00 2.6920e+01 2.5900e+01 1.0290e+01 2.1800e+01\n 1.0670e+01 6.7000e-01 1.9720e+01 2.2600e+01 8.1000e+01 4.3700e+00\n 1.0000e-03 1.5000e-01 3.3000e-01 6.8600e+00 1.0140e+01 5.6200e+00\n 6.8200e+00 9.7700e+00 3.3500e+01 1.1400e+00 1.3800e+01 2.3380e+01\n 1.2740e+01 8.8100e+00 1.6500e-01 1.0640e+01 3.5600e+00 1.8970e+01\n 9.8800e+00 1.2170e+01 1.8680e+01 1.1010e+01 4.8000e-01 4.3330e+01\n 3.8700e+00 2.7300e+01 3.8000e+01 2.3300e+01 2.6100e+00 9.4300e+00\n 1.1850e+01 1.3600e+00 9.7500e+00 4.5600e+00 1.3900e+00 2.6600e+01\n 1.5900e+01 5.8400e+00 2.9500e+01 1.0900e+00 2.4110e+01 2.2120e+01\n 1.7070e+01 8.3300e-01 2.1100e+01 2.6800e+00 1.0400e+00 1.2220e+01\n 1.5520e+01 2.9400e+01 8.6400e+00 5.8900e+00 1.9000e-01 2.2970e+01\n 8.5300e+00 5.2500e+00 3.0430e+01 2.3080e+01 1.1250e+01 1.1020e+01\n 1.6130e+01 2.8500e+01 2.6320e+01 7.6300e+00 1.2730e+01 2.2860e+01\n 3.0190e+01 3.8800e+00 5.9800e+00 2.4600e+00 5.0800e+00 1.0570e+01\n 1.0200e+00 3.4000e+01 4.9600e+00 3.7500e+01 6.7800e+00 6.3500e+00\n 8.0600e+00 1.0500e+01 2.3570e+01 1.9210e+01 2.0700e+00 2.3460e+01\n 2.0600e+00 1.7200e+00 1.0870e+01 2.7660e+01 1.4120e+01 2.1400e+01\n 2.1790e+01 5.4300e+00 1.1800e+01 2.0630e+01 3.5290e+01 1.7100e+00\n 5.2900e+00 2.5500e+00 1.0390e+01 2.8070e+01 6.5700e+00 1.5930e+01\n 4.7800e+00 1.7800e+00 3.6200e+00 5.4600e+00 2.2700e+00 3.8890e+01]\n0.00     1608\n7.14      166\n0.50      131\n25.00     125\n3.33      109\n         ... \n5.04        1\n21.60       1\n4.47        1\n0.59        1\n16.74       1\nName: proteins_100g, Length: 905, dtype: int64\n"
     ]
    }
   ],
   "source": [
    "print(df.proteins_100g.unique())\n",
    "print(df.proteins_100g.value_counts())"
   ]
  },
  {
   "source": [
    "on remplace les valeurs 'nan' par zéro dans les colonnes séléctionnées "
   ],
   "cell_type": "markdown",
   "metadata": {}
  },
  {
   "cell_type": "code",
   "execution_count": 31,
   "metadata": {},
   "outputs": [
    {
     "output_type": "execute_result",
     "data": {
      "text/plain": [
       "       countries                                   ingredients_text  \\\n",
       "203026    France                                                NaN   \n",
       "255206    France                                     100% pur café.   \n",
       "159790        US  Gluten-free oat flour, gluten-free brown rice ...   \n",
       "46709         US  Sugar partially hydrogenated vegetable oil (pa...   \n",
       "281901     en:CH                                                NaN   \n",
       "...          ...                                                ...   \n",
       "131169        US  Whole wheat flour, leavening (baking powder [s...   \n",
       "317521    Suisse  Olio d'olive extravergine (Italia) con estratt...   \n",
       "67212     France                                                NaN   \n",
       "154970        US  Sugar, creamer (coconut oil, corn syrup solids...   \n",
       "110810        US                                Black beans, water.   \n",
       "\n",
       "        additives_n                                          additives  \\\n",
       "203026          NaN                                                NaN   \n",
       "255206          0.0   [ 100-pur-cafe -> fr:100-pur-cafe  ]  [ 100-p...   \n",
       "159790          1.0   [ gluten-free-oat-flour -> en:gluten-free-oat...   \n",
       "46709           0.0   [ sugar-partially-hydrogenated-vegetable-oil ...   \n",
       "281901          NaN                                                NaN   \n",
       "...             ...                                                ...   \n",
       "131169          5.0   [ whole-wheat-flour -> en:whole-wheat-flour  ...   \n",
       "317521          0.0   [ olio-d-olive-extravergine -> fr:olio-d-oliv...   \n",
       "67212           NaN                                                NaN   \n",
       "154970          5.0   [ sugar -> en:sugar  ]  [ creamer -> en:cream...   \n",
       "110810          0.0   [ black-beans -> en:black-beans  ]  [ beans -...   \n",
       "\n",
       "       ingredients_from_palm_oil_n ingredients_that_may_be_from_palm_oil_n  \\\n",
       "203026                           .                                       .   \n",
       "255206                         0.0                                     0.0   \n",
       "159790                         0.0                                     0.0   \n",
       "46709                          0.0                                     0.0   \n",
       "281901                           .                                       .   \n",
       "...                            ...                                     ...   \n",
       "131169                         0.0                                     0.0   \n",
       "317521                         0.0                                     0.0   \n",
       "67212                            .                                       .   \n",
       "154970                         0.0                                     0.0   \n",
       "110810                         0.0                                     0.0   \n",
       "\n",
       "       nutrition_grade_fr                                             states  \\\n",
       "203026                  d  en:to-be-completed, en:nutrition-facts-complet...   \n",
       "255206                NaN  en:to-be-checked, en:complete, en:nutrition-fa...   \n",
       "159790                  e  en:to-be-completed, en:nutrition-facts-complet...   \n",
       "46709                   e  en:to-be-completed, en:nutrition-facts-complet...   \n",
       "281901                NaN  en:to-be-completed, en:nutrition-facts-to-be-c...   \n",
       "...                   ...                                                ...   \n",
       "131169                  c  en:to-be-completed, en:nutrition-facts-complet...   \n",
       "317521                NaN  en:to-be-completed, en:nutrition-facts-complet...   \n",
       "67212                   c  en:to-be-completed, en:nutrition-facts-complet...   \n",
       "154970                  e  en:to-be-completed, en:nutrition-facts-complet...   \n",
       "110810                  a  en:to-be-completed, en:nutrition-facts-complet...   \n",
       "\n",
       "        energy_100g fat_100g sugars_100g fiber_100g proteins_100g salt_100g  \\\n",
       "203026       2385.0        .         4.0        3.0           8.5      1.75   \n",
       "255206          NaN        .           .          .             .         .   \n",
       "159790       2389.0     40.0        20.0        5.7          2.86   1.30556   \n",
       "46709        2130.0    29.82       59.65        3.5          1.75   0.04572   \n",
       "281901          NaN        .           .          .             .         .   \n",
       "...             ...      ...         ...        ...           ...       ...   \n",
       "131169       1393.0     1.28        5.13       10.3         10.26    3.0607   \n",
       "317521       1940.0     51.0         2.5          .           0.5         .   \n",
       "67212        1883.0        .        27.0        6.0          15.0       0.0   \n",
       "154970       1795.0     8.93       78.57        0.0          3.57   1.99644   \n",
       "110810        356.0      0.0        0.77        5.4          5.38   0.02032   \n",
       "\n",
       "        nutrition-score-fr_100g  \n",
       "203026                     13.0  \n",
       "255206                      0.0  \n",
       "159790                     21.0  \n",
       "46709                      22.0  \n",
       "281901                      0.0  \n",
       "...                         ...  \n",
       "131169                     10.0  \n",
       "317521                      0.0  \n",
       "67212                       7.0  \n",
       "154970                     30.0  \n",
       "110810                     -7.0  \n",
       "\n",
       "[10000 rows x 15 columns]"
      ],
      "text/html": "<div>\n<style scoped>\n    .dataframe tbody tr th:only-of-type {\n        vertical-align: middle;\n    }\n\n    .dataframe tbody tr th {\n        vertical-align: top;\n    }\n\n    .dataframe thead th {\n        text-align: right;\n    }\n</style>\n<table border=\"1\" class=\"dataframe\">\n  <thead>\n    <tr style=\"text-align: right;\">\n      <th></th>\n      <th>countries</th>\n      <th>ingredients_text</th>\n      <th>additives_n</th>\n      <th>additives</th>\n      <th>ingredients_from_palm_oil_n</th>\n      <th>ingredients_that_may_be_from_palm_oil_n</th>\n      <th>nutrition_grade_fr</th>\n      <th>states</th>\n      <th>energy_100g</th>\n      <th>fat_100g</th>\n      <th>sugars_100g</th>\n      <th>fiber_100g</th>\n      <th>proteins_100g</th>\n      <th>salt_100g</th>\n      <th>nutrition-score-fr_100g</th>\n    </tr>\n  </thead>\n  <tbody>\n    <tr>\n      <th>203026</th>\n      <td>France</td>\n      <td>NaN</td>\n      <td>NaN</td>\n      <td>NaN</td>\n      <td>.</td>\n      <td>.</td>\n      <td>d</td>\n      <td>en:to-be-completed, en:nutrition-facts-complet...</td>\n      <td>2385.0</td>\n      <td>.</td>\n      <td>4.0</td>\n      <td>3.0</td>\n      <td>8.5</td>\n      <td>1.75</td>\n      <td>13.0</td>\n    </tr>\n    <tr>\n      <th>255206</th>\n      <td>France</td>\n      <td>100% pur café.</td>\n      <td>0.0</td>\n      <td>[ 100-pur-cafe -&gt; fr:100-pur-cafe  ]  [ 100-p...</td>\n      <td>0.0</td>\n      <td>0.0</td>\n      <td>NaN</td>\n      <td>en:to-be-checked, en:complete, en:nutrition-fa...</td>\n      <td>NaN</td>\n      <td>.</td>\n      <td>.</td>\n      <td>.</td>\n      <td>.</td>\n      <td>.</td>\n      <td>0.0</td>\n    </tr>\n    <tr>\n      <th>159790</th>\n      <td>US</td>\n      <td>Gluten-free oat flour, gluten-free brown rice ...</td>\n      <td>1.0</td>\n      <td>[ gluten-free-oat-flour -&gt; en:gluten-free-oat...</td>\n      <td>0.0</td>\n      <td>0.0</td>\n      <td>e</td>\n      <td>en:to-be-completed, en:nutrition-facts-complet...</td>\n      <td>2389.0</td>\n      <td>40.0</td>\n      <td>20.0</td>\n      <td>5.7</td>\n      <td>2.86</td>\n      <td>1.30556</td>\n      <td>21.0</td>\n    </tr>\n    <tr>\n      <th>46709</th>\n      <td>US</td>\n      <td>Sugar partially hydrogenated vegetable oil (pa...</td>\n      <td>0.0</td>\n      <td>[ sugar-partially-hydrogenated-vegetable-oil ...</td>\n      <td>0.0</td>\n      <td>0.0</td>\n      <td>e</td>\n      <td>en:to-be-completed, en:nutrition-facts-complet...</td>\n      <td>2130.0</td>\n      <td>29.82</td>\n      <td>59.65</td>\n      <td>3.5</td>\n      <td>1.75</td>\n      <td>0.04572</td>\n      <td>22.0</td>\n    </tr>\n    <tr>\n      <th>281901</th>\n      <td>en:CH</td>\n      <td>NaN</td>\n      <td>NaN</td>\n      <td>NaN</td>\n      <td>.</td>\n      <td>.</td>\n      <td>NaN</td>\n      <td>en:to-be-completed, en:nutrition-facts-to-be-c...</td>\n      <td>NaN</td>\n      <td>.</td>\n      <td>.</td>\n      <td>.</td>\n      <td>.</td>\n      <td>.</td>\n      <td>0.0</td>\n    </tr>\n    <tr>\n      <th>...</th>\n      <td>...</td>\n      <td>...</td>\n      <td>...</td>\n      <td>...</td>\n      <td>...</td>\n      <td>...</td>\n      <td>...</td>\n      <td>...</td>\n      <td>...</td>\n      <td>...</td>\n      <td>...</td>\n      <td>...</td>\n      <td>...</td>\n      <td>...</td>\n      <td>...</td>\n    </tr>\n    <tr>\n      <th>131169</th>\n      <td>US</td>\n      <td>Whole wheat flour, leavening (baking powder [s...</td>\n      <td>5.0</td>\n      <td>[ whole-wheat-flour -&gt; en:whole-wheat-flour  ...</td>\n      <td>0.0</td>\n      <td>0.0</td>\n      <td>c</td>\n      <td>en:to-be-completed, en:nutrition-facts-complet...</td>\n      <td>1393.0</td>\n      <td>1.28</td>\n      <td>5.13</td>\n      <td>10.3</td>\n      <td>10.26</td>\n      <td>3.0607</td>\n      <td>10.0</td>\n    </tr>\n    <tr>\n      <th>317521</th>\n      <td>Suisse</td>\n      <td>Olio d'olive extravergine (Italia) con estratt...</td>\n      <td>0.0</td>\n      <td>[ olio-d-olive-extravergine -&gt; fr:olio-d-oliv...</td>\n      <td>0.0</td>\n      <td>0.0</td>\n      <td>NaN</td>\n      <td>en:to-be-completed, en:nutrition-facts-complet...</td>\n      <td>1940.0</td>\n      <td>51.0</td>\n      <td>2.5</td>\n      <td>.</td>\n      <td>0.5</td>\n      <td>.</td>\n      <td>0.0</td>\n    </tr>\n    <tr>\n      <th>67212</th>\n      <td>France</td>\n      <td>NaN</td>\n      <td>NaN</td>\n      <td>NaN</td>\n      <td>.</td>\n      <td>.</td>\n      <td>c</td>\n      <td>en:to-be-completed, en:nutrition-facts-complet...</td>\n      <td>1883.0</td>\n      <td>.</td>\n      <td>27.0</td>\n      <td>6.0</td>\n      <td>15.0</td>\n      <td>0.0</td>\n      <td>7.0</td>\n    </tr>\n    <tr>\n      <th>154970</th>\n      <td>US</td>\n      <td>Sugar, creamer (coconut oil, corn syrup solids...</td>\n      <td>5.0</td>\n      <td>[ sugar -&gt; en:sugar  ]  [ creamer -&gt; en:cream...</td>\n      <td>0.0</td>\n      <td>0.0</td>\n      <td>e</td>\n      <td>en:to-be-completed, en:nutrition-facts-complet...</td>\n      <td>1795.0</td>\n      <td>8.93</td>\n      <td>78.57</td>\n      <td>0.0</td>\n      <td>3.57</td>\n      <td>1.99644</td>\n      <td>30.0</td>\n    </tr>\n    <tr>\n      <th>110810</th>\n      <td>US</td>\n      <td>Black beans, water.</td>\n      <td>0.0</td>\n      <td>[ black-beans -&gt; en:black-beans  ]  [ beans -...</td>\n      <td>0.0</td>\n      <td>0.0</td>\n      <td>a</td>\n      <td>en:to-be-completed, en:nutrition-facts-complet...</td>\n      <td>356.0</td>\n      <td>0.0</td>\n      <td>0.77</td>\n      <td>5.4</td>\n      <td>5.38</td>\n      <td>0.02032</td>\n      <td>-7.0</td>\n    </tr>\n  </tbody>\n</table>\n<p>10000 rows × 15 columns</p>\n</div>"
     },
     "metadata": {},
     "execution_count": 31
    }
   ],
   "source": [
    "list = ['ingredients_from_palm_oil_n','ingredients_that_may_be_from_palm_oil_n','fat_100g','sugars_100g','fiber_100g','proteins_100g','salt_100g','nutrition-score-fr_100g']\n",
    "def nan_to_value(df, list , v) : \n",
    "    d = {value:v for value in list}\n",
    "    df.fillna(d , inplace = True)\n",
    "    return df\n",
    "nan_to_value(df, list , 0)"
   ]
  },
  {
   "cell_type": "markdown",
   "metadata": {},
   "source": [
    "### Conclusion sur les valeurs manquantes "
   ]
  },
  {
   "cell_type": "markdown",
   "metadata": {},
   "source": [
    "J'ai gardé une grande partie des données il reste encore des valeurs manquantes mais celle ci peuvent etre remplit , on s'occupera de ca un peu plus tard"
   ]
  },
  {
   "source": [
    "## 3. Traitement des dates"
   ],
   "cell_type": "markdown",
   "metadata": {}
  },
  {
   "cell_type": "code",
   "execution_count": 32,
   "metadata": {},
   "outputs": [
    {
     "output_type": "stream",
     "name": "stdout",
     "text": [
      "countries                                   object\ningredients_text                            object\nadditives_n                                float64\nadditives                                   object\ningredients_from_palm_oil_n                 object\ningredients_that_may_be_from_palm_oil_n     object\nnutrition_grade_fr                          object\nstates                                      object\nenergy_100g                                float64\nfat_100g                                    object\nsugars_100g                                 object\nfiber_100g                                  object\nproteins_100g                               object\nsalt_100g                                   object\nnutrition-score-fr_100g                    float64\ndtype: object\n"
     ]
    }
   ],
   "source": [
    "print(df.dtypes)\n"
   ]
  },
  {
   "source": [
    "Aucune de mes colonnes ne correspond à une date, je n'ai donc pas à faire de traitement"
   ],
   "cell_type": "markdown",
   "metadata": {}
  },
  {
   "source": [
    "## 4. Traitement des doublons "
   ],
   "cell_type": "markdown",
   "metadata": {}
  },
  {
   "cell_type": "code",
   "execution_count": 33,
   "metadata": {},
   "outputs": [
    {
     "output_type": "stream",
     "name": "stdout",
     "text": [
      "False    9115\nTrue      885\ndtype: int64\n"
     ]
    }
   ],
   "source": [
    "print(df.duplicated().value_counts())"
   ]
  },
  {
   "source": [
    "on peut voir qu'il y a des doublons on va les supprimes"
   ],
   "cell_type": "markdown",
   "metadata": {}
  },
  {
   "cell_type": "code",
   "execution_count": 41,
   "metadata": {},
   "outputs": [],
   "source": [
    "df = df.drop_duplicates(keep= 'first')"
   ]
  },
  {
   "source": [
    "on relance la ligne pour verifier que les doublons sont supprimés"
   ],
   "cell_type": "markdown",
   "metadata": {}
  },
  {
   "cell_type": "code",
   "execution_count": 40,
   "metadata": {},
   "outputs": [
    {
     "output_type": "stream",
     "name": "stdout",
     "text": [
      "False    9115\ndtype: int64\n"
     ]
    }
   ],
   "source": [
    "print(df.duplicated().value_counts())"
   ]
  },
  {
   "source": [
    "Les doulons on bien été supprimés"
   ],
   "cell_type": "markdown",
   "metadata": {}
  }
 ],
 "metadata": {
  "kernelspec": {
   "display_name": "Python 3",
   "language": "python",
   "name": "python3"
  },
  "language_info": {
   "codemirror_mode": {
    "name": "ipython",
    "version": 3
   },
   "file_extension": ".py",
   "mimetype": "text/x-python",
   "name": "python",
   "nbconvert_exporter": "python",
   "pygments_lexer": "ipython3",
   "version": "3.8.8-final"
  }
 },
 "nbformat": 4,
 "nbformat_minor": 2
}