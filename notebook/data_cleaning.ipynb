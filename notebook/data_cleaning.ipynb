{
 "metadata": {
  "language_info": {
   "codemirror_mode": {
    "name": "ipython",
    "version": 3
   },
   "file_extension": ".py",
   "mimetype": "text/x-python",
   "name": "python",
   "nbconvert_exporter": "python",
   "pygments_lexer": "ipython3",
   "version": "3.8.8-final"
  },
  "orig_nbformat": 2,
  "kernelspec": {
   "name": "python3",
   "display_name": "Python 3.8.8 64-bit ('env')",
   "metadata": {
    "interpreter": {
     "hash": "9b11e958bd8664a4984c6f3c2dbaca4f0f679db2000b972a90514fe702b6547f"
    }
   }
  }
 },
 "nbformat": 4,
 "nbformat_minor": 2,
 "cells": [
  {
   "source": [
    "# Nettoyage des données"
   ],
   "cell_type": "markdown",
   "metadata": {}
  },
  {
   "source": [
    "## 0. Set-up"
   ],
   "cell_type": "markdown",
   "metadata": {}
  },
  {
   "source": [
    "### Mise en place de l'environnement"
   ],
   "cell_type": "markdown",
   "metadata": {}
  },
  {
   "cell_type": "code",
   "execution_count": 23,
   "metadata": {},
   "outputs": [],
   "source": [
    "import pandas as pd\n",
    "import numpy as np\n",
    "import random # ici random va nous servir lors de la sélection des lignes \n",
    "\n",
    "food_info = pd.read_csv(\"/home/apprenant/simplon_project/food_facts/data/foodfacts.tsv\", sep= '\\t' , low_memory= False)\n",
    "# on limite les données à 10000 lignes elle sont choisit aléatoirement \n",
    "df = food_info.loc[np.random.choice(food_info.index, 10000)]\n",
    "df\n",
    "pd.options.display.max_columns = None\n",
    "pd.options.display.max_rows = None"
   ]
  },
  {
   "source": [
    "on enregistre les données dans un csv "
   ],
   "cell_type": "markdown",
   "metadata": {}
  },
  {
   "cell_type": "code",
   "execution_count": 5,
   "metadata": {},
   "outputs": [],
   "source": [
    "df.to_csv(\"/home/apprenant/simplon_project/food_facts/data/df_food.csv\", index = False)\n"
   ]
  },
  {
   "cell_type": "code",
   "execution_count": 10,
   "metadata": {},
   "outputs": [
    {
     "output_type": "execute_result",
     "data": {
      "text/plain": [
       "(10000, 163)"
      ]
     },
     "metadata": {},
     "execution_count": 10
    }
   ],
   "source": [
    "df.shape"
   ]
  },
  {
   "cell_type": "code",
   "execution_count": 11,
   "metadata": {},
   "outputs": [],
   "source": [
    "df_procduct_name = df.product_name.astype(\"str\")"
   ]
  },
  {
   "cell_type": "code",
   "execution_count": 12,
   "metadata": {},
   "outputs": [
    {
     "output_type": "execute_result",
     "data": {
      "text/plain": [
       "array(['code', 'url', 'creator', 'created_t', 'created_datetime',\n",
       "       'last_modified_t', 'last_modified_datetime', 'product_name',\n",
       "       'generic_name', 'quantity', 'packaging', 'packaging_tags',\n",
       "       'brands', 'brands_tags', 'categories', 'categories_tags',\n",
       "       'categories_en', 'origins', 'origins_tags', 'manufacturing_places',\n",
       "       'manufacturing_places_tags', 'labels', 'labels_tags', 'labels_en',\n",
       "       'emb_codes', 'emb_codes_tags', 'first_packaging_code_geo',\n",
       "       'cities', 'cities_tags', 'purchase_places', 'stores', 'countries',\n",
       "       'countries_tags', 'countries_en', 'ingredients_text', 'allergens',\n",
       "       'allergens_en', 'traces', 'traces_tags', 'traces_en',\n",
       "       'serving_size', 'no_nutriments', 'additives_n', 'additives',\n",
       "       'additives_tags', 'additives_en', 'ingredients_from_palm_oil_n',\n",
       "       'ingredients_from_palm_oil', 'ingredients_from_palm_oil_tags',\n",
       "       'ingredients_that_may_be_from_palm_oil_n',\n",
       "       'ingredients_that_may_be_from_palm_oil',\n",
       "       'ingredients_that_may_be_from_palm_oil_tags', 'nutrition_grade_uk',\n",
       "       'nutrition_grade_fr', 'pnns_groups_1', 'pnns_groups_2', 'states',\n",
       "       'states_tags', 'states_en', 'main_category', 'main_category_en',\n",
       "       'image_url', 'image_small_url', 'energy_100g',\n",
       "       'energy-from-fat_100g', 'fat_100g', 'saturated-fat_100g',\n",
       "       '-butyric-acid_100g', '-caproic-acid_100g', '-caprylic-acid_100g',\n",
       "       '-capric-acid_100g', '-lauric-acid_100g', '-myristic-acid_100g',\n",
       "       '-palmitic-acid_100g', '-stearic-acid_100g',\n",
       "       '-arachidic-acid_100g', '-behenic-acid_100g',\n",
       "       '-lignoceric-acid_100g', '-cerotic-acid_100g',\n",
       "       '-montanic-acid_100g', '-melissic-acid_100g',\n",
       "       'monounsaturated-fat_100g', 'polyunsaturated-fat_100g',\n",
       "       'omega-3-fat_100g', '-alpha-linolenic-acid_100g',\n",
       "       '-eicosapentaenoic-acid_100g', '-docosahexaenoic-acid_100g',\n",
       "       'omega-6-fat_100g', '-linoleic-acid_100g',\n",
       "       '-arachidonic-acid_100g', '-gamma-linolenic-acid_100g',\n",
       "       '-dihomo-gamma-linolenic-acid_100g', 'omega-9-fat_100g',\n",
       "       '-oleic-acid_100g', '-elaidic-acid_100g', '-gondoic-acid_100g',\n",
       "       '-mead-acid_100g', '-erucic-acid_100g', '-nervonic-acid_100g',\n",
       "       'trans-fat_100g', 'cholesterol_100g', 'carbohydrates_100g',\n",
       "       'sugars_100g', '-sucrose_100g', '-glucose_100g', '-fructose_100g',\n",
       "       '-lactose_100g', '-maltose_100g', '-maltodextrins_100g',\n",
       "       'starch_100g', 'polyols_100g', 'fiber_100g', 'proteins_100g',\n",
       "       'casein_100g', 'serum-proteins_100g', 'nucleotides_100g',\n",
       "       'salt_100g', 'sodium_100g', 'alcohol_100g', 'vitamin-a_100g',\n",
       "       'beta-carotene_100g', 'vitamin-d_100g', 'vitamin-e_100g',\n",
       "       'vitamin-k_100g', 'vitamin-c_100g', 'vitamin-b1_100g',\n",
       "       'vitamin-b2_100g', 'vitamin-pp_100g', 'vitamin-b6_100g',\n",
       "       'vitamin-b9_100g', 'folates_100g', 'vitamin-b12_100g',\n",
       "       'biotin_100g', 'pantothenic-acid_100g', 'silica_100g',\n",
       "       'bicarbonate_100g', 'potassium_100g', 'chloride_100g',\n",
       "       'calcium_100g', 'phosphorus_100g', 'iron_100g', 'magnesium_100g',\n",
       "       'zinc_100g', 'copper_100g', 'manganese_100g', 'fluoride_100g',\n",
       "       'selenium_100g', 'chromium_100g', 'molybdenum_100g', 'iodine_100g',\n",
       "       'caffeine_100g', 'taurine_100g', 'ph_100g',\n",
       "       'fruits-vegetables-nuts_100g',\n",
       "       'fruits-vegetables-nuts-estimate_100g',\n",
       "       'collagen-meat-protein-ratio_100g', 'cocoa_100g',\n",
       "       'chlorophyl_100g', 'carbon-footprint_100g',\n",
       "       'nutrition-score-fr_100g', 'nutrition-score-uk_100g',\n",
       "       'glycemic-index_100g', 'water-hardness_100g'], dtype=object)"
      ]
     },
     "metadata": {},
     "execution_count": 12
    }
   ],
   "source": [
    "df.columns.values"
   ]
  },
  {
   "source": [
    "## 1. Sélection des colonnes"
   ],
   "cell_type": "markdown",
   "metadata": {}
  },
  {
   "source": [
    "J'affiche un échantillno de mes données pour analyser la pertinence des différentes colonnes"
   ],
   "cell_type": "markdown",
   "metadata": {}
  },
  {
   "cell_type": "code",
   "execution_count": 24,
   "metadata": {
    "tags": [
     "outputPrepend"
    ]
   },
   "outputs": [
    {
     "output_type": "stream",
     "name": "stdout",
     "text": [
      "             NaN    NaN     en:FR         en:france   \n306839         NaN             NaN    NaN     en:FR         en:france   \n164567         NaN             NaN    NaN        US  en:united-states   \n137063         NaN             NaN    NaN        US  en:united-states   \n\n         countries_en                                   ingredients_text  \\\n261523         France  Pétales de _blé_ complet 32 %, sirop de glucos...   \n253438         France                                                NaN   \n306839         France                                                NaN   \n164567  United States  Organic gluten-free oats, organic coconut palm...   \n137063  United States  Enriched flour (wheat flour, malted barley flo...   \n\n                                                allergens allergens_en  \\\n261523  blé, blé, gluten de blé, avoine, amandes, nois...          NaN   \n253438                                                NaN          NaN   \n306839                                                NaN          NaN   \n164567                                                NaN          NaN   \n137063                                                NaN          NaN   \n\n                               traces                 traces_tags  \\\n261523  Arachides,Lait,Fruits à coque  en:milk,en:nuts,en:peanuts   \n253438                            NaN                         NaN   \n306839                            NaN                         NaN   \n164567                            NaN                         NaN   \n137063                            NaN                         NaN   \n\n                traces_en            serving_size  no_nutriments  additives_n  \\\n261523  Milk,Nuts,Peanuts                     NaN            NaN          3.0   \n253438                NaN                     NaN            NaN          NaN   \n306839                NaN                     NaN            NaN          NaN   \n164567                NaN         30 g (0.33 cup)            NaN          0.0   \n137063                NaN  57 g (0.125 OF A LOAF)            NaN          2.0   \n\n                                                additives  \\\n261523   [ petales-de-ble-complet-32 -> fr:petales-de-...   \n253438                                                NaN   \n306839                                                NaN   \n164567   [ organic-gluten-free-oats -> en:organic-glut...   \n137063   [ enriched-flour -> en:enriched-flour  ]  [ f...   \n\n                  additives_tags  \\\n261523   en:e306,en:e322,en:e420   \n253438                       NaN   \n306839                       NaN   \n164567                       NaN   \n137063  en:e101,en:e101i,en:e375   \n\n                                             additives_en  \\\n261523  E306 - Tocopherol-rich extract,E322 - Lecithin...   \n253438                                                NaN   \n306839                                                NaN   \n164567                                                NaN   \n137063  E101 - Riboflavin,E101i - Riboflavin,E375 - Ni...   \n\n        ingredients_from_palm_oil_n  ingredients_from_palm_oil  \\\n261523                          0.0                        NaN   \n253438                          NaN                        NaN   \n306839                          NaN                        NaN   \n164567                          0.0                        NaN   \n137063                          0.0                        NaN   \n\n       ingredients_from_palm_oil_tags  \\\n261523                            NaN   \n253438                            NaN   \n306839                            NaN   \n164567                            NaN   \n137063                            NaN   \n\n        ingredients_that_may_be_from_palm_oil_n  \\\n261523                                      0.0   \n253438                                      NaN   \n306839                                      NaN   \n164567                                      0.0   \n137063                                      0.0   \n\n        ingredients_that_may_be_from_palm_oil  \\\n261523                                    NaN   \n253438                                    NaN   \n306839                                    NaN   \n164567                                    NaN   \n137063                                    NaN   \n\n       ingredients_that_may_be_from_palm_oil_tags  nutrition_grade_uk  \\\n261523                                        NaN                 NaN   \n253438                                        NaN                 NaN   \n306839                                        NaN                 NaN   \n164567                                        NaN                 NaN   \n137063                                        NaN                 NaN   \n\n       nutrition_grade_fr pnns_groups_1 pnns_groups_2  \\\n261523                  b       unknown       unknown   \n253438                NaN           NaN           NaN   \n306839                NaN           NaN           NaN   \n164567                  d           NaN           NaN   \n137063                  b           NaN           NaN   \n\n                                                   states  \\\n261523  en:to-be-completed, en:nutrition-facts-complet...   \n253438  en:to-be-completed, en:nutrition-facts-to-be-c...   \n306839  en:to-be-completed, en:nutrition-facts-to-be-c...   \n164567  en:to-be-completed, en:nutrition-facts-complet...   \n137063  en:to-be-completed, en:nutrition-facts-complet...   \n\n                                              states_tags  \\\n261523  en:to-be-completed,en:nutrition-facts-complete...   \n253438  en:to-be-completed,en:nutrition-facts-to-be-co...   \n306839  en:to-be-completed,en:nutrition-facts-to-be-co...   \n164567  en:to-be-completed,en:nutrition-facts-complete...   \n137063  en:to-be-completed,en:nutrition-facts-complete...   \n\n                                                states_en     main_category  \\\n261523  To be completed,Nutrition facts completed,Ingr...  en:sugary-snacks   \n253438  To be completed,Nutrition facts to be complete...               NaN   \n306839  To be completed,Nutrition facts to be complete...               NaN   \n164567  To be completed,Nutrition facts completed,Ingr...               NaN   \n137063  To be completed,Nutrition facts completed,Ingr...               NaN   \n\n       main_category_en image_url image_small_url  energy_100g  \\\n261523    Sugary snacks       NaN             NaN       1732.0   \n253438              NaN       NaN             NaN          NaN   \n306839              NaN       NaN             NaN          NaN   \n164567              NaN       NaN             NaN       1954.0   \n137063              NaN       NaN             NaN       1100.0   \n\n        energy-from-fat_100g  fat_100g  saturated-fat_100g  \\\n261523                   NaN     11.00                0.90   \n253438                   NaN       NaN                 NaN   \n306839                   NaN       NaN                 NaN   \n164567                   NaN     20.00               11.67   \n137063                   NaN      1.75                0.00   \n\n        -butyric-acid_100g  -caproic-acid_100g  -caprylic-acid_100g  \\\n261523                 NaN                 NaN                  NaN   \n253438                 NaN                 NaN                  NaN   \n306839                 NaN                 NaN                  NaN   \n164567                 NaN                 NaN                  NaN   \n137063                 NaN                 NaN                  NaN   \n\n        -capric-acid_100g  -lauric-acid_100g  -myristic-acid_100g  \\\n261523                NaN                NaN                  NaN   \n253438                NaN                NaN                  NaN   \n306839                NaN                NaN                  NaN   \n164567                NaN                NaN                  NaN   \n137063                NaN                NaN                  NaN   \n\n        -palmitic-acid_100g  -stearic-acid_100g  -arachidic-acid_100g  \\\n261523                  NaN                 NaN                   NaN   \n253438                  NaN                 NaN                   NaN   \n306839                  NaN                 NaN                   NaN   \n164567                  NaN                 NaN                   NaN   \n137063                  NaN                 NaN                   NaN   \n\n        -behenic-acid_100g  -lignoceric-acid_100g  -cerotic-acid_100g  \\\n261523                 NaN                    NaN                 NaN   \n253438                 NaN                    NaN                 NaN   \n306839                 NaN                    NaN                 NaN   \n164567                 NaN                    NaN                 NaN   \n137063                 NaN                    NaN                 NaN   \n\n        -montanic-acid_100g  -melissic-acid_100g  monounsaturated-fat_100g  \\\n261523                  NaN                  NaN                       NaN   \n253438                  NaN                  NaN                       NaN   \n306839                  NaN                  NaN                       NaN   \n164567                  NaN                  NaN                       NaN   \n137063                  NaN                  NaN                       NaN   \n\n        polyunsaturated-fat_100g  omega-3-fat_100g  \\\n261523                       NaN               NaN   \n253438                       NaN               NaN   \n306839                       NaN               NaN   \n164567                       NaN               NaN   \n137063                       NaN               NaN   \n\n        -alpha-linolenic-acid_100g  -eicosapentaenoic-acid_100g  \\\n261523                         NaN                          NaN   \n253438                         NaN                          NaN   \n306839                         NaN                          NaN   \n164567                         NaN                          NaN   \n137063                         NaN                          NaN   \n\n        -docosahexaenoic-acid_100g  omega-6-fat_100g  -linoleic-acid_100g  \\\n261523                         NaN               NaN                  NaN   \n253438                         NaN               NaN                  NaN   \n306839                         NaN               NaN                  NaN   \n164567                         NaN               NaN                  NaN   \n137063                         NaN               NaN                  NaN   \n\n        -arachidonic-acid_100g  -gamma-linolenic-acid_100g  \\\n261523                     NaN                         NaN   \n253438                     NaN                         NaN   \n306839                     NaN                         NaN   \n164567                     NaN                         NaN   \n137063                     NaN                         NaN   \n\n        -dihomo-gamma-linolenic-acid_100g  omega-9-fat_100g  -oleic-acid_100g  \\\n261523                                NaN               NaN               NaN   \n253438                                NaN               NaN               NaN   \n306839                                NaN               NaN               NaN   \n164567                                NaN               NaN               NaN   \n137063                                NaN               NaN               NaN   \n\n        -elaidic-acid_100g  -gondoic-acid_100g  -mead-acid_100g  \\\n261523                 NaN                 NaN              NaN   \n253438                 NaN                 NaN              NaN   \n306839                 NaN                 NaN              NaN   \n164567                 NaN                 NaN              NaN   \n137063                 NaN                 NaN              NaN   \n\n        -erucic-acid_100g  -nervonic-acid_100g  trans-fat_100g  \\\n261523                NaN                  NaN             NaN   \n253438                NaN                  NaN             NaN   \n306839                NaN                  NaN             NaN   \n164567                NaN                  NaN             0.0   \n137063                NaN                  NaN             0.0   \n\n        cholesterol_100g  carbohydrates_100g  sugars_100g  -sucrose_100g  \\\n261523               NaN               68.00         19.0            NaN   \n253438               NaN                 NaN          NaN            NaN   \n306839               NaN                 NaN          NaN            NaN   \n164567               0.0               60.00         20.0            NaN   \n137063               0.0               52.63          0.0            NaN   \n\n        -glucose_100g  -fructose_100g  -lactose_100g  -maltose_100g  \\\n261523            NaN             NaN            NaN            NaN   \n253438            NaN             NaN            NaN            NaN   \n306839            NaN             NaN            NaN            NaN   \n164567            NaN             NaN            NaN            NaN   \n137063            NaN             NaN            NaN            NaN   \n\n        -maltodextrins_100g  starch_100g  polyols_100g  fiber_100g  \\\n261523                  NaN          NaN           NaN         4.8   \n253438                  NaN          NaN           NaN         NaN   \n306839                  NaN          NaN           NaN         NaN   \n164567                  NaN          NaN           NaN         6.7   \n137063                  NaN          NaN           NaN         1.8   \n\n        proteins_100g  casein_100g  serum-proteins_100g  nucleotides_100g  \\\n261523           8.40          NaN                  NaN               NaN   \n253438            NaN          NaN                  NaN               NaN   \n306839            NaN          NaN                  NaN               NaN   \n164567          10.00          NaN                  NaN               NaN   \n137063           7.02          NaN                  NaN               NaN   \n\n        salt_100g  sodium_100g  alcohol_100g  vitamin-a_100g  \\\n261523    0.24000     0.094488           NaN             NaN   \n253438        NaN          NaN           NaN             NaN   \n306839        NaN          NaN           NaN             NaN   \n164567    0.88900     0.350000           NaN             0.0   \n137063    1.33604     0.526000           NaN             0.0   \n\n        beta-carotene_100g  vitamin-d_100g  vitamin-e_100g  vitamin-k_100g  \\\n261523                 NaN             NaN             NaN             NaN   \n253438                 NaN             NaN             NaN             NaN   \n306839                 NaN             NaN             NaN             NaN   \n164567                 NaN             NaN             NaN             NaN   \n137063                 NaN             NaN             NaN             NaN   \n\n        vitamin-c_100g  vitamin-b1_100g  vitamin-b2_100g  vitamin-pp_100g  \\\n261523             NaN              NaN              NaN              NaN   \n253438             NaN              NaN              NaN              NaN   \n306839             NaN              NaN              NaN              NaN   \n164567             0.0              NaN              NaN              NaN   \n137063             0.0            0.526         0.298246         0.003509   \n\n        vitamin-b6_100g  vitamin-b9_100g  folates_100g  vitamin-b12_100g  \\\n261523              NaN              NaN           NaN               NaN   \n253438              NaN              NaN           NaN               NaN   \n306839              NaN              NaN           NaN               NaN   \n164567              NaN              NaN           NaN               NaN   \n137063              NaN              NaN           NaN               NaN   \n\n        biotin_100g  pantothenic-acid_100g  silica_100g  bicarbonate_100g  \\\n261523          NaN                    NaN          NaN               NaN   \n253438          NaN                    NaN          NaN               NaN   \n306839          NaN                    NaN          NaN               NaN   \n164567          NaN                    NaN          NaN               NaN   \n137063          NaN                    NaN          NaN               NaN   \n\n        potassium_100g  chloride_100g  calcium_100g  phosphorus_100g  \\\n261523             NaN            NaN           NaN              NaN   \n253438             NaN            NaN           NaN              NaN   \n306839             NaN            NaN           NaN              NaN   \n164567             NaN            NaN           0.0              NaN   \n137063             NaN            NaN           0.0              NaN   \n\n        iron_100g  magnesium_100g  zinc_100g  copper_100g  manganese_100g  \\\n261523        NaN             NaN        NaN          NaN             NaN   \n253438        NaN             NaN        NaN          NaN             NaN   \n306839        NaN             NaN        NaN          NaN             NaN   \n164567    0.00000             NaN        NaN          NaN             NaN   \n137063    0.00316             NaN        NaN          NaN             NaN   \n\n        fluoride_100g  selenium_100g  chromium_100g  molybdenum_100g  \\\n261523            NaN            NaN            NaN              NaN   \n253438            NaN            NaN            NaN              NaN   \n306839            NaN            NaN            NaN              NaN   \n164567            NaN            NaN            NaN              NaN   \n137063            NaN            NaN            NaN              NaN   \n\n        iodine_100g  caffeine_100g  taurine_100g  ph_100g  \\\n261523          NaN            NaN           NaN      NaN   \n253438          NaN            NaN           NaN      NaN   \n306839          NaN            NaN           NaN      NaN   \n164567          NaN            NaN           NaN      NaN   \n137063          NaN            NaN           NaN      NaN   \n\n        fruits-vegetables-nuts_100g  fruits-vegetables-nuts-estimate_100g  \\\n261523                          NaN                                   NaN   \n253438                          NaN                                   NaN   \n306839                          NaN                                   NaN   \n164567                          NaN                                   NaN   \n137063                          NaN                                   NaN   \n\n        collagen-meat-protein-ratio_100g  cocoa_100g  chlorophyl_100g  \\\n261523                               NaN         NaN              NaN   \n253438                               NaN         NaN              NaN   \n306839                               NaN         NaN              NaN   \n164567                               NaN         NaN              NaN   \n137063                               NaN         NaN              NaN   \n\n        carbon-footprint_100g  nutrition-score-fr_100g  \\\n261523                    NaN                      0.0   \n253438                    NaN                      NaN   \n306839                    NaN                      NaN   \n164567                    NaN                     17.0   \n137063                    NaN                      2.0   \n\n        nutrition-score-uk_100g  glycemic-index_100g  water-hardness_100g  \n261523                      0.0                  NaN                  NaN  \n253438                      NaN                  NaN                  NaN  \n306839                      NaN                  NaN                  NaN  \n164567                     17.0                  NaN                  NaN  \n137063                      2.0                  NaN                  NaN  \nIndex(['code', 'url', 'creator', 'created_t', 'created_datetime',\n       'last_modified_t', 'last_modified_datetime', 'product_name',\n       'generic_name', 'quantity',\n       ...\n       'fruits-vegetables-nuts_100g', 'fruits-vegetables-nuts-estimate_100g',\n       'collagen-meat-protein-ratio_100g', 'cocoa_100g', 'chlorophyl_100g',\n       'carbon-footprint_100g', 'nutrition-score-fr_100g',\n       'nutrition-score-uk_100g', 'glycemic-index_100g',\n       'water-hardness_100g'],\n      dtype='object', length=163)\n"
     ]
    }
   ],
   "source": [
    "print(df.head())\n",
    "print(df.columns)"
   ]
  },
  {
   "source": [
    "Je choisis uniquement les colonnes qui pourraient m'être utiles pour mon étude\n"
   ],
   "cell_type": "markdown",
   "metadata": {}
  },
  {
   "cell_type": "code",
   "execution_count": null,
   "metadata": {},
   "outputs": [],
   "source": [
    "df = df[\"product_name\",'brands', 'brands_tags', 'categories', 'categories_tags','origins', 'manufacturing_places','cities', 'countries', 'ingredients_text', 'allergens','traces','no_nutriments', 'additives_n','additives','ingredients_from_palm_oil_n','ingredients_from_palm_oil', 'ingredients_from_palm_oil_tags','ingredients_that_may_be_from_palm_oil_n','ingredients_that_may_be_from_palm_oil','ingredients_that_may_be_from_palm_oil_tags','nutrition_grade_fr','states', 'main_category', 'main_category_en','energy_100g','energy-from-fat_100g', 'fat_100g', 'saturated-fat_100g','-butyric-acid_100g', '-caproic-acid_100g', '-caprylic-acid_100g','-capric-acid_100g', '-lauric-acid_100g', '-myristic-acid_100g','-palmitic-acid_100g', '-stearic-acid_100g','-arachidic-acid_100g', '-behenic-acid_100g','-lignoceric-acid_100g', '-cerotic-acid_100g','-montanic-acid_100g', '-melissic-acid_100g','monounsaturated-fat_100g', 'polyunsaturated-fat_100g','omega-3-fat_100g', '-alpha-linolenic-acid_100g','-eicosapentaenoic-acid_100g', '-docosahexaenoic-acid_100g','omega-6-fat_100g', '-linoleic-acid_100g','-arachidonic-acid_100g', '-gamma-linolenic-acid_100g','-dihomo-gamma-linolenic-acid_100g', 'omega-9-fat_100g','-oleic-acid_100g', '-elaidic-acid_100g', '-gondoic-acid_100g','-mead-acid_100g', '-erucic-acid_100g', '-nervonic-acid_100g','trans-fat_100g', 'cholesterol_100g', 'carbohydrates_100g','sugars_100g', '-sucrose_100g', '-glucose_100g', '-fructose_100g','-lactose_100g', '-maltose_100g', '-maltodextrins_100g','starch_100g', 'polyols_100g', 'fiber_100g', 'proteins_100g','casein_100g', 'serum-proteins_100g', 'nucleotides_100g','salt_100g', 'sodium_100g', 'alcohol_100g', 'vitamin-a_100g','beta-carotene_100g', 'vitamin-d_100g', 'vitamin-e_100g','vitamin-k_100g', 'vitamin-c_100g', 'vitamin-b1_100g','vitamin-b2_100g', 'vitamin-pp_100g', 'vitamin-b6_100g','vitamin-b9_100g', 'folates_100g', 'vitamin-b12_100g','biotin_100g', 'pantothenic-acid_100g', 'silica_100g',\n",
    "'bicarbonate_100g', 'potassium_100g', 'chloride_100g','calcium_100g', 'phosphorus_100g', 'iron_100g', 'magnesium_100g','zinc_100g', 'copper_100g', 'manganese_100g', 'fluoride_100g','selenium_100g', 'chromium_100g', 'molybdenum_100g', 'iodine_100g','caffeine_100g', 'taurine_100g', 'ph_100g','fruits-vegetables-nuts_100g','fruits-vegetables-nuts-estimate_100g','collagen-meat-protein-ratio_100g', 'cocoa_100g','chlorophyl_100g', 'carbon-footprint_100g','nutrition-score-fr_100g','glycemic-index_100g', 'water-hardness_100g']"
   ]
  },
  {
   "cell_type": "code",
   "execution_count": null,
   "metadata": {},
   "outputs": [],
   "source": []
  }
 ]
}