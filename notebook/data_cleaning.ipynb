{
 "cells": [
  {
   "cell_type": "markdown",
   "metadata": {},
   "source": [
    "# Nettoyage des données"
   ]
  },
  {
   "cell_type": "markdown",
   "metadata": {},
   "source": [
    "## 0. Set-up"
   ]
  },
  {
   "cell_type": "markdown",
   "metadata": {},
   "source": [
    "### Mise en place de l'environnement"
   ]
  },
  {
   "cell_type": "code",
   "execution_count": 2,
   "metadata": {},
   "outputs": [],
   "source": [
    "import pandas as pd\n",
    "import numpy as np\n"
   ]
  },
  {
   "cell_type": "code",
   "execution_count": 5,
   "metadata": {},
   "outputs": [],
   "source": [
    "food_info = pd.read_csv(\"/home/apprenant/simplon_project/food_facts/data/foodfacts.tsv\", sep= '\\t' , low_memory= False)"
   ]
  },
  {
   "cell_type": "code",
   "execution_count": 6,
   "metadata": {},
   "outputs": [],
   "source": [
    "# on limite les données à 10000 lignes elle sont choisit aléatoirement \n",
    "df = food_info.sample(10000) \n"
   ]
  },
  {
   "cell_type": "code",
   "execution_count": 5,
   "metadata": {},
   "outputs": [
    {
     "output_type": "execute_result",
     "data": {
      "text/plain": [
       "array(['code', 'url', 'creator', 'created_t', 'created_datetime',\n",
       "       'last_modified_t', 'last_modified_datetime', 'product_name',\n",
       "       'generic_name', 'quantity', 'packaging', 'packaging_tags',\n",
       "       'brands', 'brands_tags', 'categories', 'categories_tags',\n",
       "       'categories_en', 'origins', 'origins_tags', 'manufacturing_places',\n",
       "       'manufacturing_places_tags', 'labels', 'labels_tags', 'labels_en',\n",
       "       'emb_codes', 'emb_codes_tags', 'first_packaging_code_geo',\n",
       "       'cities', 'cities_tags', 'purchase_places', 'stores', 'countries',\n",
       "       'countries_tags', 'countries_en', 'ingredients_text', 'allergens',\n",
       "       'allergens_en', 'traces', 'traces_tags', 'traces_en',\n",
       "       'serving_size', 'no_nutriments', 'additives_n', 'additives',\n",
       "       'additives_tags', 'additives_en', 'ingredients_from_palm_oil_n',\n",
       "       'ingredients_from_palm_oil', 'ingredients_from_palm_oil_tags',\n",
       "       'ingredients_that_may_be_from_palm_oil_n',\n",
       "       'ingredients_that_may_be_from_palm_oil',\n",
       "       'ingredients_that_may_be_from_palm_oil_tags', 'nutrition_grade_uk',\n",
       "       'nutrition_grade_fr', 'pnns_groups_1', 'pnns_groups_2', 'states',\n",
       "       'states_tags', 'states_en', 'main_category', 'main_category_en',\n",
       "       'image_url', 'image_small_url', 'energy_100g',\n",
       "       'energy-from-fat_100g', 'fat_100g', 'saturated-fat_100g',\n",
       "       '-butyric-acid_100g', '-caproic-acid_100g', '-caprylic-acid_100g',\n",
       "       '-capric-acid_100g', '-lauric-acid_100g', '-myristic-acid_100g',\n",
       "       '-palmitic-acid_100g', '-stearic-acid_100g',\n",
       "       '-arachidic-acid_100g', '-behenic-acid_100g',\n",
       "       '-lignoceric-acid_100g', '-cerotic-acid_100g',\n",
       "       '-montanic-acid_100g', '-melissic-acid_100g',\n",
       "       'monounsaturated-fat_100g', 'polyunsaturated-fat_100g',\n",
       "       'omega-3-fat_100g', '-alpha-linolenic-acid_100g',\n",
       "       '-eicosapentaenoic-acid_100g', '-docosahexaenoic-acid_100g',\n",
       "       'omega-6-fat_100g', '-linoleic-acid_100g',\n",
       "       '-arachidonic-acid_100g', '-gamma-linolenic-acid_100g',\n",
       "       '-dihomo-gamma-linolenic-acid_100g', 'omega-9-fat_100g',\n",
       "       '-oleic-acid_100g', '-elaidic-acid_100g', '-gondoic-acid_100g',\n",
       "       '-mead-acid_100g', '-erucic-acid_100g', '-nervonic-acid_100g',\n",
       "       'trans-fat_100g', 'cholesterol_100g', 'carbohydrates_100g',\n",
       "       'sugars_100g', '-sucrose_100g', '-glucose_100g', '-fructose_100g',\n",
       "       '-lactose_100g', '-maltose_100g', '-maltodextrins_100g',\n",
       "       'starch_100g', 'polyols_100g', 'fiber_100g', 'proteins_100g',\n",
       "       'casein_100g', 'serum-proteins_100g', 'nucleotides_100g',\n",
       "       'salt_100g', 'sodium_100g', 'alcohol_100g', 'vitamin-a_100g',\n",
       "       'beta-carotene_100g', 'vitamin-d_100g', 'vitamin-e_100g',\n",
       "       'vitamin-k_100g', 'vitamin-c_100g', 'vitamin-b1_100g',\n",
       "       'vitamin-b2_100g', 'vitamin-pp_100g', 'vitamin-b6_100g',\n",
       "       'vitamin-b9_100g', 'folates_100g', 'vitamin-b12_100g',\n",
       "       'biotin_100g', 'pantothenic-acid_100g', 'silica_100g',\n",
       "       'bicarbonate_100g', 'potassium_100g', 'chloride_100g',\n",
       "       'calcium_100g', 'phosphorus_100g', 'iron_100g', 'magnesium_100g',\n",
       "       'zinc_100g', 'copper_100g', 'manganese_100g', 'fluoride_100g',\n",
       "       'selenium_100g', 'chromium_100g', 'molybdenum_100g', 'iodine_100g',\n",
       "       'caffeine_100g', 'taurine_100g', 'ph_100g',\n",
       "       'fruits-vegetables-nuts_100g',\n",
       "       'fruits-vegetables-nuts-estimate_100g',\n",
       "       'collagen-meat-protein-ratio_100g', 'cocoa_100g',\n",
       "       'chlorophyl_100g', 'carbon-footprint_100g',\n",
       "       'nutrition-score-fr_100g', 'nutrition-score-uk_100g',\n",
       "       'glycemic-index_100g', 'water-hardness_100g'], dtype=object)"
      ]
     },
     "metadata": {},
     "execution_count": 5
    }
   ],
   "source": [
    "df.columns.values"
   ]
  },
  {
   "cell_type": "markdown",
   "metadata": {},
   "source": [
    "## 1. Sélection des colonnes"
   ]
  },
  {
   "cell_type": "markdown",
   "metadata": {},
   "source": [
    "J'affiche un échantillno de mes données pour analyser la pertinence des différentes colonnes"
   ]
  },
  {
   "cell_type": "code",
   "execution_count": 7,
   "metadata": {
    "tags": []
   },
   "outputs": [
    {
     "output_type": "stream",
     "name": "stdout",
     "text": [
      "                 code                                                url  \\\n287246  4084032643066  http://world-en.openfoodfacts.org/product/4084...   \n304220  5400247010247  http://world-en.openfoodfacts.org/product/5400...   \n55192   0042400028543  http://world-en.openfoodfacts.org/product/0042...   \n326286  7616500013124  http://world-en.openfoodfacts.org/product/7616...   \n291458  4388844162594  http://world-en.openfoodfacts.org/product/4388...   \n\n                   creator   created_t      created_datetime last_modified_t  \\\n287246          agamitsudo  1374001267  2013-07-16T19:01:07Z      1446731941   \n304220              tacite  1426889672  2015-03-20T22:14:32Z      1444164809   \n55192      usda-ndb-import  1489063354  2017-03-09T12:42:34Z      1489063355   \n326286  openfood-ch-import  1486505927  2017-02-07T22:18:47Z      1496764975   \n291458     date-limite-app  1489232286  2017-03-11T11:38:06Z      1490285136   \n\n       last_modified_datetime  \\\n287246   2015-11-05T13:59:01Z   \n304220   2015-10-06T20:53:29Z   \n55192    2017-03-09T12:42:35Z   \n326286   2017-06-06T16:02:55Z   \n291458   2017-03-23T16:05:36Z   \n\n                                             product_name  \\\n287246                                           Pop-corn   \n304220                                          Cassoulet   \n55192   Sweetened Multi-Grain Cereal With Apples & Cin...   \n326286                                             Noxana   \n291458                                        Mini Möhren   \n\n                          generic_name quantity  ...  \\\n287246  maïs éclaté au goût sucré-salé     23 g  ...   \n304220                       Cassoulet    840 g  ...   \n55192                              NaN      NaN  ...   \n326286                             NaN  400 g e  ...   \n291458                             NaN      NaN  ...   \n\n       fruits-vegetables-nuts_100g fruits-vegetables-nuts-estimate_100g  \\\n287246                         NaN                                  NaN   \n304220                         NaN                                  NaN   \n55192                          NaN                                  NaN   \n326286                         NaN                                  NaN   \n291458                         NaN                                  NaN   \n\n       collagen-meat-protein-ratio_100g cocoa_100g chlorophyl_100g  \\\n287246                              NaN        NaN             NaN   \n304220                              NaN        NaN             NaN   \n55192                               NaN        NaN             NaN   \n326286                              NaN       34.0             NaN   \n291458                              NaN        NaN             NaN   \n\n       carbon-footprint_100g nutrition-score-fr_100g nutrition-score-uk_100g  \\\n287246                   NaN                    12.0                    12.0   \n304220                   NaN                     NaN                     NaN   \n55192                    NaN                    15.0                    15.0   \n326286                   NaN                    22.0                    22.0   \n291458                   NaN                     NaN                     NaN   \n\n       glycemic-index_100g water-hardness_100g  \n287246                 NaN                 NaN  \n304220                 NaN                 NaN  \n55192                  NaN                 NaN  \n326286                 NaN                 NaN  \n291458                 NaN                 NaN  \n\n[5 rows x 163 columns]\nIndex(['code', 'url', 'creator', 'created_t', 'created_datetime',\n       'last_modified_t', 'last_modified_datetime', 'product_name',\n       'generic_name', 'quantity',\n       ...\n       'fruits-vegetables-nuts_100g', 'fruits-vegetables-nuts-estimate_100g',\n       'collagen-meat-protein-ratio_100g', 'cocoa_100g', 'chlorophyl_100g',\n       'carbon-footprint_100g', 'nutrition-score-fr_100g',\n       'nutrition-score-uk_100g', 'glycemic-index_100g',\n       'water-hardness_100g'],\n      dtype='object', length=163)\n"
     ]
    }
   ],
   "source": [
    "print(df.head())\n",
    "print(df.columns)"
   ]
  },
  {
   "cell_type": "markdown",
   "metadata": {},
   "source": [
    "Je choisis uniquement les colonnes qui pourraient m'être utiles pour mon étude\n"
   ]
  },
  {
   "cell_type": "markdown",
   "metadata": {},
   "source": [
    "## 2. Valeurs manquantes"
   ]
  },
  {
   "cell_type": "code",
   "execution_count": 8,
   "metadata": {},
   "outputs": [],
   "source": [
    "df = df[['product_name','countries','ingredients_text','additives_n','additives','ingredients_from_palm_oil_n','ingredients_that_may_be_from_palm_oil_n','nutrition_grade_fr','states','energy_100g','fat_100g','sugars_100g','fiber_100g','proteins_100g','salt_100g','nutrition-score-fr_100g']]"
   ]
  },
  {
   "cell_type": "code",
   "execution_count": 9,
   "metadata": {},
   "outputs": [
    {
     "output_type": "stream",
     "name": "stdout",
     "text": [
      "product_name                                505\ncountries                                     6\ningredients_text                           1968\nadditives_n                                1968\nadditives                                  1970\ningredients_from_palm_oil_n                1968\ningredients_that_may_be_from_palm_oil_n    1968\nnutrition_grade_fr                         2833\nstates                                        0\nenergy_100g                                1701\nfat_100g                                   2123\nsugars_100g                                2170\nfiber_100g                                 3824\nproteins_100g                              1749\nsalt_100g                                  1876\nnutrition-score-fr_100g                    2833\ndtype: int64\n(10000, 16)\n"
     ]
    }
   ],
   "source": [
    "print(df.isnull().sum()) \n",
    "print(df.shape)"
   ]
  },
  {
   "cell_type": "markdown",
   "metadata": {},
   "source": [
    "il me manque entre 1700 et 3900 données dans chaque colonnes sauf pour les colonnes contries , states et product_name ou il y a peu ou tres peu de valeurs manquantes"
   ]
  },
  {
   "cell_type": "markdown",
   "metadata": {},
   "source": [
    "### Traitement de product_name"
   ]
  },
  {
   "source": [
    "on supprime les lignes ou la valeur de la colonne product_name est nulle car le but de ses données nettoyer est de les utiliser pour une application donc il faut que le nom du produit apparait"
   ],
   "cell_type": "markdown",
   "metadata": {}
  },
  {
   "cell_type": "code",
   "execution_count": 10,
   "metadata": {},
   "outputs": [],
   "source": [
    "df.drop(columns =\"product_name\", inplace = True)"
   ]
  },
  {
   "source": [
    "### Traitement de ingredients_text"
   ],
   "cell_type": "markdown",
   "metadata": {}
  },
  {
   "cell_type": "code",
   "execution_count": 11,
   "metadata": {
    "scrolled": true
   },
   "outputs": [
    {
     "output_type": "stream",
     "name": "stdout",
     "text": [
      "['Maïs éclaté, huile de colza, sucre, sel, émulsifiant : lécithine de _soja_.'\n 'Sauce (eau, concentré de tomate, farine de blé, sel), haricots blancs précuits 33%, charcuterie et viande 22% (saucisses fumées et saucisson (gras de porc ; maigre et tête de porc ; viandes de dinde et de porc, eau ; viandes séparées mécaniquement de dinde et de porc ; farine de blé ; couenne ; sel ; protéines de lait ; conservateurs : E250, E316 ; stabilisants : E450, E452  protéines de soja ; fibres de pois ; épice ; arômes), viande de porc traitée en salaison (viande de porc ; eau ; sel ; conservateur ; conservateur : E250 ; stabilisants : E451, E452)).'\n 'Corn, wheat and whole grain oat flour, sugar, corn syrup, salt, calcium carbonate, apple juice concentrate, natural flavor, milled corn, dried apples, vitamins c (sodium ascorbate and ascorbic acid), modified wheat starch, cinnamon, yellow 6, niacin (niacinamide), reduced iron, zinc (zinc oxide), vitamin a palmitate, baking soda, vitamin b12, folate (folic acid), yellow 5, vitamin b6 (pyridoxine hydrochloride), vitamin b2 (riboflavin), vitamin b1 (thiamin hydrochloride), vitamin d, red 40, blue 1. bht (to preserve freshness).'\n ...\n 'Cultured milk, cream, nonfat dry milk, and whey, salt, seasonings (dehydrated onions, sugar, hydrolyzed corn protein, dehydrated parsley, monosodium glutamate) sodium phosphate, guar gum, carrageenan, calcium sulfate and carob bean gum.'\n 'Sugar, water, miso (water, soybeans, rice, salt, rice alcohol), apricots, tapioca starch, vinegar, salt, plum concentrate, molasses, pumpkin, onions, sesame oil, garlic powder, ginger, caramel color, citric acid, spices, natural flavor.'\n '                sirop de glucose, saccharose,  eau., agent gélifiant : E406, colorants:  E171, E 120, arôme, acadifiant : E330, conservateur E202']\nSemolina (wheat), durum flour (wheat), niacin, ferrous sulfate (iron), thiamin mononitrate, riboflavin, folic acid.                                                                                                                                                9\nExtra virgin olive oil.                                                                                                                                                                                                                                            9\nAlmonds.                                                                                                                                                                                                                                                           8\nExtra virgin olive oil                                                                                                                                                                                                                                             8\nSoybean oil.                                                                                                                                                                                                                                                       6\n                                                                                                                                                                                                                                                                  ..\nLait pasteurisé de chèvre, sel, ferments lactiques (dont lait), coagulant, conservateur : lysozyme d'oeuf                                                                                                                                                          1\nCitric acid, natural and artificial flavor, potassium citrate, calcium phosphate, aspartame**, maltodextrin, raspberry juice solids, contains less than 2% of: acesulfame potassium, gum arabic, calcium silicate, magnesium oxide, red 40, artificial color, b    1\nWater, pineapple juice concentrate, ascorbic acid (vitamin c)                                                                                                                                                                                                      1\nUnbleached wheat flour (malted barley flour), soybean oil, sesame seeds, bulghur wheat, salt, beet powder and turmeric (added for color)                                                                                                                           1\nGraines de sésame blond                                                                                                                                                                                                                                            1\nName: ingredients_text, Length: 7812, dtype: int64\n"
     ]
    }
   ],
   "source": [
    "print(df.ingredients_text.unique())\n",
    "print(df.ingredients_text.value_counts())"
   ]
  },
  {
   "source": [
    "on ne remplacera pas les valeurs manquantes , on ne peut pas donner la liste des elements du produit"
   ],
   "cell_type": "markdown",
   "metadata": {}
  },
  {
   "cell_type": "code",
   "execution_count": 12,
   "metadata": {},
   "outputs": [
    {
     "output_type": "stream",
     "name": "stdout",
     "text": [
      "[6.50000e+00 7.00000e+00 3.03000e+00 8.00000e+00         nan 1.03400e+01\n 4.62000e+00 8.00000e-01 1.07100e+01 0.00000e+00 6.00000e+00 7.14000e+00\n 4.44000e+00 4.50000e+00 5.00000e-01 1.08000e+01 3.00000e-01 7.06000e+00\n 1.60000e+01 5.60000e+00 1.66700e+01 2.00000e-01 1.78600e+01 1.96400e+01\n 2.22000e+00 7.00000e-01 4.20000e-01 1.56000e+01 3.20000e+01 5.30000e+00\n 4.70000e+00 7.10000e+00 2.00000e+01 1.67000e+00 3.57000e+00 1.25000e+01\n 6.10000e+00 4.00000e+00 4.76000e+00 1.16300e+01 7.80000e+00 7.04000e+00\n 1.64000e+01 5.38000e+00 2.80000e+01 1.23000e+00 9.40000e+00 2.22200e+01\n 8.40000e+00 5.00000e+00 4.55000e+00 1.02600e+01 1.57000e+01 2.30000e+01\n 3.20000e+00 1.20000e+01 2.25000e+00 1.23100e+01 1.63000e+00 1.42900e+01\n 4.92000e+01 1.23900e+01 1.00000e+00 2.54000e+01 8.51000e+00 3.33000e+00\n 3.00000e+00 1.50000e+01 1.15800e+01 1.50000e-01 1.70000e+01 1.23000e+01\n 2.35000e+00 1.10000e+01 2.14300e+01 2.10000e+00 5.50000e+00 5.62000e+00\n 1.60000e+00 2.50000e+00 1.26800e+01 9.10000e-01 9.68000e+00 2.40000e+00\n 2.10000e+01 7.50000e+00 9.93000e+00 2.43000e+01 4.17000e+00 1.14000e+01\n 8.93000e+00 9.41000e+00 1.27300e+01 3.22000e+00 1.51000e+01 3.75000e+00\n 2.70000e+00 3.70000e+00 6.40000e+00 8.85000e+00 5.20000e+00 7.20000e+00\n 2.90000e+00 1.77000e+01 5.40000e+00 1.41000e+00 1.60700e+01 7.81000e+00\n 8.18000e+00 4.10000e+00 1.50000e+00 5.00000e+01 3.60000e+00 8.50000e+00\n 2.63000e+00 7.10000e-01 1.63600e+01 1.14300e+01 3.10000e+00 9.09000e+00\n 2.72700e+01 1.27000e+01 4.29000e+00 8.10000e-01 1.20000e+00 1.18000e+01\n 2.20000e+01 3.80000e+00 8.30000e+00 7.60000e+00 3.08000e+00 7.02000e+00\n 7.69000e+00 2.88000e+00 6.33000e+00 3.30000e+00 7.50000e-01 1.02000e+00\n 1.00000e+01 6.45000e+00 1.30000e+01 6.67000e+00 8.24000e+00 5.88000e+00\n 5.49000e+00 2.73000e+00 7.09000e+00 5.13000e+00 2.14400e+01 1.35000e+01\n 1.00000e-01 3.12500e+01 4.69000e+00 1.10000e+00 4.80000e+00 5.90000e+00\n 2.67000e+00 2.82000e+00 7.30000e+00 1.32100e+01 3.00000e+01 1.16500e+01\n 6.60000e+00 1.33300e+01 1.90000e+01 7.86000e+00 1.83100e+01 9.52000e+00\n 8.81000e+00 9.30000e+00 5.30000e-01 1.64000e+00 7.07000e+00 2.53000e+01\n 3.45000e+00 6.44000e+00 2.85700e+01 5.10000e+00 1.09000e+01 2.78000e+00\n 1.11100e+01 2.99000e+00 7.70000e+00 8.10000e+00 1.02000e+01 1.74000e+00\n 1.15000e+01 1.80000e+01 4.00000e-01 1.29400e+01 2.50000e+01 3.64000e+00\n 7.40000e+00 2.70000e+01 3.33300e+01 3.50000e+00 4.60000e+00 1.01000e+01\n 8.90000e+00 2.11800e+01 1.80000e+00 9.00000e+00 3.21400e+01 6.06000e+00\n 2.80000e+00 1.87500e+01 1.30000e+00 4.40000e+00 8.75000e+00 3.67000e+00\n 1.48000e+01 6.73000e+00 8.30000e-01 2.30000e+00 1.54000e+00 2.10500e+01\n 9.00000e-01 4.42000e+00 2.94000e+00 1.43000e+00 3.12000e+00 1.79000e+01\n 2.66000e+01 2.60000e+01 2.18800e+01 6.78000e+00 1.05300e+01 9.62000e+00\n 4.30000e+00 5.70000e+00 7.55000e+00 2.03000e+01 2.63200e+01 7.42000e+00\n 7.53000e+00 1.19000e+01 1.18000e+00 2.38100e+01 3.40000e+00 8.70000e+00\n 4.12000e+00 6.78600e+01 1.52000e+00 1.64700e+01 5.26000e+00 2.14000e+00\n 2.04000e+00 3.85000e+00 1.32000e+00 2.21000e+00 4.35000e+00 1.55000e+01\n 1.58000e+01 6.70000e+00 1.67000e+01 3.51000e+00 6.90000e+00 8.80000e-01\n 1.68100e+01 6.00000e-01 5.76900e+01 8.89000e+00 6.15000e+00 4.94000e+00\n 1.61000e+00 4.59000e+00 5.33000e+00 3.40000e-01 1.06200e+01 1.06000e+01\n 8.20000e-01 4.65000e+00 3.30000e+01 1.40800e+01 2.35300e+01 9.80000e+00\n 2.58800e+01 1.57900e+01 5.48000e+00 1.96000e+01 9.33000e+00 5.56000e+00\n 2.25400e+01 6.27000e+01 7.70000e-01 4.81000e+00 4.07000e+00 6.25000e+00\n 1.39000e+01 1.52900e+01 8.33000e+00 1.54900e+01 2.53000e+00 6.80000e+00\n 8.57000e+00 1.70600e+01 4.00000e+01 1.45100e+01 1.40000e+00 6.20000e+00\n 1.76500e+01 2.33000e+00 6.92000e+00 1.47100e+01 3.37000e+00 3.77000e+00\n 2.56000e+01 8.60000e+00 1.69600e+01 3.50000e+01 3.99000e+00 1.40000e+01\n 1.33000e+00 2.56400e+01 1.68000e+01 5.36000e+00 8.67000e+00 1.45000e+01\n 2.40000e+01 2.59000e+01 4.89000e+00 3.88000e+00 1.53000e+01 8.20000e+00\n 5.83000e+00 9.73000e+00 5.80000e+00 1.81600e+01 1.97000e+01 2.38000e+01\n 6.50000e-01 1.00000e-04 9.38000e+00 1.13200e+01 2.86000e+00 1.77000e+00\n 2.90900e+01 1.01000e+00 5.22000e+00 8.64000e+00 7.45000e+00 1.45300e+01\n 1.38000e+01 7.05000e+00 2.20000e+00 1.82000e+01 1.38600e+01 1.26500e+01\n 9.22000e+00 1.01400e+01 5.63000e+00 2.67000e+01 3.92000e+00 1.41000e+01\n 7.90000e+00 5.71000e+00 9.26000e+00 1.16700e+01 1.05900e+01 1.06800e+01\n 7.90000e-01 2.56800e+01 2.56000e+00 2.13300e+01 1.34600e+01 2.17000e+01\n 2.00000e+00 2.02000e+00 4.90000e+00 7.41000e+00 1.76000e+01 1.39500e+01\n 1.21600e+01 4.64300e+01 2.39000e+01 1.75000e+01 5.47000e+00 8.77000e+00\n 1.30400e+01 1.47000e+01 1.16000e+00 4.41000e+00 6.98000e+00 8.96000e+00\n 1.04200e+01 7.89000e+00 1.07700e+01 1.22800e+01 8.70000e-01 2.61000e+00\n 5.31000e+00 5.71400e+01 6.30000e+00 9.03000e+00 1.03000e+01 3.60000e+01\n 2.28000e+01 3.52000e+00 5.19000e+00 1.81800e+01 1.73300e+01 6.52000e+00\n 2.18000e+01 4.71000e+00 2.33000e+01 1.26300e+01 5.29000e+00 8.11000e+00\n 7.33000e+00 1.29000e+01 1.92000e+01 1.22000e+01 1.65000e+01 1.04000e+01\n 5.98000e+00 8.85000e+01 3.90000e+00 4.20000e+00 9.43000e+00 1.15000e+00\n 4.88000e+00 9.84000e+00 1.16000e+01 4.67000e+00 1.72000e+01 9.50000e+00\n 3.53000e+00 1.84000e+00 8.47000e+00 1.95000e+01 1.90000e+00 2.28300e+01\n 2.90000e+01 2.60000e+00 2.96000e+00 1.76100e+01 2.31000e+01 6.23000e+00\n 2.29900e+01 2.41000e+01 9.80000e-01 1.96000e+00 1.87000e+01 5.73000e+00\n 1.70000e+00 5.14000e+00 2.32000e+01 1.09100e+01 1.69000e+00 1.41200e+01\n 1.57000e+00 9.60000e+00 2.44000e+00 4.23000e+00 2.37000e+01 1.18800e+01\n 4.61000e+00 1.31000e+01 3.56000e+00 2.06500e+01 6.27000e+00 3.23000e+00\n 1.90500e+01 3.10000e+01 2.85000e+00 9.55000e+00 2.51000e+01 1.75000e+00\n 1.50700e+01 6.20000e-01 1.88000e+01 1.22400e+01 3.58000e+01 6.09000e+00\n 2.47100e+01 9.20000e+00 2.36800e+01 2.14000e+01 9.19000e+00 7.97000e+00\n 4.24000e+00 2.47000e+00 2.33300e+01 7.96000e+00 1.95100e+01 3.41000e+00\n 1.17000e+00 1.28000e+01 1.44000e+01 1.77800e+01 1.00700e+01 9.86000e+00\n 3.66000e+00 1.13000e+01 1.76000e+00 1.17995e+01 1.22000e+00 6.38000e+00\n 6.14000e+00 2.15000e+00 1.56200e+01 1.21000e+01 6.30000e-01 5.77000e+00\n 1.18400e+01 1.11000e+01 2.43900e+01 5.41000e+00 5.66000e+00 5.91000e+00\n 4.66700e+01 3.03600e+01 1.06100e+01 7.59000e+00 9.90000e+00 2.42000e+01\n 1.56000e+00 4.96000e+00 4.20000e+01 8.97000e+00 2.72000e+00 2.36000e+00\n 1.05000e+01 2.48000e+00 6.10000e-01 1.09000e+00 1.89000e+00 1.09800e+01\n 3.57100e+01 2.88900e+01 8.80000e+00 5.05000e+00 1.26000e+01 6.61000e+00\n 1.49000e+01 1.07000e+01 8.00000e+01 1.28000e+00 3.43000e+01 3.28000e+00\n 7.35000e+00 7.32000e+00 1.75400e+01 4.85000e+00 2.94100e+01 1.21200e+01\n 1.17600e+01 8.44000e+00 5.16000e+00 2.74000e+00 3.05000e+00 1.24000e+01\n 2.29000e+01 1.05800e+01 6.27200e+01 6.18000e+00 2.87000e+00 1.45700e+01\n 2.27300e+01 2.21400e+01 2.65000e+00 3.27000e+00 4.16700e+01 2.45000e+00\n 2.00000e-02 2.08000e+01 1.52000e+01 1.84500e+01 2.66700e+01 1.43000e+01\n 4.10000e-01 7.20000e-01 6.83000e+00 3.61000e+00 1.79000e+00 7.72100e+01\n 2.03100e+01 2.19000e+01 3.54000e+00 7.50000e+01 1.25000e+00 2.71000e+00\n 1.29600e+01 6.07000e+00 3.17000e+00 2.38000e+00 1.46000e+01 2.32100e+01\n 2.31000e+00 1.53800e+01 5.08000e+00 9.70000e+00 2.81200e+01 8.82000e+00\n 3.02300e+01 1.41600e+01 1.60000e-01 2.65000e+01 1.11000e+00 2.05400e+01\n 3.04300e+01 9.04000e+00 3.23100e+01 2.30800e+01 7.51000e+00 1.92300e+01\n 6.00000e-02 1.99000e+01 6.41000e+00 2.77800e+01 9.72000e+00 7.84000e+00\n 1.42000e+01 1.12200e+01 4.72000e+00 2.23900e+01 2.05000e+01 1.27000e+00\n 8.16000e+00 2.27000e+00 8.90000e-01 9.10000e+00 4.08000e+00 1.45500e+01\n 9.66000e+00 8.61000e+00 1.15400e+01 8.27000e+00 1.06700e+01 4.70000e+01\n 4.05400e+01 2.85000e+01 1.54800e+01 4.02000e+00 1.27400e+01 5.60000e-01\n 2.64000e+01 1.48100e+01 2.08000e+00 5.43000e+00 7.95000e+00 4.76200e+01\n 1.12000e+01 2.62000e+01 4.02000e+01 3.39000e+00 9.15000e+00 2.52000e+01\n 3.95000e+00 3.15000e+00 1.35700e+01 3.48000e+00 2.08300e+01 7.27000e+00\n 1.63000e+01 1.18900e+01 4.48000e+00 1.32700e+01 1.84000e+01 1.86400e+01\n 1.75700e+01 3.70000e+01 5.34000e+00 7.63000e+00 1.99800e+01 1.94700e+01\n 2.62300e+01 1.82000e+00 9.59000e+00 7.58000e+00 2.17400e+01 2.40000e-01\n 1.20700e+01 1.44700e+01 7.37000e+00 9.32000e+00 3.25000e+00 1.19700e+01\n 2.03000e+00 2.03500e+01 2.50000e-01 1.94400e+01 2.20000e-01 7.78000e+00\n 2.80000e-01 2.43200e+01 7.22000e+00 5.00000e-02 1.28200e+01 2.46000e+01\n 1.88200e+01 1.85000e+01 6.06000e-02 1.04300e+01 1.07000e+00 3.90000e+01\n 3.92900e+01 7.30000e-01 3.17000e+01 8.15000e+00 1.86000e+01 7.60000e-01\n 2.09000e+01 1.76400e+01 4.00000e-03 1.35100e+01 4.30000e+01 1.34000e+01\n 3.48800e+01 3.02000e+01 9.21000e+00 3.75000e+01 9.47000e+00 2.35000e+01\n 7.48000e+00 7.25000e+00 3.33000e+01 1.28400e+01 1.91500e+01 6.63000e+00\n 1.61000e+01 1.03000e+00 5.40000e-01 8.84000e+00 7.73000e+00 1.72000e+00\n 1.01700e+01 1.40400e+01 9.81000e+00 4.58000e+00 1.85800e+01 7.72000e+00\n 2.84000e+01 2.11000e+01 1.28600e+01 3.49000e+00 6.13000e+00 3.88000e+01\n 2.12000e+01 1.35900e+01 8.06000e+00 2.34000e+01 1.65000e+00 2.01000e+00\n 1.46700e+01 3.21000e+00 2.22000e+01 7.08000e+00 4.26000e+00 1.74000e+01\n 3.18200e+01 1.99000e+00 1.46500e+01 9.85000e+00 1.51800e+01 9.30000e-01\n 1.16900e+01 1.17000e+01 6.80000e-01 4.11800e+01 1.31100e+01 9.33000e-01\n 8.13000e+00 1.35300e+01 1.25800e+01 3.18000e+00 7.23000e+00 2.57100e+01\n 2.29400e+01 8.59000e+00 1.13600e+01 2.05900e+01 2.58000e+01 1.69000e+01\n 1.36000e+01 6.70000e-01 4.73000e+00 7.20000e+01 8.56000e+00 2.23000e+01\n 6.40000e-01 1.62000e+01 2.92000e+00 1.02400e+01 2.42000e+00 6.34000e+00\n 4.53000e+00 5.10000e-01 5.90000e-01 1.59000e+00 1.93000e+01 2.78000e+01\n 8.50000e-01 3.80000e+01 4.84000e+00 2.04000e+01 9.54000e+00 1.09400e+01\n 1.20300e+01 6.26000e+00 2.04200e+01 2.45500e+01 7.34000e+00 4.93000e+00\n 1.57200e+01 4.92000e+00 2.28600e+01 1.00000e-02 7.65000e+00 5.67000e+00\n 1.06000e+00 1.03200e+01 1.51500e+01 2.79000e+01 1.06400e+01 2.21000e+01\n 4.04000e+00 9.18000e+00 9.06000e+00 2.26000e+01 8.45000e+00 2.19200e+01\n 3.96000e+00 1.44000e+00 5.97000e+00 1.59300e+01 1.55000e+00 1.57100e+01\n 6.58000e+00 2.45300e+01 2.45000e+01 1.38900e+01 2.36400e+01 1.72400e+01\n 4.28600e+01 1.02900e+01 3.76000e+00 6.88000e+00 3.26000e+00 1.47700e+01\n 1.58900e+01 3.81000e+00 1.97200e+01 6.82000e+00 1.00800e+01 3.24000e+00\n 6.76000e+00 9.69000e+00 1.81000e+01 2.12400e+01 4.64000e+01 1.55600e+01\n 6.42900e+01 3.95000e+01 1.94000e+01 4.60000e-01 2.12800e+01 2.61000e+01\n 2.15000e+01 1.08700e+01 7.43000e+00 5.75000e+00 3.60000e-01 2.64700e+01\n 1.85700e+01 2.45600e+01 2.44200e+01 1.33900e+01 2.72000e+01 8.99000e+00\n 9.23000e+00 6.24000e+00 1.15100e+01 2.47000e+01 2.17000e+00 8.23000e+00\n 3.97000e+00 9.40000e-01 5.35700e+01 2.44000e+01 2.44400e+01 7.80000e-01\n 1.13900e+01 7.14300e+01 1.89000e+01 1.17800e+01 3.15800e+01 2.06300e+01\n 1.94100e+01 1.32400e+01 4.80000e-01 2.12000e+00 2.97000e+00 1.37000e+01\n 3.47800e+01 4.46000e+00 2.25800e+01 8.72000e+00 5.15000e+00 2.34000e+00]\n0.00     1545\n7.14      170\n0.50      152\n25.00     125\n10.00     121\n         ... \n9.54        1\n41.18       1\n4.02        1\n16.70       1\n14.70       1\nName: proteins_100g, Length: 899, dtype: int64\n"
     ]
    }
   ],
   "source": [
    "print(df.proteins_100g.unique())\n",
    "print(df.proteins_100g.value_counts())"
   ]
  },
  {
   "source": [
    "on remplace les valeurs 'nan' par zéro dans les colonnes séléctionnées "
   ],
   "cell_type": "markdown",
   "metadata": {}
  },
  {
   "cell_type": "code",
   "execution_count": 14,
   "metadata": {},
   "outputs": [
    {
     "output_type": "execute_result",
     "data": {
      "text/plain": [
       "            countries                                   ingredients_text  \\\n",
       "287246         France  Maïs éclaté, huile de colza, sucre, sel, émuls...   \n",
       "304220         France  Sauce (eau, concentré de tomate, farine de blé...   \n",
       "55192              US  Corn, wheat and whole grain oat flour, sugar, ...   \n",
       "326286  France,Suisse  Sucre,_noisettes_ 21 %, beurre de cacao, pâte ...   \n",
       "291458          en:FR                                                NaN   \n",
       "...               ...                                                ...   \n",
       "125375             US  Organic carrot, organic curry, organic cilantr...   \n",
       "350867             US  Filtered water, grape pulp, high fructose corn...   \n",
       "82412              US  Cultured milk, cream, nonfat dry milk, and whe...   \n",
       "91752              US  Sugar, water, miso (water, soybeans, rice, sal...   \n",
       "271037         France                  sirop de glucose, saccharose, ...   \n",
       "\n",
       "        additives_n                                          additives  \\\n",
       "287246          1.0   [ mais-eclate -> fr:mais-eclate  ]  [ mais ->...   \n",
       "304220          5.0   [ sauce -> fr:sauce  ]  [ eau -> fr:eau  ]  [...   \n",
       "55192           8.0   [ corn -> en:corn  ]  [ wheat-and-whole-grain...   \n",
       "326286          1.0   [ sucre -> fr:sucre  ]  [ noisettes-21 -> fr:...   \n",
       "291458          NaN                                                NaN   \n",
       "...             ...                                                ...   \n",
       "125375          0.0   [ organic-carrot -> en:organic-carrot  ]  [ c...   \n",
       "350867          1.0   [ filtered-water -> en:filtered-water  ]  [ w...   \n",
       "82412           4.0   [ cultured-milk -> en:cultured-milk  ]  [ mil...   \n",
       "91752           3.0   [ sugar -> en:sugar  ]  [ water -> en:water  ...   \n",
       "271037          5.0   [ sirop-de-glucose -> fr:sirop-de-glucose  ] ...   \n",
       "\n",
       "        ingredients_from_palm_oil_n  ingredients_that_may_be_from_palm_oil_n  \\\n",
       "287246                          0.0                                      0.0   \n",
       "304220                          0.0                                      0.0   \n",
       "55192                           0.0                                      0.0   \n",
       "326286                          0.0                                      0.0   \n",
       "291458                          0.0                                      0.0   \n",
       "...                             ...                                      ...   \n",
       "125375                          0.0                                      0.0   \n",
       "350867                          0.0                                      0.0   \n",
       "82412                           0.0                                      0.0   \n",
       "91752                           0.0                                      0.0   \n",
       "271037                          0.0                                      0.0   \n",
       "\n",
       "       nutrition_grade_fr                                             states  \\\n",
       "287246                  d  en:to-be-checked, en:complete, en:nutrition-fa...   \n",
       "304220                NaN  en:to-be-checked, en:complete, en:nutrition-fa...   \n",
       "55192                   d  en:to-be-completed, en:nutrition-facts-complet...   \n",
       "326286                  e  en:to-be-checked, en:complete, en:nutrition-fa...   \n",
       "291458                NaN  en:to-be-completed, en:nutrition-facts-to-be-c...   \n",
       "...                   ...                                                ...   \n",
       "125375                NaN  en:to-be-completed, en:nutrition-facts-complet...   \n",
       "350867                NaN  en:to-be-completed, en:nutrition-facts-complet...   \n",
       "82412                   d  en:to-be-completed, en:nutrition-facts-complet...   \n",
       "91752                   e  en:to-be-completed, en:nutrition-facts-complet...   \n",
       "271037                NaN  en:to-be-checked, en:complete, en:nutrition-fa...   \n",
       "\n",
       "        energy_100g  fat_100g  sugars_100g  fiber_100g  proteins_100g  \\\n",
       "287246       1890.0     24.30        20.50        12.0           6.50   \n",
       "304220        471.0      4.50         0.00         0.0           7.00   \n",
       "55192        1648.0      3.03        48.48         3.0           3.03   \n",
       "326286       2423.0     40.00        43.00         3.5           8.00   \n",
       "291458          NaN      0.00         0.00         0.0           0.00   \n",
       "...             ...       ...          ...         ...            ...   \n",
       "125375          0.0      0.00         0.00         0.0           0.00   \n",
       "350867        259.0      0.00        15.50         0.0           0.00   \n",
       "82412         699.0     16.67         3.33         0.0           3.33   \n",
       "91752         862.0      0.00        47.06         0.0           0.00   \n",
       "271037          NaN      0.00         0.00         0.0           0.00   \n",
       "\n",
       "        salt_100g  nutrition-score-fr_100g  \n",
       "287246    1.52400                     12.0  \n",
       "304220    0.00000                      0.0  \n",
       "55192     1.15570                     15.0  \n",
       "326286    0.15000                     22.0  \n",
       "291458    0.00000                      0.0  \n",
       "...           ...                      ...  \n",
       "125375    7.55396                      0.0  \n",
       "350867    0.07112                      0.0  \n",
       "82412     1.35382                     17.0  \n",
       "91752     2.09296                     21.0  \n",
       "271037    0.00000                      0.0  \n",
       "\n",
       "[10000 rows x 15 columns]"
      ],
      "text/html": "<div>\n<style scoped>\n    .dataframe tbody tr th:only-of-type {\n        vertical-align: middle;\n    }\n\n    .dataframe tbody tr th {\n        vertical-align: top;\n    }\n\n    .dataframe thead th {\n        text-align: right;\n    }\n</style>\n<table border=\"1\" class=\"dataframe\">\n  <thead>\n    <tr style=\"text-align: right;\">\n      <th></th>\n      <th>countries</th>\n      <th>ingredients_text</th>\n      <th>additives_n</th>\n      <th>additives</th>\n      <th>ingredients_from_palm_oil_n</th>\n      <th>ingredients_that_may_be_from_palm_oil_n</th>\n      <th>nutrition_grade_fr</th>\n      <th>states</th>\n      <th>energy_100g</th>\n      <th>fat_100g</th>\n      <th>sugars_100g</th>\n      <th>fiber_100g</th>\n      <th>proteins_100g</th>\n      <th>salt_100g</th>\n      <th>nutrition-score-fr_100g</th>\n    </tr>\n  </thead>\n  <tbody>\n    <tr>\n      <th>287246</th>\n      <td>France</td>\n      <td>Maïs éclaté, huile de colza, sucre, sel, émuls...</td>\n      <td>1.0</td>\n      <td>[ mais-eclate -&gt; fr:mais-eclate  ]  [ mais -&gt;...</td>\n      <td>0.0</td>\n      <td>0.0</td>\n      <td>d</td>\n      <td>en:to-be-checked, en:complete, en:nutrition-fa...</td>\n      <td>1890.0</td>\n      <td>24.30</td>\n      <td>20.50</td>\n      <td>12.0</td>\n      <td>6.50</td>\n      <td>1.52400</td>\n      <td>12.0</td>\n    </tr>\n    <tr>\n      <th>304220</th>\n      <td>France</td>\n      <td>Sauce (eau, concentré de tomate, farine de blé...</td>\n      <td>5.0</td>\n      <td>[ sauce -&gt; fr:sauce  ]  [ eau -&gt; fr:eau  ]  [...</td>\n      <td>0.0</td>\n      <td>0.0</td>\n      <td>NaN</td>\n      <td>en:to-be-checked, en:complete, en:nutrition-fa...</td>\n      <td>471.0</td>\n      <td>4.50</td>\n      <td>0.00</td>\n      <td>0.0</td>\n      <td>7.00</td>\n      <td>0.00000</td>\n      <td>0.0</td>\n    </tr>\n    <tr>\n      <th>55192</th>\n      <td>US</td>\n      <td>Corn, wheat and whole grain oat flour, sugar, ...</td>\n      <td>8.0</td>\n      <td>[ corn -&gt; en:corn  ]  [ wheat-and-whole-grain...</td>\n      <td>0.0</td>\n      <td>0.0</td>\n      <td>d</td>\n      <td>en:to-be-completed, en:nutrition-facts-complet...</td>\n      <td>1648.0</td>\n      <td>3.03</td>\n      <td>48.48</td>\n      <td>3.0</td>\n      <td>3.03</td>\n      <td>1.15570</td>\n      <td>15.0</td>\n    </tr>\n    <tr>\n      <th>326286</th>\n      <td>France,Suisse</td>\n      <td>Sucre,_noisettes_ 21 %, beurre de cacao, pâte ...</td>\n      <td>1.0</td>\n      <td>[ sucre -&gt; fr:sucre  ]  [ noisettes-21 -&gt; fr:...</td>\n      <td>0.0</td>\n      <td>0.0</td>\n      <td>e</td>\n      <td>en:to-be-checked, en:complete, en:nutrition-fa...</td>\n      <td>2423.0</td>\n      <td>40.00</td>\n      <td>43.00</td>\n      <td>3.5</td>\n      <td>8.00</td>\n      <td>0.15000</td>\n      <td>22.0</td>\n    </tr>\n    <tr>\n      <th>291458</th>\n      <td>en:FR</td>\n      <td>NaN</td>\n      <td>NaN</td>\n      <td>NaN</td>\n      <td>0.0</td>\n      <td>0.0</td>\n      <td>NaN</td>\n      <td>en:to-be-completed, en:nutrition-facts-to-be-c...</td>\n      <td>NaN</td>\n      <td>0.00</td>\n      <td>0.00</td>\n      <td>0.0</td>\n      <td>0.00</td>\n      <td>0.00000</td>\n      <td>0.0</td>\n    </tr>\n    <tr>\n      <th>...</th>\n      <td>...</td>\n      <td>...</td>\n      <td>...</td>\n      <td>...</td>\n      <td>...</td>\n      <td>...</td>\n      <td>...</td>\n      <td>...</td>\n      <td>...</td>\n      <td>...</td>\n      <td>...</td>\n      <td>...</td>\n      <td>...</td>\n      <td>...</td>\n      <td>...</td>\n    </tr>\n    <tr>\n      <th>125375</th>\n      <td>US</td>\n      <td>Organic carrot, organic curry, organic cilantr...</td>\n      <td>0.0</td>\n      <td>[ organic-carrot -&gt; en:organic-carrot  ]  [ c...</td>\n      <td>0.0</td>\n      <td>0.0</td>\n      <td>NaN</td>\n      <td>en:to-be-completed, en:nutrition-facts-complet...</td>\n      <td>0.0</td>\n      <td>0.00</td>\n      <td>0.00</td>\n      <td>0.0</td>\n      <td>0.00</td>\n      <td>7.55396</td>\n      <td>0.0</td>\n    </tr>\n    <tr>\n      <th>350867</th>\n      <td>US</td>\n      <td>Filtered water, grape pulp, high fructose corn...</td>\n      <td>1.0</td>\n      <td>[ filtered-water -&gt; en:filtered-water  ]  [ w...</td>\n      <td>0.0</td>\n      <td>0.0</td>\n      <td>NaN</td>\n      <td>en:to-be-completed, en:nutrition-facts-complet...</td>\n      <td>259.0</td>\n      <td>0.00</td>\n      <td>15.50</td>\n      <td>0.0</td>\n      <td>0.00</td>\n      <td>0.07112</td>\n      <td>0.0</td>\n    </tr>\n    <tr>\n      <th>82412</th>\n      <td>US</td>\n      <td>Cultured milk, cream, nonfat dry milk, and whe...</td>\n      <td>4.0</td>\n      <td>[ cultured-milk -&gt; en:cultured-milk  ]  [ mil...</td>\n      <td>0.0</td>\n      <td>0.0</td>\n      <td>d</td>\n      <td>en:to-be-completed, en:nutrition-facts-complet...</td>\n      <td>699.0</td>\n      <td>16.67</td>\n      <td>3.33</td>\n      <td>0.0</td>\n      <td>3.33</td>\n      <td>1.35382</td>\n      <td>17.0</td>\n    </tr>\n    <tr>\n      <th>91752</th>\n      <td>US</td>\n      <td>Sugar, water, miso (water, soybeans, rice, sal...</td>\n      <td>3.0</td>\n      <td>[ sugar -&gt; en:sugar  ]  [ water -&gt; en:water  ...</td>\n      <td>0.0</td>\n      <td>0.0</td>\n      <td>e</td>\n      <td>en:to-be-completed, en:nutrition-facts-complet...</td>\n      <td>862.0</td>\n      <td>0.00</td>\n      <td>47.06</td>\n      <td>0.0</td>\n      <td>0.00</td>\n      <td>2.09296</td>\n      <td>21.0</td>\n    </tr>\n    <tr>\n      <th>271037</th>\n      <td>France</td>\n      <td>sirop de glucose, saccharose, ...</td>\n      <td>5.0</td>\n      <td>[ sirop-de-glucose -&gt; fr:sirop-de-glucose  ] ...</td>\n      <td>0.0</td>\n      <td>0.0</td>\n      <td>NaN</td>\n      <td>en:to-be-checked, en:complete, en:nutrition-fa...</td>\n      <td>NaN</td>\n      <td>0.00</td>\n      <td>0.00</td>\n      <td>0.0</td>\n      <td>0.00</td>\n      <td>0.00000</td>\n      <td>0.0</td>\n    </tr>\n  </tbody>\n</table>\n<p>10000 rows × 15 columns</p>\n</div>"
     },
     "metadata": {},
     "execution_count": 14
    }
   ],
   "source": [
    "list = ['ingredients_from_palm_oil_n','ingredients_that_may_be_from_palm_oil_n','fat_100g','sugars_100g','fiber_100g','proteins_100g','salt_100g','nutrition-score-fr_100g']\n",
    "def nan_to_value(df, list , v) : \n",
    "    \"\"\"function to replace nan values by another one in several columns\"\"\"     \n",
    "    d = {value:v for value in list}\n",
    "    df.fillna(d , inplace = True)\n",
    "    return df\n",
    "nan_to_value(df, list , 0)\n"
   ]
  },
  {
   "cell_type": "markdown",
   "metadata": {},
   "source": [
    "### Conclusion sur les valeurs manquantes "
   ]
  },
  {
   "cell_type": "markdown",
   "metadata": {},
   "source": [
    "J'ai gardé une grande partie des données il reste encore des valeurs manquantes mais celle ci peuvent etre remplit , on s'occupera de ca un peu plus tard"
   ]
  },
  {
   "source": [
    "## 3. Traitement des dates"
   ],
   "cell_type": "markdown",
   "metadata": {}
  },
  {
   "cell_type": "code",
   "execution_count": 15,
   "metadata": {},
   "outputs": [
    {
     "output_type": "stream",
     "name": "stdout",
     "text": [
      "countries                                   object\ningredients_text                            object\nadditives_n                                float64\nadditives                                   object\ningredients_from_palm_oil_n                float64\ningredients_that_may_be_from_palm_oil_n    float64\nnutrition_grade_fr                          object\nstates                                      object\nenergy_100g                                float64\nfat_100g                                   float64\nsugars_100g                                float64\nfiber_100g                                 float64\nproteins_100g                              float64\nsalt_100g                                  float64\nnutrition-score-fr_100g                    float64\ndtype: object\n"
     ]
    }
   ],
   "source": [
    "print(df.dtypes)\n"
   ]
  },
  {
   "source": [
    "Aucune de mes colonnes ne correspond à une date, je n'ai donc pas à faire de traitement"
   ],
   "cell_type": "markdown",
   "metadata": {}
  },
  {
   "source": [
    "## 4. Traitement des doublons "
   ],
   "cell_type": "markdown",
   "metadata": {}
  },
  {
   "cell_type": "code",
   "execution_count": 16,
   "metadata": {},
   "outputs": [
    {
     "output_type": "stream",
     "name": "stdout",
     "text": [
      "False    9101\nTrue      899\ndtype: int64\n"
     ]
    }
   ],
   "source": [
    "print(df.duplicated().value_counts())"
   ]
  },
  {
   "source": [
    "on peut voir qu'il y a des doublons on va les supprimes"
   ],
   "cell_type": "markdown",
   "metadata": {}
  },
  {
   "cell_type": "code",
   "execution_count": 17,
   "metadata": {},
   "outputs": [],
   "source": [
    "df = df.drop_duplicates(keep= 'first')"
   ]
  },
  {
   "source": [
    "on relance la ligne pour verifier que les doublons sont supprimés"
   ],
   "cell_type": "markdown",
   "metadata": {}
  },
  {
   "cell_type": "code",
   "execution_count": 18,
   "metadata": {},
   "outputs": [
    {
     "output_type": "stream",
     "name": "stdout",
     "text": [
      "False    9101\ndtype: int64\n"
     ]
    }
   ],
   "source": [
    "print(df.duplicated().value_counts())"
   ]
  },
  {
   "source": [
    "Les doulons on bien été supprimés"
   ],
   "cell_type": "markdown",
   "metadata": {}
  },
  {
   "source": [
    "## 5. Consistance des données "
   ],
   "cell_type": "markdown",
   "metadata": {}
  },
  {
   "source": [
    "on verifie que les valeurs soit corects "
   ],
   "cell_type": "markdown",
   "metadata": {}
  },
  {
   "cell_type": "code",
   "execution_count": 53,
   "metadata": {
    "tags": []
   },
   "outputs": [],
   "source": [
    "def inconsistant_value(dataframe , column):\n",
    "    \"\"\"function to check if values in data are inconsistant \"\"\"\n",
    "    df = dataframe[column]\n",
    "    for value in df :\n",
    "        if value < 0 or value > 100 :\n",
    "            print(value)\n",
    "\n",
    "def nutri_score(dataframe, column) : \n",
    "    \"\"\"function to check if value in column nutrition_score are isconsistant \"\"\"\n",
    "    df = dataframe[column]\n",
    "    for value in df :\n",
    "        if value < -15 or value > 40 :\n",
    "            print(value)\n"
   ]
  },
  {
   "source": [
    "verifions les valeurs de chaque colonnes "
   ],
   "cell_type": "markdown",
   "metadata": {}
  },
  {
   "cell_type": "code",
   "execution_count": 44,
   "metadata": {},
   "outputs": [],
   "source": [
    "inconsistant_value(df,'ingredients_from_palm_oil_n')"
   ]
  },
  {
   "source": [
    "pas de valeur incoherante dans la colonne ingredients_from_palm_oil_n"
   ],
   "cell_type": "markdown",
   "metadata": {}
  },
  {
   "cell_type": "code",
   "execution_count": 45,
   "metadata": {},
   "outputs": [],
   "source": [
    "inconsistant_value(df,'ingredients_that_may_be_from_palm_oil_n')"
   ]
  },
  {
   "source": [
    "pas de valeur incoherante dans la colonne ingredients_that_may_be_from_palm_oil_n"
   ],
   "cell_type": "markdown",
   "metadata": {}
  },
  {
   "cell_type": "code",
   "execution_count": 46,
   "metadata": {},
   "outputs": [],
   "source": [
    "inconsistant_value(df , 'fat_100g')"
   ]
  },
  {
   "source": [
    "pas de valeur incoherante dans la colonne fat_100g"
   ],
   "cell_type": "markdown",
   "metadata": {}
  },
  {
   "cell_type": "code",
   "execution_count": 48,
   "metadata": {},
   "outputs": [],
   "source": [
    "inconsistant_value(df, 'sugars_100g')"
   ]
  },
  {
   "source": [
    "pas de valeur incoherante dans la colonne sugar_100g"
   ],
   "cell_type": "markdown",
   "metadata": {}
  },
  {
   "cell_type": "code",
   "execution_count": 55,
   "metadata": {},
   "outputs": [
    {
     "output_type": "stream",
     "name": "stdout",
     "text": [
      "166.7\n"
     ]
    }
   ],
   "source": [
    "inconsistant_value(df, 'fiber_100g')"
   ]
  },
  {
   "source": [
    "dans la colonne fiber_100g on a une valeur incoherente donc on va supprimer la ligne"
   ],
   "cell_type": "markdown",
   "metadata": {}
  },
  {
   "cell_type": "code",
   "execution_count": 56,
   "metadata": {},
   "outputs": [],
   "source": [
    "inconsistant_value(df, 'proteins_100g')"
   ]
  },
  {
   "source": [
    "pas de valeur incoherante dans la colonne sugar_100g"
   ],
   "cell_type": "markdown",
   "metadata": {}
  },
  {
   "cell_type": "code",
   "execution_count": 57,
   "metadata": {},
   "outputs": [],
   "source": [
    "nutri_score(df, 'nutrition-score-fr_100g')"
   ]
  },
  {
   "cell_type": "code",
   "execution_count": null,
   "metadata": {},
   "outputs": [],
   "source": [
    "pas de valeur incohérente dans la colonne nutrition_score-fr_100g"
   ]
  }
 ],
 "metadata": {
  "kernelspec": {
   "display_name": "Python 3",
   "language": "python",
   "name": "python3"
  },
  "language_info": {
   "codemirror_mode": {
    "name": "ipython",
    "version": 3
   },
   "file_extension": ".py",
   "mimetype": "text/x-python",
   "name": "python",
   "nbconvert_exporter": "python",
   "pygments_lexer": "ipython3",
   "version": "3.8.8-final"
  }
 },
 "nbformat": 4,
 "nbformat_minor": 2
}